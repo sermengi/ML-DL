{
  "nbformat": 4,
  "nbformat_minor": 0,
  "metadata": {
    "colab": {
      "name": "Fashion_MNIST.ipynb",
      "provenance": []
    },
    "kernelspec": {
      "name": "python3",
      "display_name": "Python 3"
    }
  },
  "cells": [
    {
      "cell_type": "code",
      "metadata": {
        "id": "78dKUYouyBBY",
        "colab_type": "code",
        "colab": {
          "base_uri": "https://localhost:8080/",
          "height": 71
        },
        "outputId": "f08aa978-e9d8-45cd-c87f-4b1b77b05186"
      },
      "source": [
        "import numpy as np\n",
        "import pandas as pd\n",
        "import matplotlib.pyplot as plt\n",
        "import seaborn as sns\n",
        "\n",
        "from sklearn.metrics import confusion_matrix,classification_report\n",
        "\n",
        "import tensorflow as tf\n",
        "from tensorflow.keras.layers import Input,Conv2D,Dense,Flatten,Dropout\n",
        "from tensorflow.keras.models import Model"
      ],
      "execution_count": 26,
      "outputs": [
        {
          "output_type": "stream",
          "text": [
            "/usr/local/lib/python3.6/dist-packages/statsmodels/tools/_testing.py:19: FutureWarning: pandas.util.testing is deprecated. Use the functions in the public API at pandas.testing instead.\n",
            "  import pandas.util.testing as tm\n"
          ],
          "name": "stderr"
        }
      ]
    },
    {
      "cell_type": "markdown",
      "metadata": {
        "id": "X3GtdYVtymfr",
        "colab_type": "text"
      },
      "source": [
        "## Data Loading"
      ]
    },
    {
      "cell_type": "code",
      "metadata": {
        "id": "jjW2GT4Byint",
        "colab_type": "code",
        "colab": {
          "base_uri": "https://localhost:8080/",
          "height": 34
        },
        "outputId": "d7ebf16c-4c94-4e98-a775-25c52cdd378a"
      },
      "source": [
        "fashion_mnist = tf.keras.datasets.fashion_mnist\n",
        "\n",
        "(X_train,y_train),(X_test,y_test) = fashion_mnist.load_data()\n",
        "X_train, X_test = X_train / 255.0,X_test/255.0\n",
        "print(X_train.shape)"
      ],
      "execution_count": 6,
      "outputs": [
        {
          "output_type": "stream",
          "text": [
            "(60000, 28, 28)\n"
          ],
          "name": "stdout"
        }
      ]
    },
    {
      "cell_type": "code",
      "metadata": {
        "id": "07i52nXezEQi",
        "colab_type": "code",
        "colab": {
          "base_uri": "https://localhost:8080/",
          "height": 34
        },
        "outputId": "cdec0bea-131b-42f2-8b06-8745b62245b3"
      },
      "source": [
        "# Conv layer expects: HxWxC\n",
        "X_train = np.expand_dims(X_train,-1)\n",
        "X_test = np.expand_dims(X_test,-1)\n",
        "print(X_train.shape)"
      ],
      "execution_count": 7,
      "outputs": [
        {
          "output_type": "stream",
          "text": [
            "(60000, 28, 28, 1)\n"
          ],
          "name": "stdout"
        }
      ]
    },
    {
      "cell_type": "code",
      "metadata": {
        "id": "TGahqVnNzh04",
        "colab_type": "code",
        "colab": {
          "base_uri": "https://localhost:8080/",
          "height": 34
        },
        "outputId": "2e439a3e-7f51-4866-98da-fc01282f621c"
      },
      "source": [
        "num_class = len(set(y_train))\n",
        "print('Number of classes for fashion MNIST: {}'.format(len(set(y_train))))"
      ],
      "execution_count": 15,
      "outputs": [
        {
          "output_type": "stream",
          "text": [
            "Number of classes for fashion MNIST: 10\n"
          ],
          "name": "stdout"
        }
      ]
    },
    {
      "cell_type": "markdown",
      "metadata": {
        "id": "Fia97Bka0P-p",
        "colab_type": "text"
      },
      "source": [
        "## Model"
      ]
    },
    {
      "cell_type": "code",
      "metadata": {
        "id": "QDxlMQVu0AWS",
        "colab_type": "code",
        "colab": {}
      },
      "source": [
        "i  = Input(shape=X_train[0].shape)\n",
        "x = Conv2D(32,kernel_size=(3,3),strides=2,activation='relu')(i)\n",
        "x = Conv2D(64,kernel_size=(3,3),strides=2,activation='relu')(x)\n",
        "x = Conv2D(128,kernel_size=(3,3),strides=2,activation='relu')(x)\n",
        "x = Flatten()(x)\n",
        "x = Dropout(0.2)(x)\n",
        "x = Dense(512,activation='relu')(x)\n",
        "x = Dropout(0.2)(x)\n",
        "x = Dense(num_class,activation='softmax')(x)\n",
        "\n",
        "model = Model(i,x)"
      ],
      "execution_count": 0,
      "outputs": []
    },
    {
      "cell_type": "code",
      "metadata": {
        "id": "3BMEgk5e0WoW",
        "colab_type": "code",
        "colab": {}
      },
      "source": [
        "model.compile(optimizer='adam',\n",
        "              loss='sparse_categorical_crossentropy',\n",
        "              metrics=['accuracy'])"
      ],
      "execution_count": 0,
      "outputs": []
    },
    {
      "cell_type": "code",
      "metadata": {
        "id": "9gM_xksv0YI-",
        "colab_type": "code",
        "colab": {
          "base_uri": "https://localhost:8080/",
          "height": 544
        },
        "outputId": "a77bbc89-f11a-46ac-e123-0d93ff9c9b4d"
      },
      "source": [
        "model.fit(X_train,y_train,\n",
        "          validation_data=(X_test,y_test),epochs=15)"
      ],
      "execution_count": 18,
      "outputs": [
        {
          "output_type": "stream",
          "text": [
            "Epoch 1/15\n",
            "1875/1875 [==============================] - 26s 14ms/step - loss: 0.5185 - accuracy: 0.8075 - val_loss: 0.4107 - val_accuracy: 0.8387\n",
            "Epoch 2/15\n",
            "1875/1875 [==============================] - 26s 14ms/step - loss: 0.3641 - accuracy: 0.8627 - val_loss: 0.3543 - val_accuracy: 0.8696\n",
            "Epoch 3/15\n",
            "1875/1875 [==============================] - 26s 14ms/step - loss: 0.3175 - accuracy: 0.8799 - val_loss: 0.3254 - val_accuracy: 0.8809\n",
            "Epoch 4/15\n",
            "1875/1875 [==============================] - 25s 14ms/step - loss: 0.2841 - accuracy: 0.8920 - val_loss: 0.3039 - val_accuracy: 0.8888\n",
            "Epoch 5/15\n",
            "1875/1875 [==============================] - 26s 14ms/step - loss: 0.2575 - accuracy: 0.9016 - val_loss: 0.3047 - val_accuracy: 0.8891\n",
            "Epoch 6/15\n",
            "1875/1875 [==============================] - 26s 14ms/step - loss: 0.2340 - accuracy: 0.9105 - val_loss: 0.2927 - val_accuracy: 0.8945\n",
            "Epoch 7/15\n",
            "1875/1875 [==============================] - 26s 14ms/step - loss: 0.2172 - accuracy: 0.9175 - val_loss: 0.2929 - val_accuracy: 0.8985\n",
            "Epoch 8/15\n",
            "1875/1875 [==============================] - 26s 14ms/step - loss: 0.1994 - accuracy: 0.9240 - val_loss: 0.3249 - val_accuracy: 0.8912\n",
            "Epoch 9/15\n",
            "1875/1875 [==============================] - 26s 14ms/step - loss: 0.1866 - accuracy: 0.9292 - val_loss: 0.2972 - val_accuracy: 0.8994\n",
            "Epoch 10/15\n",
            "1875/1875 [==============================] - 26s 14ms/step - loss: 0.1729 - accuracy: 0.9335 - val_loss: 0.3010 - val_accuracy: 0.9006\n",
            "Epoch 11/15\n",
            "1875/1875 [==============================] - 26s 14ms/step - loss: 0.1624 - accuracy: 0.9383 - val_loss: 0.3338 - val_accuracy: 0.8943\n",
            "Epoch 12/15\n",
            "1875/1875 [==============================] - 25s 14ms/step - loss: 0.1527 - accuracy: 0.9416 - val_loss: 0.3376 - val_accuracy: 0.8953\n",
            "Epoch 13/15\n",
            "1875/1875 [==============================] - 26s 14ms/step - loss: 0.1442 - accuracy: 0.9445 - val_loss: 0.3303 - val_accuracy: 0.8987\n",
            "Epoch 14/15\n",
            "1875/1875 [==============================] - 26s 14ms/step - loss: 0.1375 - accuracy: 0.9474 - val_loss: 0.3547 - val_accuracy: 0.8980\n",
            "Epoch 15/15\n",
            "1875/1875 [==============================] - 26s 14ms/step - loss: 0.1289 - accuracy: 0.9506 - val_loss: 0.3598 - val_accuracy: 0.8997\n"
          ],
          "name": "stdout"
        },
        {
          "output_type": "execute_result",
          "data": {
            "text/plain": [
              "<tensorflow.python.keras.callbacks.History at 0x7f81d7bc2518>"
            ]
          },
          "metadata": {
            "tags": []
          },
          "execution_count": 18
        }
      ]
    },
    {
      "cell_type": "markdown",
      "metadata": {
        "id": "Zw2azk3C5FWO",
        "colab_type": "text"
      },
      "source": [
        "## Model Evaluate"
      ]
    },
    {
      "cell_type": "code",
      "metadata": {
        "id": "b9MEyffi2tch",
        "colab_type": "code",
        "colab": {
          "base_uri": "https://localhost:8080/",
          "height": 282
        },
        "outputId": "f7833bac-2947-43b3-8ec8-a59b3d224e9b"
      },
      "source": [
        "losses = pd.DataFrame(model.history.history)\n",
        "plt.plot(losses['loss'],label='loss')\n",
        "plt.plot(losses['val_loss'],label='val_loss')"
      ],
      "execution_count": 19,
      "outputs": [
        {
          "output_type": "execute_result",
          "data": {
            "text/plain": [
              "[<matplotlib.lines.Line2D at 0x7f81d47c6b38>]"
            ]
          },
          "metadata": {
            "tags": []
          },
          "execution_count": 19
        },
        {
          "output_type": "display_data",
          "data": {
            "image/png": "[encoded data removed]",
            "text/plain": [
              "<Figure size 432x288 with 1 Axes>"
            ]
          },
          "metadata": {
            "tags": [],
            "needs_background": "light"
          }
        }
      ]
    },
    {
      "cell_type": "code",
      "metadata": {
        "id": "GtUQ167X481q",
        "colab_type": "code",
        "colab": {
          "base_uri": "https://localhost:8080/",
          "height": 282
        },
        "outputId": "14dc5277-4d88-4897-b393-4988419ec7ec"
      },
      "source": [
        "plt.plot(losses['accuracy'],label='accuracy')\n",
        "plt.plot(losses['val_accuracy'],label='val_accuracy')"
      ],
      "execution_count": 20,
      "outputs": [
        {
          "output_type": "execute_result",
          "data": {
            "text/plain": [
              "[<matplotlib.lines.Line2D at 0x7f81d34099b0>]"
            ]
          },
          "metadata": {
            "tags": []
          },
          "execution_count": 20
        },
        {
          "output_type": "display_data",
          "data": {
            "image/png": "[encoded data removed]",
            "text/plain": [
              "<Figure size 432x288 with 1 Axes>"
            ]
          },
          "metadata": {
            "tags": [],
            "needs_background": "light"
          }
        }
      ]
    },
    {
      "cell_type": "code",
      "metadata": {
        "id": "85rKJiWI5Mp7",
        "colab_type": "code",
        "colab": {
          "base_uri": "https://localhost:8080/",
          "height": 187
        },
        "outputId": "7bfe887d-3428-4e78-b0bb-83620717c79e"
      },
      "source": [
        "pred = model.predict(X_test).argmax(axis=1)\n",
        "print(confusion_matrix(y_test,pred))"
      ],
      "execution_count": 24,
      "outputs": [
        {
          "output_type": "stream",
          "text": [
            "[[847   0  21  21   3   2 103   0   3   0]\n",
            " [  2 974   1  14   2   0   5   0   2   0]\n",
            " [ 13   0 853  13  72   1  47   0   1   0]\n",
            " [ 12   5  21 911  28   0  22   0   1   0]\n",
            " [  1   1  49  28 867   0  53   0   1   0]\n",
            " [  0   0   0   2   0 982   0   7   1   8]\n",
            " [108   0  70  28 103   0 682   0   9   0]\n",
            " [  0   0   0   0   0  22   0 957   0  21]\n",
            " [  1   0   3   3   4   5   6   1 975   2]\n",
            " [  1   0   0   0   0   9   0  40   1 949]]\n"
          ],
          "name": "stdout"
        }
      ]
    },
    {
      "cell_type": "code",
      "metadata": {
        "id": "OKfgpYf_6Jp7",
        "colab_type": "code",
        "colab": {
          "base_uri": "https://localhost:8080/",
          "height": 500
        },
        "outputId": "2698dddf-57ec-48f5-deb8-efbc0cdf29e5"
      },
      "source": [
        "plt.figure(figsize=(12,8))\n",
        "sns.heatmap(confusion_matrix(y_test,pred),annot=True,cmap='coolwarm')"
      ],
      "execution_count": 29,
      "outputs": [
        {
          "output_type": "execute_result",
          "data": {
            "text/plain": [
              "<matplotlib.axes._subplots.AxesSubplot at 0x7f81cf6a42b0>"
            ]
          },
          "metadata": {
            "tags": []
          },
          "execution_count": 29
        },
        {
          "output_type": "display_data",
          "data": {
            "image/png": "[encoded data removed]",
            "text/plain": [
              "<Figure size 864x576 with 2 Axes>"
            ]
          },
          "metadata": {
            "tags": [],
            "needs_background": "light"
          }
        }
      ]
    },
    {
      "cell_type": "code",
      "metadata": {
        "id": "74AVTIKh5-73",
        "colab_type": "code",
        "colab": {
          "base_uri": "https://localhost:8080/",
          "height": 306
        },
        "outputId": "37efa770-dce1-4a97-bb99-3259f75b3533"
      },
      "source": [
        "print(classification_report(y_test,pred))"
      ],
      "execution_count": 25,
      "outputs": [
        {
          "output_type": "stream",
          "text": [
            "              precision    recall  f1-score   support\n",
            "\n",
            "           0       0.86      0.85      0.85      1000\n",
            "           1       0.99      0.97      0.98      1000\n",
            "           2       0.84      0.85      0.85      1000\n",
            "           3       0.89      0.91      0.90      1000\n",
            "           4       0.80      0.87      0.83      1000\n",
            "           5       0.96      0.98      0.97      1000\n",
            "           6       0.74      0.68      0.71      1000\n",
            "           7       0.95      0.96      0.95      1000\n",
            "           8       0.98      0.97      0.98      1000\n",
            "           9       0.97      0.95      0.96      1000\n",
            "\n",
            "    accuracy                           0.90     10000\n",
            "   macro avg       0.90      0.90      0.90     10000\n",
            "weighted avg       0.90      0.90      0.90     10000\n",
            "\n"
          ],
          "name": "stdout"
        }
      ]
    },
    {
      "cell_type": "code",
      "metadata": {
        "id": "kIAdxaeP6zxL",
        "colab_type": "code",
        "colab": {
          "base_uri": "https://localhost:8080/",
          "height": 298
        },
        "outputId": "246f877a-7681-4079-95cf-a8160aaeb7e6"
      },
      "source": [
        "miss_class_idx = np.where(pred != y_test)[0]\n",
        "i = np.random.choice(miss_class_idx)\n",
        "plt.imshow(X_test[i].reshape(28,28),cmap='gray')\n",
        "plt.title(\"True label: {t} Predicted label: {p}\".format(t=y_test[i],p=pred[i]))"
      ],
      "execution_count": 34,
      "outputs": [
        {
          "output_type": "execute_result",
          "data": {
            "text/plain": [
              "Text(0.5, 1.0, 'True label: 3 Predicted label: 4')"
            ]
          },
          "metadata": {
            "tags": []
          },
          "execution_count": 34
        },
        {
          "output_type": "display_data",
          "data": {
            "image/png": "[encoded data removed]",
            "text/plain": [
              "<Figure size 432x288 with 1 Axes>"
            ]
          },
          "metadata": {
            "tags": [],
            "needs_background": "light"
          }
        }
      ]
    }
  ]
}