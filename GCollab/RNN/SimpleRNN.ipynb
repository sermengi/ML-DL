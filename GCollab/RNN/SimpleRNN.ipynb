{
  "nbformat": 4,
  "nbformat_minor": 0,
  "metadata": {
    "colab": {
      "name": "SimpleRNN.ipynb",
      "provenance": []
    },
    "kernelspec": {
      "name": "python3",
      "display_name": "Python 3"
    }
  },
  "cells": [
    {
      "cell_type": "code",
      "metadata": {
        "id": "URu11i-hnx1j",
        "colab_type": "code",
        "colab": {}
      },
      "source": [
        "import numpy as np\n",
        "import pandas as pd\n",
        "import matplotlib.pyplot as plt\n",
        "\n",
        "import tensorflow as tf\n",
        "from tensorflow.keras.models import Model\n",
        "from tensorflow.keras.layers import Input,Dense,SimpleRNN\n",
        "from tensorflow.keras.optimizers import Adam,SGD"
      ],
      "execution_count": 0,
      "outputs": []
    },
    {
      "cell_type": "markdown",
      "metadata": {
        "id": "g6TBAjzOoBNs",
        "colab_type": "text"
      },
      "source": [
        "## Data"
      ]
    },
    {
      "cell_type": "code",
      "metadata": {
        "id": "WXyMZt8An24m",
        "colab_type": "code",
        "colab": {
          "base_uri": "https://localhost:8080/",
          "height": 282
        },
        "outputId": "d914dfcf-9811-49a5-b3c0-ef6dd920a398"
      },
      "source": [
        "sinfunc = np.sin(np.arange(200)*0.1) + np.random.rand(200) * 0.1\n",
        "plt.plot(sinfunc)"
      ],
      "execution_count": 107,
      "outputs": [
        {
          "output_type": "execute_result",
          "data": {
            "text/plain": [
              "[<matplotlib.lines.Line2D at 0x7f7cc4842668>]"
            ]
          },
          "metadata": {
            "tags": []
          },
          "execution_count": 107
        },
        {
          "output_type": "display_data",
          "data": {
            "image/png": "[encoded data removed]",
            "text/plain": [
              "<Figure size 432x288 with 1 Axes>"
            ]
          },
          "metadata": {
            "tags": [],
            "needs_background": "light"
          }
        }
      ]
    },
    {
      "cell_type": "code",
      "metadata": {
        "id": "zv5PxGIgoY-h",
        "colab_type": "code",
        "colab": {
          "base_uri": "https://localhost:8080/",
          "height": 34
        },
        "outputId": "0487c26f-5802-4e4d-b9bc-00db29846e41"
      },
      "source": [
        "T = 10\n",
        "D = 1\n",
        "X = []\n",
        "Y = []\n",
        "\n",
        "for t in range(len(sinfunc)-T):\n",
        "  x = sinfunc[t:t+T]\n",
        "  X.append(x)\n",
        "  y = sinfunc[t+T]\n",
        "  Y.append(y)\n",
        "\n",
        "X = np.array(X).reshape(-1,T,1)\n",
        "Y = np.array(Y)\n",
        "N = X.shape[0]\n",
        "print(f'X shape: {X.shape}, Y shape: {Y.shape}')"
      ],
      "execution_count": 108,
      "outputs": [
        {
          "output_type": "stream",
          "text": [
            "X shape: (190, 10, 1), Y shape: (190,)\n"
          ],
          "name": "stdout"
        }
      ]
    },
    {
      "cell_type": "markdown",
      "metadata": {
        "id": "U02w0o4Pr_ap",
        "colab_type": "text"
      },
      "source": [
        "## Model"
      ]
    },
    {
      "cell_type": "code",
      "metadata": {
        "id": "JgIZO3EiqcWv",
        "colab_type": "code",
        "colab": {}
      },
      "source": [
        "i = Input(shape=(T,1))\n",
        "x = SimpleRNN(5,activation=None)(i)\n",
        "x = Dense(1)(x)\n",
        "\n",
        "model = Model(i,x)\n",
        "\n",
        "model.compile(loss='mse',\n",
        "              optimizer=Adam(lr=0.1))"
      ],
      "execution_count": 0,
      "outputs": []
    },
    {
      "cell_type": "code",
      "metadata": {
        "id": "W3PK3IJ-smbH",
        "colab_type": "code",
        "colab": {
          "base_uri": "https://localhost:8080/",
          "height": 1000
        },
        "outputId": "7ad8775a-2325-441f-cc39-7d095ee9ac83"
      },
      "source": [
        "model.fit(X[:-N//2],Y[:-N//2],\n",
        "          epochs=80,\n",
        "          validation_data=(X[-N//2:],Y[-N//2:]))"
      ],
      "execution_count": 110,
      "outputs": [
        {
          "output_type": "stream",
          "text": [
            "Epoch 1/80\n",
            "3/3 [==============================] - 0s 51ms/step - loss: 1.6432 - val_loss: 0.5271\n",
            "Epoch 2/80\n",
            "3/3 [==============================] - 0s 13ms/step - loss: 0.5193 - val_loss: 0.4935\n",
            "Epoch 3/80\n",
            "3/3 [==============================] - 0s 14ms/step - loss: 0.4217 - val_loss: 0.2760\n",
            "Epoch 4/80\n",
            "3/3 [==============================] - 0s 14ms/step - loss: 0.2438 - val_loss: 0.2202\n",
            "Epoch 5/80\n",
            "3/3 [==============================] - 0s 13ms/step - loss: 0.1602 - val_loss: 0.0943\n",
            "Epoch 6/80\n",
            "3/3 [==============================] - 0s 16ms/step - loss: 0.0697 - val_loss: 0.0303\n",
            "Epoch 7/80\n",
            "3/3 [==============================] - 0s 13ms/step - loss: 0.0221 - val_loss: 0.0069\n",
            "Epoch 8/80\n",
            "3/3 [==============================] - 0s 13ms/step - loss: 0.0150 - val_loss: 0.0536\n",
            "Epoch 9/80\n",
            "3/3 [==============================] - 0s 15ms/step - loss: 0.0431 - val_loss: 0.0340\n",
            "Epoch 10/80\n",
            "3/3 [==============================] - 0s 16ms/step - loss: 0.0305 - val_loss: 0.0104\n",
            "Epoch 11/80\n",
            "3/3 [==============================] - 0s 15ms/step - loss: 0.0094 - val_loss: 0.0094\n",
            "Epoch 12/80\n",
            "3/3 [==============================] - 0s 14ms/step - loss: 0.0164 - val_loss: 0.0156\n",
            "Epoch 13/80\n",
            "3/3 [==============================] - 0s 13ms/step - loss: 0.0169 - val_loss: 0.0153\n",
            "Epoch 14/80\n",
            "3/3 [==============================] - 0s 15ms/step - loss: 0.0120 - val_loss: 0.0070\n",
            "Epoch 15/80\n",
            "3/3 [==============================] - 0s 14ms/step - loss: 0.0098 - val_loss: 0.0119\n",
            "Epoch 16/80\n",
            "3/3 [==============================] - 0s 14ms/step - loss: 0.0103 - val_loss: 0.0090\n",
            "Epoch 17/80\n",
            "3/3 [==============================] - 0s 13ms/step - loss: 0.0113 - val_loss: 0.0068\n",
            "Epoch 18/80\n",
            "3/3 [==============================] - 0s 14ms/step - loss: 0.0085 - val_loss: 0.0078\n",
            "Epoch 19/80\n",
            "3/3 [==============================] - 0s 14ms/step - loss: 0.0086 - val_loss: 0.0062\n",
            "Epoch 20/80\n",
            "3/3 [==============================] - 0s 19ms/step - loss: 0.0080 - val_loss: 0.0058\n",
            "Epoch 21/80\n",
            "3/3 [==============================] - 0s 15ms/step - loss: 0.0074 - val_loss: 0.0053\n",
            "Epoch 22/80\n",
            "3/3 [==============================] - 0s 15ms/step - loss: 0.0068 - val_loss: 0.0055\n",
            "Epoch 23/80\n",
            "3/3 [==============================] - 0s 13ms/step - loss: 0.0066 - val_loss: 0.0049\n",
            "Epoch 24/80\n",
            "3/3 [==============================] - 0s 13ms/step - loss: 0.0064 - val_loss: 0.0047\n",
            "Epoch 25/80\n",
            "3/3 [==============================] - 0s 13ms/step - loss: 0.0061 - val_loss: 0.0043\n",
            "Epoch 26/80\n",
            "3/3 [==============================] - 0s 13ms/step - loss: 0.0058 - val_loss: 0.0042\n",
            "Epoch 27/80\n",
            "3/3 [==============================] - 0s 13ms/step - loss: 0.0057 - val_loss: 0.0041\n",
            "Epoch 28/80\n",
            "3/3 [==============================] - 0s 13ms/step - loss: 0.0055 - val_loss: 0.0040\n",
            "Epoch 29/80\n",
            "3/3 [==============================] - 0s 13ms/step - loss: 0.0053 - val_loss: 0.0040\n",
            "Epoch 30/80\n",
            "3/3 [==============================] - 0s 17ms/step - loss: 0.0055 - val_loss: 0.0039\n",
            "Epoch 31/80\n",
            "3/3 [==============================] - 0s 13ms/step - loss: 0.0052 - val_loss: 0.0038\n",
            "Epoch 32/80\n",
            "3/3 [==============================] - 0s 13ms/step - loss: 0.0053 - val_loss: 0.0038\n",
            "Epoch 33/80\n",
            "3/3 [==============================] - 0s 14ms/step - loss: 0.0051 - val_loss: 0.0038\n",
            "Epoch 34/80\n",
            "3/3 [==============================] - 0s 14ms/step - loss: 0.0051 - val_loss: 0.0038\n",
            "Epoch 35/80\n",
            "3/3 [==============================] - 0s 14ms/step - loss: 0.0048 - val_loss: 0.0036\n",
            "Epoch 36/80\n",
            "3/3 [==============================] - 0s 13ms/step - loss: 0.0048 - val_loss: 0.0035\n",
            "Epoch 37/80\n",
            "3/3 [==============================] - 0s 15ms/step - loss: 0.0047 - val_loss: 0.0035\n",
            "Epoch 38/80\n",
            "3/3 [==============================] - 0s 13ms/step - loss: 0.0049 - val_loss: 0.0034\n",
            "Epoch 39/80\n",
            "3/3 [==============================] - 0s 16ms/step - loss: 0.0046 - val_loss: 0.0035\n",
            "Epoch 40/80\n",
            "3/3 [==============================] - 0s 13ms/step - loss: 0.0045 - val_loss: 0.0034\n",
            "Epoch 41/80\n",
            "3/3 [==============================] - 0s 14ms/step - loss: 0.0044 - val_loss: 0.0033\n",
            "Epoch 42/80\n",
            "3/3 [==============================] - 0s 13ms/step - loss: 0.0045 - val_loss: 0.0032\n",
            "Epoch 43/80\n",
            "3/3 [==============================] - 0s 14ms/step - loss: 0.0043 - val_loss: 0.0032\n",
            "Epoch 44/80\n",
            "3/3 [==============================] - 0s 14ms/step - loss: 0.0042 - val_loss: 0.0032\n",
            "Epoch 45/80\n",
            "3/3 [==============================] - 0s 15ms/step - loss: 0.0043 - val_loss: 0.0031\n",
            "Epoch 46/80\n",
            "3/3 [==============================] - 0s 13ms/step - loss: 0.0043 - val_loss: 0.0031\n",
            "Epoch 47/80\n",
            "3/3 [==============================] - 0s 14ms/step - loss: 0.0046 - val_loss: 0.0033\n",
            "Epoch 48/80\n",
            "3/3 [==============================] - 0s 13ms/step - loss: 0.0041 - val_loss: 0.0033\n",
            "Epoch 49/80\n",
            "3/3 [==============================] - 0s 16ms/step - loss: 0.0040 - val_loss: 0.0036\n",
            "Epoch 50/80\n",
            "3/3 [==============================] - 0s 13ms/step - loss: 0.0042 - val_loss: 0.0031\n",
            "Epoch 51/80\n",
            "3/3 [==============================] - 0s 17ms/step - loss: 0.0045 - val_loss: 0.0031\n",
            "Epoch 52/80\n",
            "3/3 [==============================] - 0s 14ms/step - loss: 0.0047 - val_loss: 0.0029\n",
            "Epoch 53/80\n",
            "3/3 [==============================] - 0s 14ms/step - loss: 0.0045 - val_loss: 0.0029\n",
            "Epoch 54/80\n",
            "3/3 [==============================] - 0s 13ms/step - loss: 0.0038 - val_loss: 0.0032\n",
            "Epoch 55/80\n",
            "3/3 [==============================] - 0s 14ms/step - loss: 0.0040 - val_loss: 0.0029\n",
            "Epoch 56/80\n",
            "3/3 [==============================] - 0s 14ms/step - loss: 0.0036 - val_loss: 0.0029\n",
            "Epoch 57/80\n",
            "3/3 [==============================] - 0s 14ms/step - loss: 0.0037 - val_loss: 0.0027\n",
            "Epoch 58/80\n",
            "3/3 [==============================] - 0s 15ms/step - loss: 0.0037 - val_loss: 0.0028\n",
            "Epoch 59/80\n",
            "3/3 [==============================] - 0s 14ms/step - loss: 0.0039 - val_loss: 0.0027\n",
            "Epoch 60/80\n",
            "3/3 [==============================] - 0s 13ms/step - loss: 0.0038 - val_loss: 0.0027\n",
            "Epoch 61/80\n",
            "3/3 [==============================] - 0s 14ms/step - loss: 0.0035 - val_loss: 0.0027\n",
            "Epoch 62/80\n",
            "3/3 [==============================] - 0s 13ms/step - loss: 0.0034 - val_loss: 0.0027\n",
            "Epoch 63/80\n",
            "3/3 [==============================] - 0s 13ms/step - loss: 0.0034 - val_loss: 0.0026\n",
            "Epoch 64/80\n",
            "3/3 [==============================] - 0s 13ms/step - loss: 0.0034 - val_loss: 0.0027\n",
            "Epoch 65/80\n",
            "3/3 [==============================] - 0s 13ms/step - loss: 0.0036 - val_loss: 0.0029\n",
            "Epoch 66/80\n",
            "3/3 [==============================] - 0s 13ms/step - loss: 0.0036 - val_loss: 0.0028\n",
            "Epoch 67/80\n",
            "3/3 [==============================] - 0s 15ms/step - loss: 0.0037 - val_loss: 0.0027\n",
            "Epoch 68/80\n",
            "3/3 [==============================] - 0s 14ms/step - loss: 0.0035 - val_loss: 0.0027\n",
            "Epoch 69/80\n",
            "3/3 [==============================] - 0s 14ms/step - loss: 0.0035 - val_loss: 0.0029\n",
            "Epoch 70/80\n",
            "3/3 [==============================] - 0s 14ms/step - loss: 0.0036 - val_loss: 0.0025\n",
            "Epoch 71/80\n",
            "3/3 [==============================] - 0s 14ms/step - loss: 0.0032 - val_loss: 0.0025\n",
            "Epoch 72/80\n",
            "3/3 [==============================] - 0s 15ms/step - loss: 0.0032 - val_loss: 0.0025\n",
            "Epoch 73/80\n",
            "3/3 [==============================] - 0s 13ms/step - loss: 0.0030 - val_loss: 0.0025\n",
            "Epoch 74/80\n",
            "3/3 [==============================] - 0s 15ms/step - loss: 0.0033 - val_loss: 0.0026\n",
            "Epoch 75/80\n",
            "3/3 [==============================] - 0s 13ms/step - loss: 0.0031 - val_loss: 0.0024\n",
            "Epoch 76/80\n",
            "3/3 [==============================] - 0s 14ms/step - loss: 0.0030 - val_loss: 0.0025\n",
            "Epoch 77/80\n",
            "3/3 [==============================] - 0s 15ms/step - loss: 0.0033 - val_loss: 0.0028\n",
            "Epoch 78/80\n",
            "3/3 [==============================] - 0s 14ms/step - loss: 0.0036 - val_loss: 0.0039\n",
            "Epoch 79/80\n",
            "3/3 [==============================] - 0s 13ms/step - loss: 0.0039 - val_loss: 0.0033\n",
            "Epoch 80/80\n",
            "3/3 [==============================] - 0s 16ms/step - loss: 0.0037 - val_loss: 0.0032\n"
          ],
          "name": "stdout"
        },
        {
          "output_type": "execute_result",
          "data": {
            "text/plain": [
              "<tensorflow.python.keras.callbacks.History at 0x7f7cc9633208>"
            ]
          },
          "metadata": {
            "tags": []
          },
          "execution_count": 110
        }
      ]
    },
    {
      "cell_type": "code",
      "metadata": {
        "id": "p0rfRFvptD9E",
        "colab_type": "code",
        "colab": {
          "base_uri": "https://localhost:8080/",
          "height": 265
        },
        "outputId": "f97128c0-5a7c-4fb9-f45e-6c36f6448429"
      },
      "source": [
        "losses = pd.DataFrame(model.history.history)\n",
        "plt.plot(losses['loss'],label='loss')\n",
        "plt.plot(losses['val_loss'],label='val_loss')\n",
        "plt.legend()\n",
        "plt.show()"
      ],
      "execution_count": 111,
      "outputs": [
        {
          "output_type": "display_data",
          "data": {
            "image/png": "[encoded data removed]",
            "text/plain": [
              "<Figure size 432x288 with 1 Axes>"
            ]
          },
          "metadata": {
            "tags": [],
            "needs_background": "light"
          }
        }
      ]
    },
    {
      "cell_type": "markdown",
      "metadata": {
        "id": "f78X4ozFtyRt",
        "colab_type": "text"
      },
      "source": [
        "## Forecasting"
      ]
    },
    {
      "cell_type": "code",
      "metadata": {
        "id": "2CsyhEv5tJxQ",
        "colab_type": "code",
        "colab": {}
      },
      "source": [
        "validation_data = Y[-N//2:]\n",
        "validation_pred = []\n",
        "x_last=X[-N//2]\n",
        "\n",
        "while len(validation_pred) < len(validation_data):\n",
        "  pred = model.predict(x_last.reshape(1,-1,1))[0,0]\n",
        "  validation_pred.append(pred)\n",
        "  x_last = np.roll(x_last,-1)\n",
        "  x_last[-1] = pred"
      ],
      "execution_count": 0,
      "outputs": []
    },
    {
      "cell_type": "code",
      "metadata": {
        "id": "voMvwrEBuRWo",
        "colab_type": "code",
        "colab": {
          "base_uri": "https://localhost:8080/",
          "height": 265
        },
        "outputId": "d964f8ec-1e83-47f3-bd76-349591fb0b70"
      },
      "source": [
        "plt.plot(validation_data,label='validation_data')\n",
        "plt.plot(validation_pred,label='predictions')\n",
        "plt.legend()\n",
        "plt.show()"
      ],
      "execution_count": 113,
      "outputs": [
        {
          "output_type": "display_data",
          "data": {
            "image/png": "[encoded data removed]",
            "text/plain": [
              "<Figure size 432x288 with 1 Axes>"
            ]
          },
          "metadata": {
            "tags": [],
            "needs_background": "light"
          }
        }
      ]
    }
  ]
}