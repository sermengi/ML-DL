{
  "nbformat": 4,
  "nbformat_minor": 0,
  "metadata": {
    "colab": {
      "name": "AutoRegressiveModel.ipynb",
      "provenance": []
    },
    "kernelspec": {
      "name": "python3",
      "display_name": "Python 3"
    }
  },
  "cells": [
    {
      "cell_type": "code",
      "metadata": {
        "id": "NCG8FcP6KOms",
        "colab_type": "code",
        "colab": {}
      },
      "source": [
        "import numpy as np\n",
        "import pandas as pd\n",
        "import matplotlib.pyplot as plt\n",
        "\n",
        "from tensorflow.keras.models import Model\n",
        "from tensorflow.keras.layers import Input,Dense\n",
        "from tensorflow.keras.optimizers import Adam,SGD"
      ],
      "execution_count": 0,
      "outputs": []
    },
    {
      "cell_type": "markdown",
      "metadata": {
        "id": "GEiSvt-GK57Y",
        "colab_type": "text"
      },
      "source": [
        "## Data"
      ]
    },
    {
      "cell_type": "code",
      "metadata": {
        "id": "SF_cAeIgK5kU",
        "colab_type": "code",
        "colab": {
          "base_uri": "https://localhost:8080/",
          "height": 265
        },
        "outputId": "45564bc9-4f59-41ea-a916-f816d80d71a4"
      },
      "source": [
        "series = np.sin(0.1*np.arange(200)) + np.random.rand(200)*0.1\n",
        "plt.plot(series)\n",
        "plt.show()"
      ],
      "execution_count": 47,
      "outputs": [
        {
          "output_type": "display_data",
          "data": {
            "image/png": "[encoded data removed]",
            "text/plain": [
              "<Figure size 432x288 with 1 Axes>"
            ]
          },
          "metadata": {
            "tags": [],
            "needs_background": "light"
          }
        }
      ]
    },
    {
      "cell_type": "code",
      "metadata": {
        "id": "hEuRNFLwKX5f",
        "colab_type": "code",
        "colab": {
          "base_uri": "https://localhost:8080/",
          "height": 34
        },
        "outputId": "6ab81e57-3ef7-4360-eda4-a7c8196c029c"
      },
      "source": [
        "T = 10\n",
        "X = []\n",
        "Y = []\n",
        "\n",
        "for t in range(len(series)-T):\n",
        "  x = series[t:t+T]\n",
        "  X.append(x)\n",
        "  y = series[t+T]\n",
        "  Y.append(y)\n",
        "\n",
        "X = np.array(X).reshape(-1,T)\n",
        "Y = np.array(Y)\n",
        "N = len(X)\n",
        "print(f\"X.shape: {X.shape}, Y.shape: {Y.shape}\")"
      ],
      "execution_count": 48,
      "outputs": [
        {
          "output_type": "stream",
          "text": [
            "X.shape: (190, 10), Y.shape: (190,)\n"
          ],
          "name": "stdout"
        }
      ]
    },
    {
      "cell_type": "markdown",
      "metadata": {
        "id": "FK3tOcJRNkPq",
        "colab_type": "text"
      },
      "source": [
        "## Model"
      ]
    },
    {
      "cell_type": "code",
      "metadata": {
        "id": "dLcreNu8NLBx",
        "colab_type": "code",
        "colab": {}
      },
      "source": [
        "i = Input(shape=(T,))\n",
        "x = Dense(1)(i)\n",
        "\n",
        "model = Model(i,x)\n",
        "\n",
        "model.compile(loss='mse',\n",
        "              optimizer=Adam(lr=0.1))"
      ],
      "execution_count": 0,
      "outputs": []
    },
    {
      "cell_type": "code",
      "metadata": {
        "id": "IX5PFjrnOEBb",
        "colab_type": "code",
        "colab": {
          "base_uri": "https://localhost:8080/",
          "height": 1000
        },
        "outputId": "ae1783e7-4b50-4e1f-cfee-6b9befaa9b92"
      },
      "source": [
        "model.fit(X[:-N//2],Y[:-N//2],\n",
        "          epochs=80,\n",
        "          validation_data=(X[-N//2:],Y[-N//2:]))"
      ],
      "execution_count": 50,
      "outputs": [
        {
          "output_type": "stream",
          "text": [
            "Epoch 1/80\n",
            "3/3 [==============================] - 0s 24ms/step - loss: 1.2482 - val_loss: 0.4069\n",
            "Epoch 2/80\n",
            "3/3 [==============================] - 0s 12ms/step - loss: 0.7770 - val_loss: 0.6216\n",
            "Epoch 3/80\n",
            "3/3 [==============================] - 0s 12ms/step - loss: 0.4879 - val_loss: 0.1497\n",
            "Epoch 4/80\n",
            "3/3 [==============================] - 0s 11ms/step - loss: 0.1583 - val_loss: 0.2587\n",
            "Epoch 5/80\n",
            "3/3 [==============================] - 0s 12ms/step - loss: 0.3244 - val_loss: 0.1374\n",
            "Epoch 6/80\n",
            "3/3 [==============================] - 0s 11ms/step - loss: 0.1016 - val_loss: 0.0543\n",
            "Epoch 7/80\n",
            "3/3 [==============================] - 0s 13ms/step - loss: 0.0693 - val_loss: 0.1304\n",
            "Epoch 8/80\n",
            "3/3 [==============================] - 0s 11ms/step - loss: 0.1022 - val_loss: 0.0274\n",
            "Epoch 9/80\n",
            "3/3 [==============================] - 0s 11ms/step - loss: 0.0158 - val_loss: 0.0395\n",
            "Epoch 10/80\n",
            "3/3 [==============================] - 0s 12ms/step - loss: 0.0580 - val_loss: 0.0773\n",
            "Epoch 11/80\n",
            "3/3 [==============================] - 0s 11ms/step - loss: 0.0456 - val_loss: 0.0210\n",
            "Epoch 12/80\n",
            "3/3 [==============================] - 0s 12ms/step - loss: 0.0218 - val_loss: 0.0317\n",
            "Epoch 13/80\n",
            "3/3 [==============================] - 0s 14ms/step - loss: 0.0342 - val_loss: 0.0141\n",
            "Epoch 14/80\n",
            "3/3 [==============================] - 0s 11ms/step - loss: 0.0088 - val_loss: 0.0108\n",
            "Epoch 15/80\n",
            "3/3 [==============================] - 0s 11ms/step - loss: 0.0147 - val_loss: 0.0111\n",
            "Epoch 16/80\n",
            "3/3 [==============================] - 0s 11ms/step - loss: 0.0085 - val_loss: 0.0043\n",
            "Epoch 17/80\n",
            "3/3 [==============================] - 0s 11ms/step - loss: 0.0054 - val_loss: 0.0110\n",
            "Epoch 18/80\n",
            "3/3 [==============================] - 0s 11ms/step - loss: 0.0074 - val_loss: 0.0040\n",
            "Epoch 19/80\n",
            "3/3 [==============================] - 0s 13ms/step - loss: 0.0038 - val_loss: 0.0065\n",
            "Epoch 20/80\n",
            "3/3 [==============================] - 0s 11ms/step - loss: 0.0059 - val_loss: 0.0047\n",
            "Epoch 21/80\n",
            "3/3 [==============================] - 0s 12ms/step - loss: 0.0031 - val_loss: 0.0043\n",
            "Epoch 22/80\n",
            "3/3 [==============================] - 0s 15ms/step - loss: 0.0042 - val_loss: 0.0037\n",
            "Epoch 23/80\n",
            "3/3 [==============================] - 0s 12ms/step - loss: 0.0024 - val_loss: 0.0034\n",
            "Epoch 24/80\n",
            "3/3 [==============================] - 0s 11ms/step - loss: 0.0030 - val_loss: 0.0035\n",
            "Epoch 25/80\n",
            "3/3 [==============================] - 0s 11ms/step - loss: 0.0023 - val_loss: 0.0032\n",
            "Epoch 26/80\n",
            "3/3 [==============================] - 0s 13ms/step - loss: 0.0026 - val_loss: 0.0035\n",
            "Epoch 27/80\n",
            "3/3 [==============================] - 0s 11ms/step - loss: 0.0024 - val_loss: 0.0030\n",
            "Epoch 28/80\n",
            "3/3 [==============================] - 0s 11ms/step - loss: 0.0024 - val_loss: 0.0033\n",
            "Epoch 29/80\n",
            "3/3 [==============================] - 0s 14ms/step - loss: 0.0022 - val_loss: 0.0030\n",
            "Epoch 30/80\n",
            "3/3 [==============================] - 0s 13ms/step - loss: 0.0022 - val_loss: 0.0030\n",
            "Epoch 31/80\n",
            "3/3 [==============================] - 0s 11ms/step - loss: 0.0020 - val_loss: 0.0029\n",
            "Epoch 32/80\n",
            "3/3 [==============================] - 0s 14ms/step - loss: 0.0020 - val_loss: 0.0029\n",
            "Epoch 33/80\n",
            "3/3 [==============================] - 0s 12ms/step - loss: 0.0020 - val_loss: 0.0029\n",
            "Epoch 34/80\n",
            "3/3 [==============================] - 0s 12ms/step - loss: 0.0020 - val_loss: 0.0029\n",
            "Epoch 35/80\n",
            "3/3 [==============================] - 0s 11ms/step - loss: 0.0019 - val_loss: 0.0029\n",
            "Epoch 36/80\n",
            "3/3 [==============================] - 0s 11ms/step - loss: 0.0019 - val_loss: 0.0029\n",
            "Epoch 37/80\n",
            "3/3 [==============================] - 0s 12ms/step - loss: 0.0019 - val_loss: 0.0029\n",
            "Epoch 38/80\n",
            "3/3 [==============================] - 0s 11ms/step - loss: 0.0019 - val_loss: 0.0028\n",
            "Epoch 39/80\n",
            "3/3 [==============================] - 0s 11ms/step - loss: 0.0019 - val_loss: 0.0028\n",
            "Epoch 40/80\n",
            "3/3 [==============================] - 0s 11ms/step - loss: 0.0020 - val_loss: 0.0028\n",
            "Epoch 41/80\n",
            "3/3 [==============================] - 0s 13ms/step - loss: 0.0019 - val_loss: 0.0029\n",
            "Epoch 42/80\n",
            "3/3 [==============================] - 0s 11ms/step - loss: 0.0019 - val_loss: 0.0028\n",
            "Epoch 43/80\n",
            "3/3 [==============================] - 0s 12ms/step - loss: 0.0019 - val_loss: 0.0028\n",
            "Epoch 44/80\n",
            "3/3 [==============================] - 0s 14ms/step - loss: 0.0019 - val_loss: 0.0028\n",
            "Epoch 45/80\n",
            "3/3 [==============================] - 0s 12ms/step - loss: 0.0019 - val_loss: 0.0028\n",
            "Epoch 46/80\n",
            "3/3 [==============================] - 0s 12ms/step - loss: 0.0019 - val_loss: 0.0028\n",
            "Epoch 47/80\n",
            "3/3 [==============================] - 0s 12ms/step - loss: 0.0019 - val_loss: 0.0028\n",
            "Epoch 48/80\n",
            "3/3 [==============================] - 0s 12ms/step - loss: 0.0019 - val_loss: 0.0028\n",
            "Epoch 49/80\n",
            "3/3 [==============================] - 0s 12ms/step - loss: 0.0019 - val_loss: 0.0028\n",
            "Epoch 50/80\n",
            "3/3 [==============================] - 0s 12ms/step - loss: 0.0019 - val_loss: 0.0028\n",
            "Epoch 51/80\n",
            "3/3 [==============================] - 0s 14ms/step - loss: 0.0019 - val_loss: 0.0028\n",
            "Epoch 52/80\n",
            "3/3 [==============================] - 0s 11ms/step - loss: 0.0019 - val_loss: 0.0028\n",
            "Epoch 53/80\n",
            "3/3 [==============================] - 0s 12ms/step - loss: 0.0019 - val_loss: 0.0028\n",
            "Epoch 54/80\n",
            "3/3 [==============================] - 0s 12ms/step - loss: 0.0019 - val_loss: 0.0028\n",
            "Epoch 55/80\n",
            "3/3 [==============================] - 0s 11ms/step - loss: 0.0018 - val_loss: 0.0028\n",
            "Epoch 56/80\n",
            "3/3 [==============================] - 0s 13ms/step - loss: 0.0018 - val_loss: 0.0027\n",
            "Epoch 57/80\n",
            "3/3 [==============================] - 0s 11ms/step - loss: 0.0018 - val_loss: 0.0027\n",
            "Epoch 58/80\n",
            "3/3 [==============================] - 0s 11ms/step - loss: 0.0018 - val_loss: 0.0027\n",
            "Epoch 59/80\n",
            "3/3 [==============================] - 0s 11ms/step - loss: 0.0018 - val_loss: 0.0027\n",
            "Epoch 60/80\n",
            "3/3 [==============================] - 0s 13ms/step - loss: 0.0018 - val_loss: 0.0027\n",
            "Epoch 61/80\n",
            "3/3 [==============================] - 0s 11ms/step - loss: 0.0018 - val_loss: 0.0027\n",
            "Epoch 62/80\n",
            "3/3 [==============================] - 0s 12ms/step - loss: 0.0018 - val_loss: 0.0027\n",
            "Epoch 63/80\n",
            "3/3 [==============================] - 0s 12ms/step - loss: 0.0018 - val_loss: 0.0027\n",
            "Epoch 64/80\n",
            "3/3 [==============================] - 0s 12ms/step - loss: 0.0018 - val_loss: 0.0027\n",
            "Epoch 65/80\n",
            "3/3 [==============================] - 0s 11ms/step - loss: 0.0018 - val_loss: 0.0027\n",
            "Epoch 66/80\n",
            "3/3 [==============================] - 0s 11ms/step - loss: 0.0018 - val_loss: 0.0027\n",
            "Epoch 67/80\n",
            "3/3 [==============================] - 0s 11ms/step - loss: 0.0018 - val_loss: 0.0027\n",
            "Epoch 68/80\n",
            "3/3 [==============================] - 0s 11ms/step - loss: 0.0018 - val_loss: 0.0027\n",
            "Epoch 69/80\n",
            "3/3 [==============================] - 0s 13ms/step - loss: 0.0018 - val_loss: 0.0027\n",
            "Epoch 70/80\n",
            "3/3 [==============================] - 0s 13ms/step - loss: 0.0018 - val_loss: 0.0027\n",
            "Epoch 71/80\n",
            "3/3 [==============================] - 0s 13ms/step - loss: 0.0019 - val_loss: 0.0027\n",
            "Epoch 72/80\n",
            "3/3 [==============================] - 0s 12ms/step - loss: 0.0018 - val_loss: 0.0027\n",
            "Epoch 73/80\n",
            "3/3 [==============================] - 0s 12ms/step - loss: 0.0019 - val_loss: 0.0027\n",
            "Epoch 74/80\n",
            "3/3 [==============================] - 0s 11ms/step - loss: 0.0018 - val_loss: 0.0027\n",
            "Epoch 75/80\n",
            "3/3 [==============================] - 0s 11ms/step - loss: 0.0018 - val_loss: 0.0027\n",
            "Epoch 76/80\n",
            "3/3 [==============================] - 0s 11ms/step - loss: 0.0019 - val_loss: 0.0027\n",
            "Epoch 77/80\n",
            "3/3 [==============================] - 0s 12ms/step - loss: 0.0019 - val_loss: 0.0027\n",
            "Epoch 78/80\n",
            "3/3 [==============================] - 0s 11ms/step - loss: 0.0018 - val_loss: 0.0027\n",
            "Epoch 79/80\n",
            "3/3 [==============================] - 0s 13ms/step - loss: 0.0018 - val_loss: 0.0026\n",
            "Epoch 80/80\n",
            "3/3 [==============================] - 0s 15ms/step - loss: 0.0018 - val_loss: 0.0027\n"
          ],
          "name": "stdout"
        },
        {
          "output_type": "execute_result",
          "data": {
            "text/plain": [
              "<tensorflow.python.keras.callbacks.History at 0x7f13dd2c5dd8>"
            ]
          },
          "metadata": {
            "tags": []
          },
          "execution_count": 50
        }
      ]
    },
    {
      "cell_type": "code",
      "metadata": {
        "id": "B4HagIaoO5mb",
        "colab_type": "code",
        "colab": {
          "base_uri": "https://localhost:8080/",
          "height": 265
        },
        "outputId": "49bfe349-5b43-4242-ef6d-f1689827fd6d"
      },
      "source": [
        "losses = pd.DataFrame(model.history.history)\n",
        "plt.figure(figsize=(6,4))\n",
        "plt.plot(losses['loss'],label='loss')\n",
        "plt.plot(losses['val_loss'],label='val_loss')\n",
        "plt.legend()\n",
        "plt.show()"
      ],
      "execution_count": 51,
      "outputs": [
        {
          "output_type": "display_data",
          "data": {
            "image/png": "[encoded data removed]",
            "text/plain": [
              "<Figure size 432x288 with 1 Axes>"
            ]
          },
          "metadata": {
            "tags": [],
            "needs_background": "light"
          }
        }
      ]
    },
    {
      "cell_type": "markdown",
      "metadata": {
        "id": "kDPpPZ2GQSy5",
        "colab_type": "text"
      },
      "source": [
        "## Forecasting"
      ]
    },
    {
      "cell_type": "code",
      "metadata": {
        "id": "6K3YQVABPbrX",
        "colab_type": "code",
        "colab": {}
      },
      "source": [
        "validation_data = Y[-N//2:]\n",
        "validation_pred = []\n",
        "\n",
        "last_x = X[-N//2] # 1-D array\n",
        "\n",
        "while len(validation_pred) < len(validation_data):\n",
        "  \n",
        "  p = model.predict(last_x.reshape(1,-1))[0,0]\n",
        "  validation_pred.append(p)\n",
        "  last_x = np.roll(last_x,-1)\n",
        "  last_x[-1] = p"
      ],
      "execution_count": 0,
      "outputs": []
    },
    {
      "cell_type": "code",
      "metadata": {
        "id": "6PimyrIO8dYB",
        "colab_type": "code",
        "colab": {
          "base_uri": "https://localhost:8080/",
          "height": 265
        },
        "outputId": "cd7e35d1-4aa2-4b83-aec3-a84a3fbcab97"
      },
      "source": [
        "plt.plot(validation_data,label='validation_data')\n",
        "plt.plot(validation_pred,label='validation_pred')\n",
        "plt.legend()\n",
        "plt.show()"
      ],
      "execution_count": 53,
      "outputs": [
        {
          "output_type": "display_data",
          "data": {
            "image/png": "[encoded data removed]",
            "text/plain": [
              "<Figure size 432x288 with 1 Axes>"
            ]
          },
          "metadata": {
            "tags": [],
            "needs_background": "light"
          }
        }
      ]
    }
  ]
}