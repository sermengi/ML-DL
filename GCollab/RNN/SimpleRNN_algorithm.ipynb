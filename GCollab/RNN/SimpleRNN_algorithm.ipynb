{
  "nbformat": 4,
  "nbformat_minor": 0,
  "metadata": {
    "colab": {
      "name": "SimpleRNN_algorithm.ipynb",
      "provenance": []
    },
    "kernelspec": {
      "name": "python3",
      "display_name": "Python 3"
    }
  },
  "cells": [
    {
      "cell_type": "code",
      "metadata": {
        "id": "nax56a2m_-vP",
        "colab_type": "code",
        "colab": {}
      },
      "source": [
        "import numpy as np\n",
        "import pandas as pd\n",
        "import matplotlib.pyplot as plt\n",
        "\n",
        "import tensorflow as tf\n",
        "from tensorflow.keras.models import Model\n",
        "from tensorflow.keras.layers import Input,SimpleRNN,Dense\n",
        "from tensorflow.keras.optimizers import Adam"
      ],
      "execution_count": 0,
      "outputs": []
    },
    {
      "cell_type": "markdown",
      "metadata": {
        "id": "dysmCtuXAL2h",
        "colab_type": "text"
      },
      "source": [
        "## Data"
      ]
    },
    {
      "cell_type": "code",
      "metadata": {
        "id": "dlFsgfboCnyc",
        "colab_type": "code",
        "colab": {}
      },
      "source": [
        "# N = number of samples\n",
        "# D = # of features of input\n",
        "# T = sequence length\n",
        "# M = # of hidden unit\n",
        "# K = # number of outputs"
      ],
      "execution_count": 0,
      "outputs": []
    },
    {
      "cell_type": "code",
      "metadata": {
        "id": "lj8E9RXPALZi",
        "colab_type": "code",
        "colab": {}
      },
      "source": [
        "N = 2\n",
        "D = 2\n",
        "T = 10\n",
        "X = np.random.rand(N,T,D)"
      ],
      "execution_count": 0,
      "outputs": []
    },
    {
      "cell_type": "markdown",
      "metadata": {
        "id": "qwUtGPNqBlKW",
        "colab_type": "text"
      },
      "source": [
        "## Model"
      ]
    },
    {
      "cell_type": "code",
      "metadata": {
        "id": "xWQxgvVLAJfj",
        "colab_type": "code",
        "colab": {}
      },
      "source": [
        "M = 5\n",
        "K = 2\n",
        "i = Input(shape=(T,D))\n",
        "x = SimpleRNN(M,activation='tanh')(i)\n",
        "x = Dense(K)(x)\n",
        "\n",
        "model = Model(i,x)\n",
        "\n",
        "model.compile(loss='mse',\n",
        "              optimizer=Adam(lr=0.1))"
      ],
      "execution_count": 0,
      "outputs": []
    },
    {
      "cell_type": "code",
      "metadata": {
        "id": "5OxgGmk3BQ5F",
        "colab_type": "code",
        "colab": {
          "base_uri": "https://localhost:8080/",
          "height": 51
        },
        "outputId": "086fe75a-80ea-4720-fc84-4631ae9fa2eb"
      },
      "source": [
        "yhat = model.predict(X)\n",
        "yhat"
      ],
      "execution_count": 174,
      "outputs": [
        {
          "output_type": "execute_result",
          "data": {
            "text/plain": [
              "array([[-0.02285618, -0.1594092 ],\n",
              "       [-0.3528445 , -0.19563188]], dtype=float32)"
            ]
          },
          "metadata": {
            "tags": []
          },
          "execution_count": 174
        }
      ]
    },
    {
      "cell_type": "code",
      "metadata": {
        "id": "IojD2Dl4CwL0",
        "colab_type": "code",
        "colab": {
          "base_uri": "https://localhost:8080/",
          "height": 255
        },
        "outputId": "2585efa7-7a02-4383-bc3d-60a3c377008e"
      },
      "source": [
        "model.summary()"
      ],
      "execution_count": 175,
      "outputs": [
        {
          "output_type": "stream",
          "text": [
            "Model: \"model_6\"\n",
            "_________________________________________________________________\n",
            "Layer (type)                 Output Shape              Param #   \n",
            "=================================================================\n",
            "input_8 (InputLayer)         [(None, 10, 2)]           0         \n",
            "_________________________________________________________________\n",
            "simple_rnn_7 (SimpleRNN)     (None, 5)                 40        \n",
            "_________________________________________________________________\n",
            "dense_7 (Dense)              (None, 2)                 12        \n",
            "=================================================================\n",
            "Total params: 52\n",
            "Trainable params: 52\n",
            "Non-trainable params: 0\n",
            "_________________________________________________________________\n"
          ],
          "name": "stdout"
        }
      ]
    },
    {
      "cell_type": "code",
      "metadata": {
        "id": "eUfx6btYFNs9",
        "colab_type": "code",
        "colab": {
          "base_uri": "https://localhost:8080/",
          "height": 68
        },
        "outputId": "9dca34c7-10e7-4f2f-a79f-0fa9dae49afc"
      },
      "source": [
        "a,b,c = model.layers[1].get_weights()\n",
        "print(f'shape of a: {a.shape}')\n",
        "print(f'shape of b: {b.shape}')\n",
        "print(f'shape of c: {c.shape}')"
      ],
      "execution_count": 176,
      "outputs": [
        {
          "output_type": "stream",
          "text": [
            "shape of a: (2, 5)\n",
            "shape of b: (5, 5)\n",
            "shape of c: (5,)\n"
          ],
          "name": "stdout"
        }
      ]
    },
    {
      "cell_type": "code",
      "metadata": {
        "id": "olXLBC2lJ-31",
        "colab_type": "code",
        "colab": {
          "base_uri": "https://localhost:8080/",
          "height": 51
        },
        "outputId": "0f62b264-f56c-4a57-8aa4-467c641cc050"
      },
      "source": [
        "d,e = model.layers[2].get_weights()\n",
        "print(f'shape of d: {d.shape}')\n",
        "print(f'shape of e: {e.shape}')"
      ],
      "execution_count": 177,
      "outputs": [
        {
          "output_type": "stream",
          "text": [
            "shape of d: (5, 2)\n",
            "shape of e: (2,)\n"
          ],
          "name": "stdout"
        }
      ]
    },
    {
      "cell_type": "code",
      "metadata": {
        "id": "3e8Xl67XHAak",
        "colab_type": "code",
        "colab": {}
      },
      "source": [
        "W_xh = a\n",
        "W_hh = b\n",
        "bh = c\n",
        "W_o = d\n",
        "bo = e"
      ],
      "execution_count": 0,
      "outputs": []
    },
    {
      "cell_type": "code",
      "metadata": {
        "id": "XzVXrF15JjX4",
        "colab_type": "code",
        "colab": {}
      },
      "source": [
        "h_last = np.zeros(M) # initialize h_o \n",
        "Y_hat = np.zeros(N*K).reshape(N,K)\n",
        "\n",
        "for i in range(len(X)):\n",
        "  x = X[i]\n",
        "  for t in range(T):\n",
        "    ht = np.tanh(x[t].dot(W_xh) + h_last.dot(W_hh) + bh)\n",
        "    y_out = ht.dot(W_o) + bo\n",
        "    h_last = ht\n",
        "  Y_hat[i,:] = y_out"
      ],
      "execution_count": 0,
      "outputs": []
    },
    {
      "cell_type": "code",
      "metadata": {
        "id": "uIBqLlj9QSpj",
        "colab_type": "code",
        "colab": {
          "base_uri": "https://localhost:8080/",
          "height": 51
        },
        "outputId": "93c7676b-3639-452a-c833-71fa67b54728"
      },
      "source": [
        "Y_hat"
      ],
      "execution_count": 183,
      "outputs": [
        {
          "output_type": "execute_result",
          "data": {
            "text/plain": [
              "array([[-0.02285626, -0.1594092 ],\n",
              "       [-0.38725474, -0.20148467]])"
            ]
          },
          "metadata": {
            "tags": []
          },
          "execution_count": 183
        }
      ]
    }
  ]
}