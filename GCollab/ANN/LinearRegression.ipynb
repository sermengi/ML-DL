{
  "nbformat": 4,
  "nbformat_minor": 0,
  "metadata": {
    "colab": {
      "name": "LinearRegression.ipynb",
      "provenance": [],
      "collapsed_sections": []
    },
    "kernelspec": {
      "name": "python3",
      "display_name": "Python 3"
    }
  },
  "cells": [
    {
      "cell_type": "code",
      "metadata": {
        "id": "AiOYLtF7MMuP",
        "colab_type": "code",
        "colab": {}
      },
      "source": [
        "import pandas as pd\n",
        "import numpy as np\n",
        "import matplotlib.pyplot as plt\n",
        "\n",
        "import tensorflow as tf"
      ],
      "execution_count": 0,
      "outputs": []
    },
    {
      "cell_type": "markdown",
      "metadata": {
        "id": "09QQwaEtZ_BI",
        "colab_type": "text"
      },
      "source": [
        "## Data Loading"
      ]
    },
    {
      "cell_type": "code",
      "metadata": {
        "id": "u6Ae22cNZ7Y5",
        "colab_type": "code",
        "outputId": "f64a93e2-05e2-4f7c-82bc-b319a77a645f",
        "colab": {
          "base_uri": "https://localhost:8080/",
          "height": 204
        }
      },
      "source": [
        "!wget https://raw.githubusercontent.com/lazyprogrammer/machine_learning_examples/master/tf2.0/moore.csv"
      ],
      "execution_count": 0,
      "outputs": [
        {
          "output_type": "stream",
          "text": [
            "--2020-04-09 11:29:59--  https://raw.githubusercontent.com/lazyprogrammer/machine_learning_examples/master/tf2.0/moore.csv\n",
            "Resolving raw.githubusercontent.com (raw.githubusercontent.com)... 151.101.0.133, 151.101.64.133, 151.101.128.133, ...\n",
            "Connecting to raw.githubusercontent.com (raw.githubusercontent.com)|151.101.0.133|:443... connected.\n",
            "HTTP request sent, awaiting response... 200 OK\n",
            "Length: 2302 (2.2K) [text/plain]\n",
            "Saving to: ‘moore.csv’\n",
            "\n",
            "\rmoore.csv             0%[                    ]       0  --.-KB/s               \rmoore.csv           100%[===================>]   2.25K  --.-KB/s    in 0s      \n",
            "\n",
            "2020-04-09 11:29:59 (41.8 MB/s) - ‘moore.csv’ saved [2302/2302]\n",
            "\n"
          ],
          "name": "stdout"
        }
      ]
    },
    {
      "cell_type": "code",
      "metadata": {
        "id": "vQm5FswBbC85",
        "colab_type": "code",
        "outputId": "32ef30db-aacd-4a95-969d-fd098a83a41e",
        "colab": {
          "base_uri": "https://localhost:8080/",
          "height": 34
        }
      },
      "source": [
        "!ls"
      ],
      "execution_count": 0,
      "outputs": [
        {
          "output_type": "stream",
          "text": [
            "moore.csv  sample_data\n"
          ],
          "name": "stdout"
        }
      ]
    },
    {
      "cell_type": "code",
      "metadata": {
        "id": "7pao2KqobGqw",
        "colab_type": "code",
        "colab": {}
      },
      "source": [
        "data = pd.read_csv('moore.csv',header=None).values\n",
        "X = data[:,0].reshape(-1,1)\n",
        "Y = data[:,1]"
      ],
      "execution_count": 0,
      "outputs": []
    },
    {
      "cell_type": "code",
      "metadata": {
        "id": "9Sg7EghIbQ9q",
        "colab_type": "code",
        "outputId": "c507d792-d999-47e6-bc1d-2fd5b0099342",
        "colab": {
          "base_uri": "https://localhost:8080/",
          "height": 34
        }
      },
      "source": [
        "X.shape"
      ],
      "execution_count": 0,
      "outputs": [
        {
          "output_type": "execute_result",
          "data": {
            "text/plain": [
              "(162, 1)"
            ]
          },
          "metadata": {
            "tags": []
          },
          "execution_count": 5
        }
      ]
    },
    {
      "cell_type": "code",
      "metadata": {
        "id": "4OphFkMdbu3L",
        "colab_type": "code",
        "outputId": "a723e476-5411-40f9-f292-ade234f49426",
        "colab": {
          "base_uri": "https://localhost:8080/",
          "height": 293
        }
      },
      "source": [
        "plt.scatter(X,Y)"
      ],
      "execution_count": 0,
      "outputs": [
        {
          "output_type": "execute_result",
          "data": {
            "text/plain": [
              "<matplotlib.collections.PathCollection at 0x7f60ad4856d8>"
            ]
          },
          "metadata": {
            "tags": []
          },
          "execution_count": 6
        },
        {
          "output_type": "display_data",
          "data": {
            "image/png": "[encoded data removed]",
            "text/plain": [
              "<Figure size 432x288 with 1 Axes>"
            ]
          },
          "metadata": {
            "tags": []
          }
        }
      ]
    },
    {
      "cell_type": "code",
      "metadata": {
        "id": "EncUCcbtgH6a",
        "colab_type": "code",
        "outputId": "7459bd6b-050e-4ac3-823d-7d7a4c65d726",
        "colab": {
          "base_uri": "https://localhost:8080/",
          "height": 282
        }
      },
      "source": [
        "Y = np.log(Y)\n",
        "plt.scatter(X,Y)"
      ],
      "execution_count": 0,
      "outputs": [
        {
          "output_type": "execute_result",
          "data": {
            "text/plain": [
              "<matplotlib.collections.PathCollection at 0x7f60aa756710>"
            ]
          },
          "metadata": {
            "tags": []
          },
          "execution_count": 7
        },
        {
          "output_type": "display_data",
          "data": {
            "image/png": "[encoded data removed]",
            "text/plain": [
              "<Figure size 432x288 with 1 Axes>"
            ]
          },
          "metadata": {
            "tags": []
          }
        }
      ]
    },
    {
      "cell_type": "code",
      "metadata": {
        "id": "WGB_S2BngNUI",
        "colab_type": "code",
        "colab": {}
      },
      "source": [
        "X = X - X.mean() # Scaling the X values"
      ],
      "execution_count": 0,
      "outputs": []
    },
    {
      "cell_type": "markdown",
      "metadata": {
        "id": "bVj-WZ-QvFlN",
        "colab_type": "text"
      },
      "source": [
        "## Model"
      ]
    },
    {
      "cell_type": "code",
      "metadata": {
        "id": "Sggm7WOhgawj",
        "colab_type": "code",
        "colab": {}
      },
      "source": [
        "model = tf.keras.Sequential([\n",
        "                             tf.keras.layers.Input(shape=(1,)),\n",
        "                             tf.keras.layers.Dense(1)\n",
        "                            ])\n",
        "\n",
        "model.compile(optimizer=tf.keras.optimizers.SGD(0.001,0.9),loss='mse')"
      ],
      "execution_count": 0,
      "outputs": []
    },
    {
      "cell_type": "code",
      "metadata": {
        "id": "BhZnwLu_hLfF",
        "colab_type": "code",
        "colab": {}
      },
      "source": [
        "# learning rate schedular\n",
        "def schedule(epoch,lr):\n",
        "\n",
        "  if epoch >= 50:\n",
        "    return 0.0001\n",
        "  return 0.001\n",
        "\n",
        "scheduler = tf.keras.callbacks.LearningRateScheduler(schedule)"
      ],
      "execution_count": 0,
      "outputs": []
    },
    {
      "cell_type": "code",
      "metadata": {
        "id": "Wg2gbaIAh9qv",
        "colab_type": "code",
        "outputId": "f2bd09b8-272b-4326-b64e-7f3d05759c88",
        "colab": {
          "base_uri": "https://localhost:8080/",
          "height": 1000
        }
      },
      "source": [
        "model.fit(X,Y,epochs=200,callbacks=[scheduler])"
      ],
      "execution_count": 0,
      "outputs": [
        {
          "output_type": "stream",
          "text": [
            "Epoch 1/200\n",
            "6/6 [==============================] - 0s 2ms/step - loss: 689.1138 - lr: 0.0010\n",
            "Epoch 2/200\n",
            "6/6 [==============================] - 0s 1ms/step - loss: 504.5771 - lr: 0.0010\n",
            "Epoch 3/200\n",
            "6/6 [==============================] - 0s 1ms/step - loss: 463.9871 - lr: 0.0010\n",
            "Epoch 4/200\n",
            "6/6 [==============================] - 0s 1ms/step - loss: 608.2693 - lr: 0.0010\n",
            "Epoch 5/200\n",
            "6/6 [==============================] - 0s 1ms/step - loss: 235.2373 - lr: 0.0010\n",
            "Epoch 6/200\n",
            "6/6 [==============================] - 0s 1ms/step - loss: 167.2854 - lr: 0.0010\n",
            "Epoch 7/200\n",
            "6/6 [==============================] - 0s 1ms/step - loss: 138.5287 - lr: 0.0010\n",
            "Epoch 8/200\n",
            "6/6 [==============================] - 0s 2ms/step - loss: 74.7766 - lr: 0.0010\n",
            "Epoch 9/200\n",
            "6/6 [==============================] - 0s 1ms/step - loss: 58.5849 - lr: 0.0010\n",
            "Epoch 10/200\n",
            "6/6 [==============================] - 0s 1ms/step - loss: 63.0043 - lr: 0.0010\n",
            "Epoch 11/200\n",
            "6/6 [==============================] - 0s 1ms/step - loss: 22.9529 - lr: 0.0010\n",
            "Epoch 12/200\n",
            "6/6 [==============================] - 0s 1ms/step - loss: 24.1497 - lr: 0.0010\n",
            "Epoch 13/200\n",
            "6/6 [==============================] - 0s 1ms/step - loss: 15.3591 - lr: 0.0010\n",
            "Epoch 14/200\n",
            "6/6 [==============================] - 0s 1ms/step - loss: 8.5421 - lr: 0.0010\n",
            "Epoch 15/200\n",
            "6/6 [==============================] - 0s 1ms/step - loss: 11.1690 - lr: 0.0010\n",
            "Epoch 16/200\n",
            "6/6 [==============================] - 0s 1ms/step - loss: 6.4458 - lr: 0.0010\n",
            "Epoch 17/200\n",
            "6/6 [==============================] - 0s 1ms/step - loss: 4.8845 - lr: 0.0010\n",
            "Epoch 18/200\n",
            "6/6 [==============================] - 0s 2ms/step - loss: 3.4857 - lr: 0.0010\n",
            "Epoch 19/200\n",
            "6/6 [==============================] - 0s 2ms/step - loss: 2.4034 - lr: 0.0010\n",
            "Epoch 20/200\n",
            "6/6 [==============================] - 0s 1ms/step - loss: 2.3175 - lr: 0.0010\n",
            "Epoch 21/200\n",
            "6/6 [==============================] - 0s 1ms/step - loss: 1.7657 - lr: 0.0010\n",
            "Epoch 22/200\n",
            "6/6 [==============================] - 0s 2ms/step - loss: 1.2738 - lr: 0.0010\n",
            "Epoch 23/200\n",
            "6/6 [==============================] - 0s 1ms/step - loss: 1.2090 - lr: 0.0010\n",
            "Epoch 24/200\n",
            "6/6 [==============================] - 0s 1ms/step - loss: 0.9693 - lr: 0.0010\n",
            "Epoch 25/200\n",
            "6/6 [==============================] - 0s 1ms/step - loss: 1.0382 - lr: 0.0010\n",
            "Epoch 26/200\n",
            "6/6 [==============================] - 0s 1ms/step - loss: 1.3759 - lr: 0.0010\n",
            "Epoch 27/200\n",
            "6/6 [==============================] - 0s 2ms/step - loss: 2.2131 - lr: 0.0010\n",
            "Epoch 28/200\n",
            "6/6 [==============================] - 0s 1ms/step - loss: 1.2782 - lr: 0.0010\n",
            "Epoch 29/200\n",
            "6/6 [==============================] - 0s 1ms/step - loss: 0.9141 - lr: 0.0010\n",
            "Epoch 30/200\n",
            "6/6 [==============================] - 0s 1ms/step - loss: 0.7915 - lr: 0.0010\n",
            "Epoch 31/200\n",
            "6/6 [==============================] - 0s 2ms/step - loss: 0.9022 - lr: 0.0010\n",
            "Epoch 32/200\n",
            "6/6 [==============================] - 0s 1ms/step - loss: 1.1004 - lr: 0.0010\n",
            "Epoch 33/200\n",
            "6/6 [==============================] - 0s 2ms/step - loss: 0.9063 - lr: 0.0010\n",
            "Epoch 34/200\n",
            "6/6 [==============================] - 0s 1ms/step - loss: 1.0594 - lr: 0.0010\n",
            "Epoch 35/200\n",
            "6/6 [==============================] - 0s 1ms/step - loss: 0.9416 - lr: 0.0010\n",
            "Epoch 36/200\n",
            "6/6 [==============================] - 0s 2ms/step - loss: 0.7756 - lr: 0.0010\n",
            "Epoch 37/200\n",
            "6/6 [==============================] - 0s 2ms/step - loss: 0.8151 - lr: 0.0010\n",
            "Epoch 38/200\n",
            "6/6 [==============================] - 0s 2ms/step - loss: 0.7646 - lr: 0.0010\n",
            "Epoch 39/200\n",
            "6/6 [==============================] - 0s 1ms/step - loss: 0.7986 - lr: 0.0010\n",
            "Epoch 40/200\n",
            "6/6 [==============================] - 0s 2ms/step - loss: 0.8508 - lr: 0.0010\n",
            "Epoch 41/200\n",
            "6/6 [==============================] - 0s 2ms/step - loss: 1.0585 - lr: 0.0010\n",
            "Epoch 42/200\n",
            "6/6 [==============================] - 0s 1ms/step - loss: 0.8519 - lr: 0.0010\n",
            "Epoch 43/200\n",
            "6/6 [==============================] - 0s 1ms/step - loss: 0.7936 - lr: 0.0010\n",
            "Epoch 44/200\n",
            "6/6 [==============================] - 0s 1ms/step - loss: 1.1998 - lr: 0.0010\n",
            "Epoch 45/200\n",
            "6/6 [==============================] - 0s 1ms/step - loss: 0.8124 - lr: 0.0010\n",
            "Epoch 46/200\n",
            "6/6 [==============================] - 0s 1ms/step - loss: 0.8443 - lr: 0.0010\n",
            "Epoch 47/200\n",
            "6/6 [==============================] - 0s 1ms/step - loss: 0.7902 - lr: 0.0010\n",
            "Epoch 48/200\n",
            "6/6 [==============================] - 0s 1ms/step - loss: 0.8420 - lr: 0.0010\n",
            "Epoch 49/200\n",
            "6/6 [==============================] - 0s 1ms/step - loss: 1.7373 - lr: 0.0010\n",
            "Epoch 50/200\n",
            "6/6 [==============================] - 0s 1ms/step - loss: 1.2149 - lr: 0.0010\n",
            "Epoch 51/200\n",
            "6/6 [==============================] - 0s 1ms/step - loss: 3.2876 - lr: 1.0000e-04\n",
            "Epoch 52/200\n",
            "6/6 [==============================] - 0s 1ms/step - loss: 1.7479 - lr: 1.0000e-04\n",
            "Epoch 53/200\n",
            "6/6 [==============================] - 0s 1ms/step - loss: 1.2457 - lr: 1.0000e-04\n",
            "Epoch 54/200\n",
            "6/6 [==============================] - 0s 2ms/step - loss: 1.2045 - lr: 1.0000e-04\n",
            "Epoch 55/200\n",
            "6/6 [==============================] - 0s 1ms/step - loss: 0.8663 - lr: 1.0000e-04\n",
            "Epoch 56/200\n",
            "6/6 [==============================] - 0s 1ms/step - loss: 0.9086 - lr: 1.0000e-04\n",
            "Epoch 57/200\n",
            "6/6 [==============================] - 0s 1ms/step - loss: 0.8916 - lr: 1.0000e-04\n",
            "Epoch 58/200\n",
            "6/6 [==============================] - 0s 1ms/step - loss: 1.7701 - lr: 1.0000e-04\n",
            "Epoch 59/200\n",
            "6/6 [==============================] - 0s 1ms/step - loss: 0.8836 - lr: 1.0000e-04\n",
            "Epoch 60/200\n",
            "6/6 [==============================] - 0s 1ms/step - loss: 0.8840 - lr: 1.0000e-04\n",
            "Epoch 61/200\n",
            "6/6 [==============================] - 0s 1ms/step - loss: 0.7689 - lr: 1.0000e-04\n",
            "Epoch 62/200\n",
            "6/6 [==============================] - 0s 1ms/step - loss: 0.9727 - lr: 1.0000e-04\n",
            "Epoch 63/200\n",
            "6/6 [==============================] - 0s 1ms/step - loss: 0.7844 - lr: 1.0000e-04\n",
            "Epoch 64/200\n",
            "6/6 [==============================] - 0s 1ms/step - loss: 0.7626 - lr: 1.0000e-04\n",
            "Epoch 65/200\n",
            "6/6 [==============================] - 0s 2ms/step - loss: 0.7401 - lr: 1.0000e-04\n",
            "Epoch 66/200\n",
            "6/6 [==============================] - 0s 2ms/step - loss: 0.8191 - lr: 1.0000e-04\n",
            "Epoch 67/200\n",
            "6/6 [==============================] - 0s 1ms/step - loss: 0.7914 - lr: 1.0000e-04\n",
            "Epoch 68/200\n",
            "6/6 [==============================] - 0s 2ms/step - loss: 0.7698 - lr: 1.0000e-04\n",
            "Epoch 69/200\n",
            "6/6 [==============================] - 0s 2ms/step - loss: 0.7511 - lr: 1.0000e-04\n",
            "Epoch 70/200\n",
            "6/6 [==============================] - 0s 2ms/step - loss: 1.0696 - lr: 1.0000e-04\n",
            "Epoch 71/200\n",
            "6/6 [==============================] - 0s 1ms/step - loss: 0.7414 - lr: 1.0000e-04\n",
            "Epoch 72/200\n",
            "6/6 [==============================] - 0s 2ms/step - loss: 0.8575 - lr: 1.0000e-04\n",
            "Epoch 73/200\n",
            "6/6 [==============================] - 0s 1ms/step - loss: 0.7850 - lr: 1.0000e-04\n",
            "Epoch 74/200\n",
            "6/6 [==============================] - 0s 2ms/step - loss: 0.9310 - lr: 1.0000e-04\n",
            "Epoch 75/200\n",
            "6/6 [==============================] - 0s 2ms/step - loss: 0.7840 - lr: 1.0000e-04\n",
            "Epoch 76/200\n",
            "6/6 [==============================] - 0s 1ms/step - loss: 0.7576 - lr: 1.0000e-04\n",
            "Epoch 77/200\n",
            "6/6 [==============================] - 0s 2ms/step - loss: 0.7829 - lr: 1.0000e-04\n",
            "Epoch 78/200\n",
            "6/6 [==============================] - 0s 2ms/step - loss: 0.7602 - lr: 1.0000e-04\n",
            "Epoch 79/200\n",
            "6/6 [==============================] - 0s 1ms/step - loss: 0.8479 - lr: 1.0000e-04\n",
            "Epoch 80/200\n",
            "6/6 [==============================] - 0s 1ms/step - loss: 0.8118 - lr: 1.0000e-04\n",
            "Epoch 81/200\n",
            "6/6 [==============================] - 0s 1ms/step - loss: 0.9471 - lr: 1.0000e-04\n",
            "Epoch 82/200\n",
            "6/6 [==============================] - 0s 2ms/step - loss: 0.7510 - lr: 1.0000e-04\n",
            "Epoch 83/200\n",
            "6/6 [==============================] - 0s 1ms/step - loss: 0.7476 - lr: 1.0000e-04\n",
            "Epoch 84/200\n",
            "6/6 [==============================] - 0s 2ms/step - loss: 0.7760 - lr: 1.0000e-04\n",
            "Epoch 85/200\n",
            "6/6 [==============================] - 0s 1ms/step - loss: 1.1871 - lr: 1.0000e-04\n",
            "Epoch 86/200\n",
            "6/6 [==============================] - 0s 2ms/step - loss: 0.7422 - lr: 1.0000e-04\n",
            "Epoch 87/200\n",
            "6/6 [==============================] - 0s 2ms/step - loss: 0.8982 - lr: 1.0000e-04\n",
            "Epoch 88/200\n",
            "6/6 [==============================] - 0s 1ms/step - loss: 0.9776 - lr: 1.0000e-04\n",
            "Epoch 89/200\n",
            "6/6 [==============================] - 0s 1ms/step - loss: 0.8651 - lr: 1.0000e-04\n",
            "Epoch 90/200\n",
            "6/6 [==============================] - 0s 1ms/step - loss: 0.8852 - lr: 1.0000e-04\n",
            "Epoch 91/200\n",
            "6/6 [==============================] - 0s 2ms/step - loss: 0.7660 - lr: 1.0000e-04\n",
            "Epoch 92/200\n",
            "6/6 [==============================] - 0s 2ms/step - loss: 0.7623 - lr: 1.0000e-04\n",
            "Epoch 93/200\n",
            "6/6 [==============================] - 0s 1ms/step - loss: 0.7915 - lr: 1.0000e-04\n",
            "Epoch 94/200\n",
            "6/6 [==============================] - 0s 2ms/step - loss: 0.7656 - lr: 1.0000e-04\n",
            "Epoch 95/200\n",
            "6/6 [==============================] - 0s 1ms/step - loss: 0.7775 - lr: 1.0000e-04\n",
            "Epoch 96/200\n",
            "6/6 [==============================] - 0s 1ms/step - loss: 0.9228 - lr: 1.0000e-04\n",
            "Epoch 97/200\n",
            "6/6 [==============================] - 0s 2ms/step - loss: 1.1749 - lr: 1.0000e-04\n",
            "Epoch 98/200\n",
            "6/6 [==============================] - 0s 1ms/step - loss: 0.7595 - lr: 1.0000e-04\n",
            "Epoch 99/200\n",
            "6/6 [==============================] - 0s 1ms/step - loss: 0.8239 - lr: 1.0000e-04\n",
            "Epoch 100/200\n",
            "6/6 [==============================] - 0s 1ms/step - loss: 0.7759 - lr: 1.0000e-04\n",
            "Epoch 101/200\n",
            "6/6 [==============================] - 0s 1ms/step - loss: 0.8008 - lr: 1.0000e-04\n",
            "Epoch 102/200\n",
            "6/6 [==============================] - 0s 1ms/step - loss: 1.0288 - lr: 1.0000e-04\n",
            "Epoch 103/200\n",
            "6/6 [==============================] - 0s 1ms/step - loss: 0.7657 - lr: 1.0000e-04\n",
            "Epoch 104/200\n",
            "6/6 [==============================] - 0s 2ms/step - loss: 0.8561 - lr: 1.0000e-04\n",
            "Epoch 105/200\n",
            "6/6 [==============================] - 0s 2ms/step - loss: 0.8107 - lr: 1.0000e-04\n",
            "Epoch 106/200\n",
            "6/6 [==============================] - 0s 1ms/step - loss: 0.9245 - lr: 1.0000e-04\n",
            "Epoch 107/200\n",
            "6/6 [==============================] - 0s 1ms/step - loss: 0.7569 - lr: 1.0000e-04\n",
            "Epoch 108/200\n",
            "6/6 [==============================] - 0s 1ms/step - loss: 0.7812 - lr: 1.0000e-04\n",
            "Epoch 109/200\n",
            "6/6 [==============================] - 0s 1ms/step - loss: 0.7869 - lr: 1.0000e-04\n",
            "Epoch 110/200\n",
            "6/6 [==============================] - 0s 1ms/step - loss: 0.7573 - lr: 1.0000e-04\n",
            "Epoch 111/200\n",
            "6/6 [==============================] - 0s 1ms/step - loss: 0.8133 - lr: 1.0000e-04\n",
            "Epoch 112/200\n",
            "6/6 [==============================] - 0s 1ms/step - loss: 0.8060 - lr: 1.0000e-04\n",
            "Epoch 113/200\n",
            "6/6 [==============================] - 0s 1ms/step - loss: 0.9939 - lr: 1.0000e-04\n",
            "Epoch 114/200\n",
            "6/6 [==============================] - 0s 1ms/step - loss: 0.7652 - lr: 1.0000e-04\n",
            "Epoch 115/200\n",
            "6/6 [==============================] - 0s 1ms/step - loss: 0.7360 - lr: 1.0000e-04\n",
            "Epoch 116/200\n",
            "6/6 [==============================] - 0s 1ms/step - loss: 0.7650 - lr: 1.0000e-04\n",
            "Epoch 117/200\n",
            "6/6 [==============================] - 0s 2ms/step - loss: 0.7882 - lr: 1.0000e-04\n",
            "Epoch 118/200\n",
            "6/6 [==============================] - 0s 1ms/step - loss: 0.7911 - lr: 1.0000e-04\n",
            "Epoch 119/200\n",
            "6/6 [==============================] - 0s 2ms/step - loss: 0.7769 - lr: 1.0000e-04\n",
            "Epoch 120/200\n",
            "6/6 [==============================] - 0s 2ms/step - loss: 0.7424 - lr: 1.0000e-04\n",
            "Epoch 121/200\n",
            "6/6 [==============================] - 0s 1ms/step - loss: 2.7242 - lr: 1.0000e-04\n",
            "Epoch 122/200\n",
            "6/6 [==============================] - 0s 1ms/step - loss: 0.8212 - lr: 1.0000e-04\n",
            "Epoch 123/200\n",
            "6/6 [==============================] - 0s 1ms/step - loss: 0.9371 - lr: 1.0000e-04\n",
            "Epoch 124/200\n",
            "6/6 [==============================] - 0s 1ms/step - loss: 0.8316 - lr: 1.0000e-04\n",
            "Epoch 125/200\n",
            "6/6 [==============================] - 0s 1ms/step - loss: 0.7519 - lr: 1.0000e-04\n",
            "Epoch 126/200\n",
            "6/6 [==============================] - 0s 1ms/step - loss: 0.8160 - lr: 1.0000e-04\n",
            "Epoch 127/200\n",
            "6/6 [==============================] - 0s 1ms/step - loss: 0.9805 - lr: 1.0000e-04\n",
            "Epoch 128/200\n",
            "6/6 [==============================] - 0s 1ms/step - loss: 0.8145 - lr: 1.0000e-04\n",
            "Epoch 129/200\n",
            "6/6 [==============================] - 0s 1ms/step - loss: 0.7498 - lr: 1.0000e-04\n",
            "Epoch 130/200\n",
            "6/6 [==============================] - 0s 1ms/step - loss: 0.7575 - lr: 1.0000e-04\n",
            "Epoch 131/200\n",
            "6/6 [==============================] - 0s 1ms/step - loss: 0.8750 - lr: 1.0000e-04\n",
            "Epoch 132/200\n",
            "6/6 [==============================] - 0s 1ms/step - loss: 0.7742 - lr: 1.0000e-04\n",
            "Epoch 133/200\n",
            "6/6 [==============================] - 0s 1ms/step - loss: 0.7950 - lr: 1.0000e-04\n",
            "Epoch 134/200\n",
            "6/6 [==============================] - 0s 1ms/step - loss: 0.7560 - lr: 1.0000e-04\n",
            "Epoch 135/200\n",
            "6/6 [==============================] - 0s 1ms/step - loss: 0.7414 - lr: 1.0000e-04\n",
            "Epoch 136/200\n",
            "6/6 [==============================] - 0s 1ms/step - loss: 0.7708 - lr: 1.0000e-04\n",
            "Epoch 137/200\n",
            "6/6 [==============================] - 0s 1ms/step - loss: 0.7904 - lr: 1.0000e-04\n",
            "Epoch 138/200\n",
            "6/6 [==============================] - 0s 3ms/step - loss: 0.8459 - lr: 1.0000e-04\n",
            "Epoch 139/200\n",
            "6/6 [==============================] - 0s 2ms/step - loss: 1.6272 - lr: 1.0000e-04\n",
            "Epoch 140/200\n",
            "6/6 [==============================] - 0s 2ms/step - loss: 2.8737 - lr: 1.0000e-04\n",
            "Epoch 141/200\n",
            "6/6 [==============================] - 0s 1ms/step - loss: 0.8406 - lr: 1.0000e-04\n",
            "Epoch 142/200\n",
            "6/6 [==============================] - 0s 1ms/step - loss: 0.7824 - lr: 1.0000e-04\n",
            "Epoch 143/200\n",
            "6/6 [==============================] - 0s 1ms/step - loss: 0.7601 - lr: 1.0000e-04\n",
            "Epoch 144/200\n",
            "6/6 [==============================] - 0s 1ms/step - loss: 0.8017 - lr: 1.0000e-04\n",
            "Epoch 145/200\n",
            "6/6 [==============================] - 0s 1ms/step - loss: 0.7477 - lr: 1.0000e-04\n",
            "Epoch 146/200\n",
            "6/6 [==============================] - 0s 2ms/step - loss: 0.7580 - lr: 1.0000e-04\n",
            "Epoch 147/200\n",
            "6/6 [==============================] - 0s 1ms/step - loss: 0.8203 - lr: 1.0000e-04\n",
            "Epoch 148/200\n",
            "6/6 [==============================] - 0s 1ms/step - loss: 0.7679 - lr: 1.0000e-04\n",
            "Epoch 149/200\n",
            "6/6 [==============================] - 0s 2ms/step - loss: 0.9863 - lr: 1.0000e-04\n",
            "Epoch 150/200\n",
            "6/6 [==============================] - 0s 1ms/step - loss: 0.7942 - lr: 1.0000e-04\n",
            "Epoch 151/200\n",
            "6/6 [==============================] - 0s 2ms/step - loss: 0.7385 - lr: 1.0000e-04\n",
            "Epoch 152/200\n",
            "6/6 [==============================] - 0s 2ms/step - loss: 0.7400 - lr: 1.0000e-04\n",
            "Epoch 153/200\n",
            "6/6 [==============================] - 0s 1ms/step - loss: 1.1894 - lr: 1.0000e-04\n",
            "Epoch 154/200\n",
            "6/6 [==============================] - 0s 1ms/step - loss: 2.7399 - lr: 1.0000e-04\n",
            "Epoch 155/200\n",
            "6/6 [==============================] - 0s 1ms/step - loss: 0.9170 - lr: 1.0000e-04\n",
            "Epoch 156/200\n",
            "6/6 [==============================] - 0s 1ms/step - loss: 1.0031 - lr: 1.0000e-04\n",
            "Epoch 157/200\n",
            "6/6 [==============================] - 0s 1ms/step - loss: 0.7822 - lr: 1.0000e-04\n",
            "Epoch 158/200\n",
            "6/6 [==============================] - 0s 1ms/step - loss: 0.7991 - lr: 1.0000e-04\n",
            "Epoch 159/200\n",
            "6/6 [==============================] - 0s 1ms/step - loss: 0.7938 - lr: 1.0000e-04\n",
            "Epoch 160/200\n",
            "6/6 [==============================] - 0s 2ms/step - loss: 0.7440 - lr: 1.0000e-04\n",
            "Epoch 161/200\n",
            "6/6 [==============================] - 0s 1ms/step - loss: 0.8241 - lr: 1.0000e-04\n",
            "Epoch 162/200\n",
            "6/6 [==============================] - 0s 2ms/step - loss: 0.9910 - lr: 1.0000e-04\n",
            "Epoch 163/200\n",
            "6/6 [==============================] - 0s 1ms/step - loss: 1.0035 - lr: 1.0000e-04\n",
            "Epoch 164/200\n",
            "6/6 [==============================] - 0s 1ms/step - loss: 0.8777 - lr: 1.0000e-04\n",
            "Epoch 165/200\n",
            "6/6 [==============================] - 0s 1ms/step - loss: 0.7820 - lr: 1.0000e-04\n",
            "Epoch 166/200\n",
            "6/6 [==============================] - 0s 1ms/step - loss: 0.7559 - lr: 1.0000e-04\n",
            "Epoch 167/200\n",
            "6/6 [==============================] - 0s 2ms/step - loss: 0.7661 - lr: 1.0000e-04\n",
            "Epoch 168/200\n",
            "6/6 [==============================] - 0s 2ms/step - loss: 0.9141 - lr: 1.0000e-04\n",
            "Epoch 169/200\n",
            "6/6 [==============================] - 0s 2ms/step - loss: 0.8360 - lr: 1.0000e-04\n",
            "Epoch 170/200\n",
            "6/6 [==============================] - 0s 1ms/step - loss: 0.8551 - lr: 1.0000e-04\n",
            "Epoch 171/200\n",
            "6/6 [==============================] - 0s 1ms/step - loss: 0.7830 - lr: 1.0000e-04\n",
            "Epoch 172/200\n",
            "6/6 [==============================] - 0s 1ms/step - loss: 0.8254 - lr: 1.0000e-04\n",
            "Epoch 173/200\n",
            "6/6 [==============================] - 0s 2ms/step - loss: 0.7898 - lr: 1.0000e-04\n",
            "Epoch 174/200\n",
            "6/6 [==============================] - 0s 1ms/step - loss: 0.8348 - lr: 1.0000e-04\n",
            "Epoch 175/200\n",
            "6/6 [==============================] - 0s 1ms/step - loss: 0.7498 - lr: 1.0000e-04\n",
            "Epoch 176/200\n",
            "6/6 [==============================] - 0s 2ms/step - loss: 0.7556 - lr: 1.0000e-04\n",
            "Epoch 177/200\n",
            "6/6 [==============================] - 0s 1ms/step - loss: 1.1383 - lr: 1.0000e-04\n",
            "Epoch 178/200\n",
            "6/6 [==============================] - 0s 1ms/step - loss: 0.7912 - lr: 1.0000e-04\n",
            "Epoch 179/200\n",
            "6/6 [==============================] - 0s 1ms/step - loss: 0.8114 - lr: 1.0000e-04\n",
            "Epoch 180/200\n",
            "6/6 [==============================] - 0s 1ms/step - loss: 0.7703 - lr: 1.0000e-04\n",
            "Epoch 181/200\n",
            "6/6 [==============================] - 0s 1ms/step - loss: 0.7557 - lr: 1.0000e-04\n",
            "Epoch 182/200\n",
            "6/6 [==============================] - 0s 1ms/step - loss: 0.8837 - lr: 1.0000e-04\n",
            "Epoch 183/200\n",
            "6/6 [==============================] - 0s 2ms/step - loss: 0.7482 - lr: 1.0000e-04\n",
            "Epoch 184/200\n",
            "6/6 [==============================] - 0s 1ms/step - loss: 0.8005 - lr: 1.0000e-04\n",
            "Epoch 185/200\n",
            "6/6 [==============================] - 0s 2ms/step - loss: 0.8453 - lr: 1.0000e-04\n",
            "Epoch 186/200\n",
            "6/6 [==============================] - 0s 1ms/step - loss: 0.7415 - lr: 1.0000e-04\n",
            "Epoch 187/200\n",
            "6/6 [==============================] - 0s 1ms/step - loss: 0.7546 - lr: 1.0000e-04\n",
            "Epoch 188/200\n",
            "6/6 [==============================] - 0s 1ms/step - loss: 0.7626 - lr: 1.0000e-04\n",
            "Epoch 189/200\n",
            "6/6 [==============================] - 0s 1ms/step - loss: 0.7936 - lr: 1.0000e-04\n",
            "Epoch 190/200\n",
            "6/6 [==============================] - 0s 2ms/step - loss: 0.8095 - lr: 1.0000e-04\n",
            "Epoch 191/200\n",
            "6/6 [==============================] - 0s 1ms/step - loss: 0.7537 - lr: 1.0000e-04\n",
            "Epoch 192/200\n",
            "6/6 [==============================] - 0s 1ms/step - loss: 1.2246 - lr: 1.0000e-04\n",
            "Epoch 193/200\n",
            "6/6 [==============================] - 0s 1ms/step - loss: 0.8048 - lr: 1.0000e-04\n",
            "Epoch 194/200\n",
            "6/6 [==============================] - 0s 1ms/step - loss: 0.7437 - lr: 1.0000e-04\n",
            "Epoch 195/200\n",
            "6/6 [==============================] - 0s 2ms/step - loss: 0.7719 - lr: 1.0000e-04\n",
            "Epoch 196/200\n",
            "6/6 [==============================] - 0s 1ms/step - loss: 0.7551 - lr: 1.0000e-04\n",
            "Epoch 197/200\n",
            "6/6 [==============================] - 0s 1ms/step - loss: 0.7589 - lr: 1.0000e-04\n",
            "Epoch 198/200\n",
            "6/6 [==============================] - 0s 1ms/step - loss: 0.8205 - lr: 1.0000e-04\n",
            "Epoch 199/200\n",
            "6/6 [==============================] - 0s 1ms/step - loss: 0.7520 - lr: 1.0000e-04\n",
            "Epoch 200/200\n",
            "6/6 [==============================] - 0s 1ms/step - loss: 0.8418 - lr: 1.0000e-04\n"
          ],
          "name": "stdout"
        },
        {
          "output_type": "execute_result",
          "data": {
            "text/plain": [
              "<tensorflow.python.keras.callbacks.History at 0x7f60a4467128>"
            ]
          },
          "metadata": {
            "tags": []
          },
          "execution_count": 11
        }
      ]
    },
    {
      "cell_type": "code",
      "metadata": {
        "id": "Ie8Pgs0wiMp4",
        "colab_type": "code",
        "outputId": "24ff4567-7fd8-486f-b1b0-243c62e06ea1",
        "colab": {
          "base_uri": "https://localhost:8080/",
          "height": 282
        }
      },
      "source": [
        "plt.plot(model.history.history['loss'],label='loss')"
      ],
      "execution_count": 0,
      "outputs": [
        {
          "output_type": "execute_result",
          "data": {
            "text/plain": [
              "[<matplotlib.lines.Line2D at 0x7f60a16252e8>]"
            ]
          },
          "metadata": {
            "tags": []
          },
          "execution_count": 12
        },
        {
          "output_type": "display_data",
          "data": {
            "image/png": "[encoded data removed]",
            "text/plain": [
              "<Figure size 432x288 with 1 Axes>"
            ]
          },
          "metadata": {
            "tags": []
          }
        }
      ]
    },
    {
      "cell_type": "code",
      "metadata": {
        "id": "fbW3AH4Jigxz",
        "colab_type": "code",
        "outputId": "e0c1e9f4-3e2a-45f5-9edb-beb0f5c58e2e",
        "colab": {
          "base_uri": "https://localhost:8080/",
          "height": 51
        }
      },
      "source": [
        "print(model.layers)\n",
        "print(model.layers[0].get_weights())"
      ],
      "execution_count": 0,
      "outputs": [
        {
          "output_type": "stream",
          "text": [
            "[<tensorflow.python.keras.layers.core.Dense object at 0x7f60aa7758d0>]\n",
            "[array([[0.3365019]], dtype=float32), array([17.769588], dtype=float32)]\n"
          ],
          "name": "stdout"
        }
      ]
    },
    {
      "cell_type": "code",
      "metadata": {
        "id": "7Zz-kW4Cja4M",
        "colab_type": "code",
        "outputId": "6d4e1de3-3a67-4c2b-80c3-1bf516f6c143",
        "colab": {
          "base_uri": "https://localhost:8080/",
          "height": 34
        }
      },
      "source": [
        "a = model.layers[0].get_weights()[0][0,0]\n",
        "print('Time to double',np.log(2)/a)"
      ],
      "execution_count": 0,
      "outputs": [
        {
          "output_type": "stream",
          "text": [
            "Time to double 2.0598611419840536\n"
          ],
          "name": "stdout"
        }
      ]
    },
    {
      "cell_type": "markdown",
      "metadata": {
        "id": "Sk4RQ1XgtFsw",
        "colab_type": "text"
      },
      "source": [
        "## Model Predictions"
      ]
    },
    {
      "cell_type": "code",
      "metadata": {
        "id": "itb_UjfztHh4",
        "colab_type": "code",
        "outputId": "baa2c159-a5da-42f5-952c-4c7c1b0544fd",
        "colab": {
          "base_uri": "https://localhost:8080/",
          "height": 282
        }
      },
      "source": [
        "Yhat = model.predict(X).flatten()\n",
        "plt.scatter(X,Y)\n",
        "plt.plot(X,Yhat,'r')"
      ],
      "execution_count": 0,
      "outputs": [
        {
          "output_type": "execute_result",
          "data": {
            "text/plain": [
              "[<matplotlib.lines.Line2D at 0x7f60a1173128>]"
            ]
          },
          "metadata": {
            "tags": []
          },
          "execution_count": 17
        },
        {
          "output_type": "display_data",
          "data": {
            "image/png": "[encoded data removed]",
            "text/plain": [
              "<Figure size 432x288 with 1 Axes>"
            ]
          },
          "metadata": {
            "tags": []
          }
        }
      ]
    },
    {
      "cell_type": "code",
      "metadata": {
        "id": "oJbps8CKtVI0",
        "colab_type": "code",
        "outputId": "27040d55-0259-44ee-8d34-57de26d3ebdf",
        "colab": {
          "base_uri": "https://localhost:8080/",
          "height": 34
        }
      },
      "source": [
        "# Manuel Calculation\n",
        "\n",
        "w,b = model.layers[0].get_weights()\n",
        "X = X.reshape(-1,1)\n",
        "#(N,1) = (N,1)*(1,1) + (1)\n",
        "Yhat2 = (X.dot(w)+b).flatten()\n",
        "\n",
        "np.allclose(Yhat2,Yhat)"
      ],
      "execution_count": 0,
      "outputs": [
        {
          "output_type": "execute_result",
          "data": {
            "text/plain": [
              "True"
            ]
          },
          "metadata": {
            "tags": []
          },
          "execution_count": 23
        }
      ]
    }
  ]
}