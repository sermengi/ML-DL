{
  "nbformat": 4,
  "nbformat_minor": 0,
  "metadata": {
    "colab": {
      "name": "LinearClassification.ipynb",
      "provenance": [],
      "collapsed_sections": []
    },
    "kernelspec": {
      "name": "python3",
      "display_name": "Python 3"
    }
  },
  "cells": [
    {
      "cell_type": "code",
      "metadata": {
        "id": "kD8FJOxliCcx",
        "colab_type": "code",
        "colab": {}
      },
      "source": [
        "import numpy as np\n",
        "\n",
        "from sklearn.model_selection import train_test_split\n",
        "from sklearn.datasets import load_breast_cancer\n",
        "from sklearn.preprocessing import StandardScaler\n",
        "\n",
        "import matplotlib.pyplot as plt\n",
        "\n",
        "import tensorflow as tf"
      ],
      "execution_count": 0,
      "outputs": []
    },
    {
      "cell_type": "code",
      "metadata": {
        "id": "u4xhBJdkiUVT",
        "colab_type": "code",
        "outputId": "a998d731-4f3d-48a8-d37e-26c3d52f08bb",
        "colab": {
          "base_uri": "https://localhost:8080/",
          "height": 34
        }
      },
      "source": [
        "!ls"
      ],
      "execution_count": 3,
      "outputs": [
        {
          "output_type": "stream",
          "text": [
            "sample_data\n"
          ],
          "name": "stdout"
        }
      ]
    },
    {
      "cell_type": "markdown",
      "metadata": {
        "id": "5_prQbMTjNqu",
        "colab_type": "text"
      },
      "source": [
        "## Data Loading"
      ]
    },
    {
      "cell_type": "code",
      "metadata": {
        "id": "5iJ2T2JSiXdE",
        "colab_type": "code",
        "colab": {}
      },
      "source": [
        "data = load_breast_cancer()"
      ],
      "execution_count": 0,
      "outputs": []
    },
    {
      "cell_type": "code",
      "metadata": {
        "id": "7qEK8-bBijbo",
        "colab_type": "code",
        "outputId": "59189249-d69c-4616-895b-c6502ad0cf6c",
        "colab": {
          "base_uri": "https://localhost:8080/",
          "height": 34
        }
      },
      "source": [
        "type(data)"
      ],
      "execution_count": 5,
      "outputs": [
        {
          "output_type": "execute_result",
          "data": {
            "text/plain": [
              "sklearn.utils.Bunch"
            ]
          },
          "metadata": {
            "tags": []
          },
          "execution_count": 5
        }
      ]
    },
    {
      "cell_type": "code",
      "metadata": {
        "id": "6IP28smMikzM",
        "colab_type": "code",
        "outputId": "2eac8d8f-1475-4399-fe8e-7c484e2bffc6",
        "colab": {
          "base_uri": "https://localhost:8080/",
          "height": 34
        }
      },
      "source": [
        "data.keys()"
      ],
      "execution_count": 6,
      "outputs": [
        {
          "output_type": "execute_result",
          "data": {
            "text/plain": [
              "dict_keys(['data', 'target', 'target_names', 'DESCR', 'feature_names', 'filename'])"
            ]
          },
          "metadata": {
            "tags": []
          },
          "execution_count": 6
        }
      ]
    },
    {
      "cell_type": "code",
      "metadata": {
        "id": "K0goToOPitWP",
        "colab_type": "code",
        "outputId": "a0f36aa5-2ef1-4d84-ed8a-c98d74a8d88d",
        "colab": {
          "base_uri": "https://localhost:8080/",
          "height": 34
        }
      },
      "source": [
        "data.data.shape"
      ],
      "execution_count": 7,
      "outputs": [
        {
          "output_type": "execute_result",
          "data": {
            "text/plain": [
              "(569, 30)"
            ]
          },
          "metadata": {
            "tags": []
          },
          "execution_count": 7
        }
      ]
    },
    {
      "cell_type": "code",
      "metadata": {
        "id": "oAa7Zleii0ea",
        "colab_type": "code",
        "outputId": "cfc53525-bbab-4de7-ff08-ab480aeb4485",
        "colab": {
          "base_uri": "https://localhost:8080/",
          "height": 34
        }
      },
      "source": [
        "data.target_names"
      ],
      "execution_count": 8,
      "outputs": [
        {
          "output_type": "execute_result",
          "data": {
            "text/plain": [
              "array(['malignant', 'benign'], dtype='<U9')"
            ]
          },
          "metadata": {
            "tags": []
          },
          "execution_count": 8
        }
      ]
    },
    {
      "cell_type": "code",
      "metadata": {
        "id": "zLX_pwSVi2Ps",
        "colab_type": "code",
        "outputId": "6fd68652-b57c-47bb-ab33-5ce11eb7646b",
        "colab": {
          "base_uri": "https://localhost:8080/",
          "height": 187
        }
      },
      "source": [
        "data.feature_names"
      ],
      "execution_count": 9,
      "outputs": [
        {
          "output_type": "execute_result",
          "data": {
            "text/plain": [
              "array(['mean radius', 'mean texture', 'mean perimeter', 'mean area',\n",
              "       'mean smoothness', 'mean compactness', 'mean concavity',\n",
              "       'mean concave points', 'mean symmetry', 'mean fractal dimension',\n",
              "       'radius error', 'texture error', 'perimeter error', 'area error',\n",
              "       'smoothness error', 'compactness error', 'concavity error',\n",
              "       'concave points error', 'symmetry error',\n",
              "       'fractal dimension error', 'worst radius', 'worst texture',\n",
              "       'worst perimeter', 'worst area', 'worst smoothness',\n",
              "       'worst compactness', 'worst concavity', 'worst concave points',\n",
              "       'worst symmetry', 'worst fractal dimension'], dtype='<U23')"
            ]
          },
          "metadata": {
            "tags": []
          },
          "execution_count": 9
        }
      ]
    },
    {
      "cell_type": "markdown",
      "metadata": {
        "id": "zB9g243cjjsO",
        "colab_type": "text"
      },
      "source": [
        "## Train and Test Split"
      ]
    },
    {
      "cell_type": "code",
      "metadata": {
        "id": "TSQ4LGqCjK-5",
        "colab_type": "code",
        "colab": {}
      },
      "source": [
        "X_train,X_test,y_train,y_test = train_test_split(data.data,data.target,test_size=0.33)\n",
        "N,D = X_train.shape"
      ],
      "execution_count": 0,
      "outputs": []
    },
    {
      "cell_type": "code",
      "metadata": {
        "id": "uN2hWsMSkDt8",
        "colab_type": "code",
        "colab": {}
      },
      "source": [
        "scaler = StandardScaler()\n",
        "X_train = scaler.fit_transform(X_train)\n",
        "X_test = scaler.transform(X_test)"
      ],
      "execution_count": 0,
      "outputs": []
    },
    {
      "cell_type": "markdown",
      "metadata": {
        "id": "XuNXzn88qxrc",
        "colab_type": "text"
      },
      "source": [
        "## Model"
      ]
    },
    {
      "cell_type": "code",
      "metadata": {
        "id": "X9Rhznswkq89",
        "colab_type": "code",
        "colab": {}
      },
      "source": [
        "model = tf.keras.Sequential([\n",
        "                             tf.keras.layers.Input(shape=D,),\n",
        "                             tf.keras.layers.Dense(1,activation='sigmoid')\n",
        "])\n",
        "\n",
        "model.compile(optimizer='adam',\n",
        "              loss='binary_crossentropy',\n",
        "              metrics=['accuracy'])"
      ],
      "execution_count": 0,
      "outputs": []
    },
    {
      "cell_type": "code",
      "metadata": {
        "id": "8Tl63AialhOn",
        "colab_type": "code",
        "colab": {}
      },
      "source": [
        "r = model.fit(X_train,y_train,epochs=100,\n",
        "              validation_data=(X_test,y_test))"
      ],
      "execution_count": 0,
      "outputs": []
    },
    {
      "cell_type": "code",
      "metadata": {
        "id": "-54WFddrlwHK",
        "colab_type": "code",
        "outputId": "6449b854-94c0-4dbd-a0b8-700ab3a73a9f",
        "colab": {
          "base_uri": "https://localhost:8080/",
          "height": 51
        }
      },
      "source": [
        "model.evaluate(X_test,y_test,verbose=1)"
      ],
      "execution_count": 14,
      "outputs": [
        {
          "output_type": "stream",
          "text": [
            "6/6 [==============================] - 0s 1ms/step - loss: 0.1331 - accuracy: 0.9521\n"
          ],
          "name": "stdout"
        },
        {
          "output_type": "execute_result",
          "data": {
            "text/plain": [
              "[0.133074089884758, 0.9521276354789734]"
            ]
          },
          "metadata": {
            "tags": []
          },
          "execution_count": 14
        }
      ]
    },
    {
      "cell_type": "code",
      "metadata": {
        "id": "usGu2YDYl7ei",
        "colab_type": "code",
        "outputId": "3898948f-bb4e-4d1a-842f-b42d294e9ed2",
        "colab": {
          "base_uri": "https://localhost:8080/",
          "height": 282
        }
      },
      "source": [
        " plt.plot(r.history['loss'],label='loss')\n",
        " plt.plot(r.history['val_loss'],label='val_loss')\n",
        " plt.legend()"
      ],
      "execution_count": 15,
      "outputs": [
        {
          "output_type": "execute_result",
          "data": {
            "text/plain": [
              "<matplotlib.legend.Legend at 0x7f51f1de21d0>"
            ]
          },
          "metadata": {
            "tags": []
          },
          "execution_count": 15
        },
        {
          "output_type": "display_data",
          "data": {
            "image/png": "[encoded data removed]",
            "text/plain": [
              "<Figure size 432x288 with 1 Axes>"
            ]
          },
          "metadata": {
            "tags": []
          }
        }
      ]
    },
    {
      "cell_type": "markdown",
      "metadata": {
        "id": "tjx66ozsqqRu",
        "colab_type": "text"
      },
      "source": [
        "## Making Predictions"
      ]
    },
    {
      "cell_type": "code",
      "metadata": {
        "id": "nqkzSRQ7qdZ3",
        "colab_type": "code",
        "colab": {
          "base_uri": "https://localhost:8080/",
          "height": 1000
        },
        "outputId": "c579baa4-12e4-4e63-aea2-26149a018d90"
      },
      "source": [
        "P = model.predict(X_test)\n",
        "print(P)"
      ],
      "execution_count": 17,
      "outputs": [
        {
          "output_type": "stream",
          "text": [
            "[[9.49557424e-01]\n",
            " [9.71565485e-01]\n",
            " [9.66479599e-01]\n",
            " [6.35028755e-06]\n",
            " [2.75850296e-04]\n",
            " [8.44931483e-01]\n",
            " [8.58874559e-01]\n",
            " [9.81758833e-01]\n",
            " [9.92742896e-01]\n",
            " [5.96150756e-03]\n",
            " [9.06626344e-01]\n",
            " [9.93829668e-01]\n",
            " [1.87313308e-05]\n",
            " [5.75143895e-05]\n",
            " [9.99596477e-01]\n",
            " [2.93905523e-05]\n",
            " [7.60622025e-01]\n",
            " [9.75345254e-01]\n",
            " [3.42170897e-05]\n",
            " [9.62417245e-01]\n",
            " [9.89372849e-01]\n",
            " [8.66536915e-01]\n",
            " [9.77574348e-01]\n",
            " [9.54621673e-01]\n",
            " [9.96287644e-01]\n",
            " [8.95067155e-01]\n",
            " [9.76290464e-01]\n",
            " [9.10412431e-01]\n",
            " [3.80454981e-06]\n",
            " [9.89680409e-01]\n",
            " [3.04656419e-06]\n",
            " [9.92380619e-01]\n",
            " [7.56758809e-01]\n",
            " [1.56012177e-03]\n",
            " [3.36587429e-03]\n",
            " [4.03730394e-14]\n",
            " [9.89026308e-01]\n",
            " [1.11300945e-02]\n",
            " [1.09456867e-01]\n",
            " [9.78050828e-01]\n",
            " [4.39992934e-01]\n",
            " [4.58425283e-03]\n",
            " [9.97551203e-01]\n",
            " [8.09588432e-02]\n",
            " [9.92658377e-01]\n",
            " [8.79312634e-01]\n",
            " [8.84387612e-01]\n",
            " [9.25652266e-01]\n",
            " [2.25177407e-03]\n",
            " [2.62505182e-05]\n",
            " [4.56994176e-02]\n",
            " [1.53371758e-07]\n",
            " [4.31230664e-02]\n",
            " [9.93233681e-01]\n",
            " [7.53590465e-03]\n",
            " [4.67225254e-01]\n",
            " [1.59621239e-04]\n",
            " [3.68103683e-01]\n",
            " [2.04419494e-01]\n",
            " [9.96857405e-01]\n",
            " [3.30571234e-02]\n",
            " [2.27832794e-03]\n",
            " [9.62347984e-01]\n",
            " [8.99071634e-01]\n",
            " [5.10892272e-03]\n",
            " [9.99150276e-01]\n",
            " [9.79710877e-01]\n",
            " [2.08356977e-03]\n",
            " [9.84007597e-01]\n",
            " [3.19379568e-03]\n",
            " [1.70677900e-04]\n",
            " [9.75138962e-01]\n",
            " [9.67361748e-01]\n",
            " [9.32313442e-01]\n",
            " [9.97410059e-01]\n",
            " [2.28164072e-06]\n",
            " [9.93134856e-01]\n",
            " [9.57769156e-03]\n",
            " [3.37834358e-02]\n",
            " [4.15565550e-01]\n",
            " [9.16282833e-02]\n",
            " [9.99545038e-01]\n",
            " [9.74648595e-01]\n",
            " [9.79955077e-01]\n",
            " [9.87951040e-01]\n",
            " [2.10590631e-01]\n",
            " [4.21789289e-03]\n",
            " [1.71734009e-05]\n",
            " [9.87688422e-01]\n",
            " [3.50783169e-02]\n",
            " [7.34128058e-02]\n",
            " [6.73909783e-02]\n",
            " [7.07067668e-01]\n",
            " [9.89959121e-01]\n",
            " [9.86840487e-01]\n",
            " [3.48763466e-02]\n",
            " [9.60303187e-01]\n",
            " [5.60715795e-03]\n",
            " [8.99973571e-01]\n",
            " [3.11331749e-02]\n",
            " [9.55286384e-01]\n",
            " [9.42345142e-01]\n",
            " [1.07158659e-04]\n",
            " [9.98536706e-01]\n",
            " [9.94817555e-01]\n",
            " [8.70437682e-01]\n",
            " [6.72627015e-12]\n",
            " [2.66790390e-04]\n",
            " [1.50769949e-03]\n",
            " [7.69006312e-02]\n",
            " [9.76565421e-01]\n",
            " [3.78841966e-01]\n",
            " [1.22077006e-04]\n",
            " [3.45762610e-01]\n",
            " [9.99087274e-01]\n",
            " [5.10779858e-01]\n",
            " [9.93054152e-01]\n",
            " [9.90068197e-01]\n",
            " [9.60708857e-01]\n",
            " [9.30199265e-01]\n",
            " [9.95425105e-01]\n",
            " [4.39273119e-02]\n",
            " [5.92324376e-01]\n",
            " [9.95818973e-01]\n",
            " [9.89689469e-01]\n",
            " [9.74877477e-01]\n",
            " [9.88915265e-01]\n",
            " [8.74496102e-01]\n",
            " [9.98224437e-01]\n",
            " [9.93782341e-01]\n",
            " [9.97649670e-01]\n",
            " [2.45971080e-07]\n",
            " [1.40248358e-01]\n",
            " [9.62125301e-01]\n",
            " [9.94971931e-01]\n",
            " [4.21809733e-01]\n",
            " [9.77313876e-01]\n",
            " [4.06801701e-04]\n",
            " [9.62747693e-01]\n",
            " [8.68848205e-01]\n",
            " [1.11788730e-04]\n",
            " [2.98721790e-02]\n",
            " [9.95508552e-01]\n",
            " [2.13600088e-05]\n",
            " [3.29068644e-06]\n",
            " [9.88841414e-01]\n",
            " [9.74207282e-01]\n",
            " [9.97202992e-01]\n",
            " [9.29577708e-01]\n",
            " [7.66596794e-01]\n",
            " [9.22487974e-02]\n",
            " [9.98164594e-01]\n",
            " [3.78745794e-03]\n",
            " [9.34408426e-01]\n",
            " [9.67924833e-01]\n",
            " [9.98495638e-01]\n",
            " [1.89518929e-03]\n",
            " [7.29754567e-02]\n",
            " [9.35459197e-01]\n",
            " [1.88520733e-06]\n",
            " [9.98266876e-01]\n",
            " [1.06161833e-03]\n",
            " [8.64340067e-01]\n",
            " [2.45191634e-01]\n",
            " [9.84778762e-01]\n",
            " [3.14711332e-02]\n",
            " [5.86747527e-02]\n",
            " [9.81322646e-01]\n",
            " [9.92589355e-01]\n",
            " [9.82964933e-01]\n",
            " [8.60038817e-01]\n",
            " [1.35481358e-04]\n",
            " [1.79488361e-02]\n",
            " [3.67559920e-07]\n",
            " [3.38752836e-01]\n",
            " [9.95667160e-01]\n",
            " [9.55865979e-01]\n",
            " [9.88209188e-01]\n",
            " [8.15928698e-01]\n",
            " [7.55870044e-02]\n",
            " [7.84305811e-01]\n",
            " [6.83094025e-01]\n",
            " [9.85542774e-01]\n",
            " [9.98510361e-01]\n",
            " [5.01867817e-06]\n",
            " [1.65679003e-03]\n",
            " [9.99037504e-01]\n",
            " [9.57578182e-01]]\n"
          ],
          "name": "stdout"
        }
      ]
    },
    {
      "cell_type": "code",
      "metadata": {
        "id": "zGBcpWA7qe7O",
        "colab_type": "code",
        "colab": {
          "base_uri": "https://localhost:8080/",
          "height": 153
        },
        "outputId": "f1d679c8-cab2-4c5c-bc9c-70f875a6013b"
      },
      "source": [
        "P = np.round(P).flatten()\n",
        "print(P)"
      ],
      "execution_count": 20,
      "outputs": [
        {
          "output_type": "stream",
          "text": [
            "[1. 1. 1. 0. 0. 1. 1. 1. 1. 0. 1. 1. 0. 0. 1. 0. 1. 1. 0. 1. 1. 1. 1. 1.\n",
            " 1. 1. 1. 1. 0. 1. 0. 1. 1. 0. 0. 0. 1. 0. 0. 1. 0. 0. 1. 0. 1. 1. 1. 1.\n",
            " 0. 0. 0. 0. 0. 1. 0. 0. 0. 0. 0. 1. 0. 0. 1. 1. 0. 1. 1. 0. 1. 0. 0. 1.\n",
            " 1. 1. 1. 0. 1. 0. 0. 0. 0. 1. 1. 1. 1. 0. 0. 0. 1. 0. 0. 0. 1. 1. 1. 0.\n",
            " 1. 0. 1. 0. 1. 1. 0. 1. 1. 1. 0. 0. 0. 0. 1. 0. 0. 0. 1. 1. 1. 1. 1. 1.\n",
            " 1. 0. 1. 1. 1. 1. 1. 1. 1. 1. 1. 0. 0. 1. 1. 0. 1. 0. 1. 1. 0. 0. 1. 0.\n",
            " 0. 1. 1. 1. 1. 1. 0. 1. 0. 1. 1. 1. 0. 0. 1. 0. 1. 0. 1. 0. 1. 0. 0. 1.\n",
            " 1. 1. 1. 0. 0. 0. 0. 1. 1. 1. 1. 0. 1. 1. 1. 1. 0. 0. 1. 1.]\n"
          ],
          "name": "stdout"
        }
      ]
    },
    {
      "cell_type": "code",
      "metadata": {
        "id": "WpDxA2qArqYe",
        "colab_type": "code",
        "colab": {
          "base_uri": "https://localhost:8080/",
          "height": 68
        },
        "outputId": "025e88f2-3e96-4807-a831-157e53f4497b"
      },
      "source": [
        "print('Manually calculated accuracy: ',np.mean(P == y_test))\n",
        "print('Evaluate output: ',model.evaluate(X_test,y_test))"
      ],
      "execution_count": 21,
      "outputs": [
        {
          "output_type": "stream",
          "text": [
            "Manually calculated accuracy:  0.9521276595744681\n",
            "6/6 [==============================] - 0s 2ms/step - loss: 0.1331 - accuracy: 0.9521\n",
            "Evaluate output:  [0.133074089884758, 0.9521276354789734]\n"
          ],
          "name": "stdout"
        }
      ]
    }
  ]
}