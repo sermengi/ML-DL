{
  "nbformat": 4,
  "nbformat_minor": 0,
  "metadata": {
    "colab": {
      "name": "ANN_Recommender_System.ipynb",
      "provenance": []
    },
    "kernelspec": {
      "name": "python3",
      "display_name": "Python 3"
    },
    "accelerator": "GPU"
  },
  "cells": [
    {
      "cell_type": "code",
      "metadata": {
        "id": "X7dr7fJ1IFV2",
        "colab_type": "code",
        "colab": {}
      },
      "source": [
        "import numpy as np\n",
        "import pandas as pd\n",
        "import matplotlib.pyplot as plt\n",
        "\n",
        "from sklearn.utils import shuffle\n",
        "\n",
        "import tensorflow as tf\n",
        "from tensorflow.keras.models import Model\n",
        "from tensorflow.keras.layers import Input,Embedding,Dense,Flatten,Concatenate\n",
        "from tensorflow.keras.optimizers import SGD"
      ],
      "execution_count": 0,
      "outputs": []
    },
    {
      "cell_type": "markdown",
      "metadata": {
        "id": "T1GV3SKMLfZb",
        "colab_type": "text"
      },
      "source": [
        "## Data Preprocessing"
      ]
    },
    {
      "cell_type": "code",
      "metadata": {
        "id": "VysEif7mIMiY",
        "colab_type": "code",
        "colab": {
          "base_uri": "https://localhost:8080/",
          "height": 204
        },
        "outputId": "91ca4748-27db-4634-deb7-bd49aca6c374"
      },
      "source": [
        "!wget -nc http://files.grouplens.org/datasets/movielens/ml-20m.zip"
      ],
      "execution_count": 2,
      "outputs": [
        {
          "output_type": "stream",
          "text": [
            "--2020-04-22 10:06:12--  http://files.grouplens.org/datasets/movielens/ml-20m.zip\n",
            "Resolving files.grouplens.org (files.grouplens.org)... 128.101.65.152\n",
            "Connecting to files.grouplens.org (files.grouplens.org)|128.101.65.152|:80... connected.\n",
            "HTTP request sent, awaiting response... 200 OK\n",
            "Length: 198702078 (189M) [application/zip]\n",
            "Saving to: ‘ml-20m.zip’\n",
            "\n",
            "ml-20m.zip          100%[===================>] 189.50M  17.5MB/s    in 12s     \n",
            "\n",
            "2020-04-22 10:06:25 (15.5 MB/s) - ‘ml-20m.zip’ saved [198702078/198702078]\n",
            "\n"
          ],
          "name": "stdout"
        }
      ]
    },
    {
      "cell_type": "code",
      "metadata": {
        "id": "tXXajml5Iinb",
        "colab_type": "code",
        "colab": {
          "base_uri": "https://localhost:8080/",
          "height": 170
        },
        "outputId": "c6f1aa5e-0e68-4fe5-befb-a9e91179abb9"
      },
      "source": [
        "!unzip -n ml-20m.zip"
      ],
      "execution_count": 3,
      "outputs": [
        {
          "output_type": "stream",
          "text": [
            "Archive:  ml-20m.zip\n",
            "   creating: ml-20m/\n",
            "  inflating: ml-20m/genome-scores.csv  \n",
            "  inflating: ml-20m/genome-tags.csv  \n",
            "  inflating: ml-20m/links.csv        \n",
            "  inflating: ml-20m/movies.csv       \n",
            "  inflating: ml-20m/ratings.csv      \n",
            "  inflating: ml-20m/README.txt       \n",
            "  inflating: ml-20m/tags.csv         \n"
          ],
          "name": "stdout"
        }
      ]
    },
    {
      "cell_type": "code",
      "metadata": {
        "id": "ZfffQe0UKDBL",
        "colab_type": "code",
        "colab": {
          "base_uri": "https://localhost:8080/",
          "height": 34
        },
        "outputId": "0a76523a-361b-4568-b24b-49f4cae5fa3e"
      },
      "source": [
        "!ls"
      ],
      "execution_count": 4,
      "outputs": [
        {
          "output_type": "stream",
          "text": [
            "ml-20m\tml-20m.zip  sample_data\n"
          ],
          "name": "stdout"
        }
      ]
    },
    {
      "cell_type": "code",
      "metadata": {
        "id": "J2dRTRu-KHZc",
        "colab_type": "code",
        "colab": {
          "base_uri": "https://localhost:8080/",
          "height": 204
        },
        "outputId": "4180a8a0-73c9-4c73-b4c7-3d728a45c883"
      },
      "source": [
        "df = pd.read_csv('ml-20m/ratings.csv')\n",
        "df.head()"
      ],
      "execution_count": 5,
      "outputs": [
        {
          "output_type": "execute_result",
          "data": {
            "text/html": [
              "<div>\n",
              "<style scoped>\n",
              "    .dataframe tbody tr th:only-of-type {\n",
              "        vertical-align: middle;\n",
              "    }\n",
              "\n",
              "    .dataframe tbody tr th {\n",
              "        vertical-align: top;\n",
              "    }\n",
              "\n",
              "    .dataframe thead th {\n",
              "        text-align: right;\n",
              "    }\n",
              "</style>\n",
              "<table border=\"1\" class=\"dataframe\">\n",
              "  <thead>\n",
              "    <tr style=\"text-align: right;\">\n",
              "      <th></th>\n",
              "      <th>userId</th>\n",
              "      <th>movieId</th>\n",
              "      <th>rating</th>\n",
              "      <th>timestamp</th>\n",
              "    </tr>\n",
              "  </thead>\n",
              "  <tbody>\n",
              "    <tr>\n",
              "      <th>0</th>\n",
              "      <td>1</td>\n",
              "      <td>2</td>\n",
              "      <td>3.5</td>\n",
              "      <td>1112486027</td>\n",
              "    </tr>\n",
              "    <tr>\n",
              "      <th>1</th>\n",
              "      <td>1</td>\n",
              "      <td>29</td>\n",
              "      <td>3.5</td>\n",
              "      <td>1112484676</td>\n",
              "    </tr>\n",
              "    <tr>\n",
              "      <th>2</th>\n",
              "      <td>1</td>\n",
              "      <td>32</td>\n",
              "      <td>3.5</td>\n",
              "      <td>1112484819</td>\n",
              "    </tr>\n",
              "    <tr>\n",
              "      <th>3</th>\n",
              "      <td>1</td>\n",
              "      <td>47</td>\n",
              "      <td>3.5</td>\n",
              "      <td>1112484727</td>\n",
              "    </tr>\n",
              "    <tr>\n",
              "      <th>4</th>\n",
              "      <td>1</td>\n",
              "      <td>50</td>\n",
              "      <td>3.5</td>\n",
              "      <td>1112484580</td>\n",
              "    </tr>\n",
              "  </tbody>\n",
              "</table>\n",
              "</div>"
            ],
            "text/plain": [
              "   userId  movieId  rating   timestamp\n",
              "0       1        2     3.5  1112486027\n",
              "1       1       29     3.5  1112484676\n",
              "2       1       32     3.5  1112484819\n",
              "3       1       47     3.5  1112484727\n",
              "4       1       50     3.5  1112484580"
            ]
          },
          "metadata": {
            "tags": []
          },
          "execution_count": 5
        }
      ]
    },
    {
      "cell_type": "code",
      "metadata": {
        "id": "spFW9z_iKS3q",
        "colab_type": "code",
        "colab": {}
      },
      "source": [
        "df.userId = pd.Categorical(df.userId)\n",
        "df['new_user_id'] = df.userId.cat.codes\n",
        "\n",
        "df.movieId = pd.Categorical(df.movieId)\n",
        "df['new_movie_id'] = df.movieId.cat.codes"
      ],
      "execution_count": 0,
      "outputs": []
    },
    {
      "cell_type": "code",
      "metadata": {
        "id": "pxfvjs9bLaW8",
        "colab_type": "code",
        "colab": {}
      },
      "source": [
        "user_ids = df['new_user_id'].values\n",
        "movie_ids = df['new_movie_id'].values\n",
        "ratings = df['rating'].values"
      ],
      "execution_count": 0,
      "outputs": []
    },
    {
      "cell_type": "code",
      "metadata": {
        "id": "2uGhBdzkLwv9",
        "colab_type": "code",
        "colab": {
          "base_uri": "https://localhost:8080/",
          "height": 51
        },
        "outputId": "d0f55d94-a966-4804-d149-779da0ff3d18"
      },
      "source": [
        "N = len(set(user_ids))\n",
        "M = len(set(movie_ids))\n",
        "print(f'Number of unique users: {N}')\n",
        "print(f'Number of unique movies: {M}')"
      ],
      "execution_count": 8,
      "outputs": [
        {
          "output_type": "stream",
          "text": [
            "Number of unique users: 138493\n",
            "Number of unique movies: 26744\n"
          ],
          "name": "stdout"
        }
      ]
    },
    {
      "cell_type": "markdown",
      "metadata": {
        "id": "n7HfW-IKMMe7",
        "colab_type": "text"
      },
      "source": [
        "## Model"
      ]
    },
    {
      "cell_type": "code",
      "metadata": {
        "id": "sbpDEjMBMDZz",
        "colab_type": "code",
        "colab": {}
      },
      "source": [
        "K = 10 # Embedding dimension\n",
        "\n",
        "u = Input(shape=(1,)) \n",
        "m = Input(shape=(1,))\n",
        "u_emb = Embedding(N,K)(u) # output: (N,1,K)\n",
        "m_emb = Embedding(M,K)(m) # output: (M,1,K)\n",
        "u_emb = Flatten()(u_emb) # output: (N,K)\n",
        "m_emb = Flatten()(m_emb) # output: (M,K)\n",
        "x = Concatenate()([u_emb,m_emb]) # output: (num_of_samples,2K)\n",
        "x = Dense(1024,activation='relu')(x)\n",
        "x = Dense(1)(x)\n",
        "\n",
        "model = Model(inputs=[u,m],outputs=x)\n",
        "\n",
        "model.compile(loss='mse',optimizer=SGD(lr=0.01,momentum=0.9))"
      ],
      "execution_count": 0,
      "outputs": []
    },
    {
      "cell_type": "code",
      "metadata": {
        "id": "vqDKDFpxO66g",
        "colab_type": "code",
        "colab": {}
      },
      "source": [
        "user_ids, movie_ids, ratings = shuffle(user_ids,movie_ids,ratings)\n",
        "Ntrain = int(0.8*len(ratings))\n",
        "train_user = user_ids[:Ntrain]\n",
        "train_movie = movie_ids[:Ntrain]\n",
        "train_ratings = ratings[:Ntrain]\n",
        "\n",
        "test_user = user_ids[Ntrain:]\n",
        "test_movie = movie_ids[Ntrain:]\n",
        "test_ratings = ratings[Ntrain:]"
      ],
      "execution_count": 0,
      "outputs": []
    },
    {
      "cell_type": "code",
      "metadata": {
        "id": "Khnc0AuVQXFC",
        "colab_type": "code",
        "colab": {}
      },
      "source": [
        "avg_rating = train_ratings.mean()\n",
        "train_ratings = train_ratings - avg_rating\n",
        "test_ratings = test_ratings - avg_rating"
      ],
      "execution_count": 0,
      "outputs": []
    },
    {
      "cell_type": "code",
      "metadata": {
        "id": "S_V2TYxcQnOQ",
        "colab_type": "code",
        "colab": {
          "base_uri": "https://localhost:8080/",
          "height": 884
        },
        "outputId": "daa1f457-a3cf-4364-9cef-eade8d9c897b"
      },
      "source": [
        "model.fit(x=[train_user,train_movie],\n",
        "          y=train_ratings,\n",
        "          epochs=25,\n",
        "          batch_size=1024,\n",
        "          validation_data=([test_user,test_movie],test_ratings),\n",
        "          verbose=2)"
      ],
      "execution_count": 12,
      "outputs": [
        {
          "output_type": "stream",
          "text": [
            "Epoch 1/25\n",
            "15626/15626 - 65s - loss: 0.8585 - val_loss: 0.7763\n",
            "Epoch 2/25\n",
            "15626/15626 - 65s - loss: 0.7536 - val_loss: 0.7428\n",
            "Epoch 3/25\n",
            "15626/15626 - 65s - loss: 0.7310 - val_loss: 0.7283\n",
            "Epoch 4/25\n",
            "15626/15626 - 66s - loss: 0.7138 - val_loss: 0.7139\n",
            "Epoch 5/25\n",
            "15626/15626 - 66s - loss: 0.6992 - val_loss: 0.7031\n",
            "Epoch 6/25\n",
            "15626/15626 - 66s - loss: 0.6887 - val_loss: 0.6962\n",
            "Epoch 7/25\n",
            "15626/15626 - 65s - loss: 0.6817 - val_loss: 0.6929\n",
            "Epoch 8/25\n",
            "15626/15626 - 65s - loss: 0.6768 - val_loss: 0.6900\n",
            "Epoch 9/25\n",
            "15626/15626 - 65s - loss: 0.6728 - val_loss: 0.6863\n",
            "Epoch 10/25\n",
            "15626/15626 - 65s - loss: 0.6685 - val_loss: 0.6834\n",
            "Epoch 11/25\n",
            "15626/15626 - 64s - loss: 0.6640 - val_loss: 0.6805\n",
            "Epoch 12/25\n",
            "15626/15626 - 64s - loss: 0.6596 - val_loss: 0.6782\n",
            "Epoch 13/25\n",
            "15626/15626 - 65s - loss: 0.6556 - val_loss: 0.6756\n",
            "Epoch 14/25\n",
            "15626/15626 - 64s - loss: 0.6519 - val_loss: 0.6730\n",
            "Epoch 15/25\n",
            "15626/15626 - 64s - loss: 0.6487 - val_loss: 0.6722\n",
            "Epoch 16/25\n",
            "15626/15626 - 64s - loss: 0.6459 - val_loss: 0.6699\n",
            "Epoch 17/25\n",
            "15626/15626 - 64s - loss: 0.6434 - val_loss: 0.6715\n",
            "Epoch 18/25\n",
            "15626/15626 - 65s - loss: 0.6412 - val_loss: 0.6693\n",
            "Epoch 19/25\n",
            "15626/15626 - 64s - loss: 0.6390 - val_loss: 0.6680\n",
            "Epoch 20/25\n",
            "15626/15626 - 65s - loss: 0.6368 - val_loss: 0.6658\n",
            "Epoch 21/25\n",
            "15626/15626 - 64s - loss: 0.6344 - val_loss: 0.6645\n",
            "Epoch 22/25\n",
            "15626/15626 - 64s - loss: 0.6316 - val_loss: 0.6628\n",
            "Epoch 23/25\n",
            "15626/15626 - 65s - loss: 0.6283 - val_loss: 0.6612\n",
            "Epoch 24/25\n",
            "15626/15626 - 65s - loss: 0.6247 - val_loss: 0.6595\n",
            "Epoch 25/25\n",
            "15626/15626 - 64s - loss: 0.6209 - val_loss: 0.6571\n"
          ],
          "name": "stdout"
        },
        {
          "output_type": "execute_result",
          "data": {
            "text/plain": [
              "<tensorflow.python.keras.callbacks.History at 0x7f44d0122a58>"
            ]
          },
          "metadata": {
            "tags": []
          },
          "execution_count": 12
        }
      ]
    },
    {
      "cell_type": "code",
      "metadata": {
        "id": "DQoPca34RIR5",
        "colab_type": "code",
        "colab": {
          "base_uri": "https://localhost:8080/",
          "height": 265
        },
        "outputId": "5dae18ab-c43a-4652-effa-343f7b5c50d8"
      },
      "source": [
        "losses = pd.DataFrame(model.history.history)\n",
        "plt.plot(losses['loss'],label='losss')\n",
        "plt.plot(losses['val_loss'],label='val_loss')\n",
        "plt.legend()\n",
        "plt.show()"
      ],
      "execution_count": 13,
      "outputs": [
        {
          "output_type": "display_data",
          "data": {
            "image/png": "[encoded data removed]",
            "text/plain": [
              "<Figure size 432x288 with 1 Axes>"
            ]
          },
          "metadata": {
            "tags": [],
            "needs_background": "light"
          }
        }
      ]
    }
  ]
}