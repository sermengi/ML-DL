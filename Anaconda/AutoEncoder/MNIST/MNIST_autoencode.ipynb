{
 "cells": [
  {
   "cell_type": "code",
   "execution_count": 30,
   "metadata": {},
   "outputs": [],
   "source": [
    "import numpy as np\n",
    "import pandas as pd\n",
    "import matplotlib.pyplot as plt\n",
    "import seaborn as sns\n",
    "\n",
    "import tensorflow as tf\n",
    "from tensorflow.keras.datasets import mnist\n",
    "from tensorflow.keras.models import Sequential\n",
    "from tensorflow.keras.layers import Dense,Flatten,Reshape,GaussianNoise\n",
    "from tensorflow.keras.optimizers import SGD"
   ]
  },
  {
   "cell_type": "markdown",
   "metadata": {},
   "source": [
    "## Data Loading and Preprocessing"
   ]
  },
  {
   "cell_type": "code",
   "execution_count": 2,
   "metadata": {},
   "outputs": [],
   "source": [
    "(X_train,y_train),(X_test,y_test) = mnist.load_data()"
   ]
  },
  {
   "cell_type": "code",
   "execution_count": 3,
   "metadata": {},
   "outputs": [
    {
     "data": {
      "text/plain": [
       "(60000, 28, 28)"
      ]
     },
     "execution_count": 3,
     "metadata": {},
     "output_type": "execute_result"
    }
   ],
   "source": [
    "X_train.shape"
   ]
  },
  {
   "cell_type": "code",
   "execution_count": 8,
   "metadata": {},
   "outputs": [
    {
     "data": {
      "text/plain": [
       "<matplotlib.image.AxesImage at 0x1bfee8d5a08>"
      ]
     },
     "execution_count": 8,
     "metadata": {},
     "output_type": "execute_result"
    },
    {
     "data": {
      "image/png": "[encoded data removed]",
      "text/plain": [
       "<Figure size 432x288 with 1 Axes>"
      ]
     },
     "metadata": {
      "needs_background": "light"
     },
     "output_type": "display_data"
    }
   ],
   "source": [
    "plt.imshow(X_train[0])"
   ]
  },
  {
   "cell_type": "code",
   "execution_count": 9,
   "metadata": {},
   "outputs": [],
   "source": [
    "X_train = X_train / 255.\n",
    "X_test = X_test / 255."
   ]
  },
  {
   "cell_type": "markdown",
   "metadata": {},
   "source": [
    "## Model"
   ]
  },
  {
   "cell_type": "code",
   "execution_count": 11,
   "metadata": {},
   "outputs": [],
   "source": [
    "encoder = Sequential()\n",
    "encoder.add(Flatten(input_shape=[28,28]))\n",
    "encoder.add(Dense(400,activation='relu'))\n",
    "encoder.add(Dense(200,activation='relu'))\n",
    "encoder.add(Dense(100,activation='relu'))\n",
    "encoder.add(Dense(50,activation='relu'))\n",
    "encoder.add(Dense(25,activation='relu'))"
   ]
  },
  {
   "cell_type": "code",
   "execution_count": 12,
   "metadata": {},
   "outputs": [],
   "source": [
    "decoder = Sequential()\n",
    "decoder.add(Dense(50,input_shape=[25],activation='relu'))\n",
    "decoder.add(Dense(100,activation='relu'))\n",
    "decoder.add(Dense(200,activation='relu'))\n",
    "decoder.add(Dense(400,activation='relu'))\n",
    "decoder.add(Dense(784,activation='sigmoid'))\n",
    "decoder.add(Reshape([28,28]))"
   ]
  },
  {
   "cell_type": "code",
   "execution_count": 13,
   "metadata": {},
   "outputs": [],
   "source": [
    "autoencoder = Sequential([encoder,decoder])\n",
    "\n",
    "autoencoder.compile(loss='binary_crossentropy',\n",
    "                    optimizer=SGD(lr=1.5),\n",
    "                    metrics=['accuracy'])"
   ]
  },
  {
   "cell_type": "code",
   "execution_count": 14,
   "metadata": {},
   "outputs": [
    {
     "name": "stdout",
     "output_type": "stream",
     "text": [
      "Train on 60000 samples, validate on 10000 samples\n",
      "Epoch 1/5\n",
      "60000/60000 [==============================] - 27s 450us/sample - loss: 0.2487 - accuracy: 0.7917 - val_loss: 0.2121 - val_accuracy: 0.7944\n",
      "Epoch 2/5\n",
      "60000/60000 [==============================] - 23s 383us/sample - loss: 0.1826 - accuracy: 0.7979 - val_loss: 0.1651 - val_accuracy: 0.8023\n",
      "Epoch 3/5\n",
      "60000/60000 [==============================] - 23s 391us/sample - loss: 0.1554 - accuracy: 0.8029 - val_loss: 0.1491 - val_accuracy: 0.8010\n",
      "Epoch 4/5\n",
      "60000/60000 [==============================] - 23s 383us/sample - loss: 0.1458 - accuracy: 0.8045 - val_loss: 0.1421 - val_accuracy: 0.8040\n",
      "Epoch 5/5\n",
      "60000/60000 [==============================] - 23s 382us/sample - loss: 0.1407 - accuracy: 0.8055 - val_loss: 0.1385 - val_accuracy: 0.8058\n"
     ]
    },
    {
     "data": {
      "text/plain": [
       "<tensorflow.python.keras.callbacks.History at 0x1bff2d36108>"
      ]
     },
     "execution_count": 14,
     "metadata": {},
     "output_type": "execute_result"
    }
   ],
   "source": [
    "autoencoder.fit(X_train,X_train,epochs=5,\n",
    "                validation_data=[X_test,X_test])"
   ]
  },
  {
   "cell_type": "code",
   "execution_count": 15,
   "metadata": {},
   "outputs": [],
   "source": [
    "passed_image = autoencoder.predict(X_test[:10]) "
   ]
  },
  {
   "cell_type": "code",
   "execution_count": 25,
   "metadata": {},
   "outputs": [
    {
     "data": {
      "image/png": "[encoded data removed]",
      "text/plain": [
       "<Figure size 432x288 with 1 Axes>"
      ]
     },
     "metadata": {
      "needs_background": "light"
     },
     "output_type": "display_data"
    },
    {
     "data": {
      "image/png": "[encoded data removed]",
      "text/plain": [
       "<Figure size 432x288 with 1 Axes>"
      ]
     },
     "metadata": {
      "needs_background": "light"
     },
     "output_type": "display_data"
    }
   ],
   "source": [
    "n = 5\n",
    "\n",
    "plt.imshow(X_test[n])\n",
    "plt.title('Original Image',fontsize=15)\n",
    "plt.show()\n",
    "\n",
    "plt.imshow(passed_image[n])\n",
    "plt.title('Autoencoded Image',fontsize=15)\n",
    "plt.show()"
   ]
  },
  {
   "cell_type": "markdown",
   "metadata": {},
   "source": [
    "## Noise Removal"
   ]
  },
  {
   "cell_type": "code",
   "execution_count": 27,
   "metadata": {},
   "outputs": [
    {
     "name": "stdout",
     "output_type": "stream",
     "text": [
      "WARNING:tensorflow:Layer gaussian_noise is casting an input tensor from dtype float64 to the layer's dtype of float32, which is new behavior in TensorFlow 2.  The layer has dtype float32 because it's dtype defaults to floatx.\n",
      "\n",
      "If you intended to run this layer in float32, you can safely ignore this warning. If in doubt, this warning is likely only an issue if you are porting a TensorFlow 1.X model to TensorFlow 2.\n",
      "\n",
      "To change all layers to have dtype float64 by default, call `tf.keras.backend.set_floatx('float64')`. To change just this layer, pass dtype='float64' to the layer constructor. If you are the author of this layer, you can disable autocasting by passing autocast=False to the base Layer constructor.\n",
      "\n"
     ]
    }
   ],
   "source": [
    "sample = GaussianNoise(0.2)\n",
    "noisey = sample(X_test[:10],training=True)"
   ]
  },
  {
   "cell_type": "code",
   "execution_count": 29,
   "metadata": {},
   "outputs": [
    {
     "data": {
      "image/png": "[encoded data removed]",
      "text/plain": [
       "<Figure size 432x288 with 1 Axes>"
      ]
     },
     "metadata": {
      "needs_background": "light"
     },
     "output_type": "display_data"
    },
    {
     "data": {
      "image/png": "[encoded data removed]",
      "text/plain": [
       "<Figure size 432x288 with 1 Axes>"
      ]
     },
     "metadata": {
      "needs_background": "light"
     },
     "output_type": "display_data"
    }
   ],
   "source": [
    "n = 0\n",
    "\n",
    "plt.imshow(X_test[n])\n",
    "plt.title('Original Image',fontsize=15)\n",
    "plt.show()\n",
    "\n",
    "plt.imshow(noisey[n])\n",
    "plt.title('Noisy Image',fontsize=15)\n",
    "plt.show()"
   ]
  },
  {
   "cell_type": "code",
   "execution_count": 31,
   "metadata": {},
   "outputs": [],
   "source": [
    "tf.random.set_seed(101)\n",
    "\n",
    "encoder = Sequential()\n",
    "encoder.add(Flatten(input_shape=[28,28]))\n",
    "\n",
    "encoder.add(GaussianNoise(0.2))\n",
    "\n",
    "encoder.add(Dense(400,activation='relu'))\n",
    "encoder.add(Dense(200,activation='relu'))\n",
    "encoder.add(Dense(100,activation='relu'))\n",
    "encoder.add(Dense(50,activation='relu'))\n",
    "encoder.add(Dense(25,activation='relu'))"
   ]
  },
  {
   "cell_type": "code",
   "execution_count": 32,
   "metadata": {},
   "outputs": [],
   "source": [
    "decoder = Sequential()\n",
    "decoder.add(Dense(50,input_shape=[25],activation='relu'))\n",
    "decoder.add(Dense(100,activation='relu'))\n",
    "decoder.add(Dense(200,activation='relu'))\n",
    "decoder.add(Dense(400,activation='relu'))\n",
    "decoder.add(Dense(784,activation='sigmoid'))\n",
    "decoder.add(Reshape([28,28]))"
   ]
  },
  {
   "cell_type": "code",
   "execution_count": 33,
   "metadata": {},
   "outputs": [],
   "source": [
    "noise_remove = Sequential([encoder,decoder])\n",
    "noise_remove.compile(loss='binary_crossentropy',\n",
    "                     optimizer='adam',metrics=['accuracy'])"
   ]
  },
  {
   "cell_type": "code",
   "execution_count": 34,
   "metadata": {},
   "outputs": [
    {
     "name": "stdout",
     "output_type": "stream",
     "text": [
      "Train on 60000 samples\n",
      "Epoch 1/8\n",
      "60000/60000 [==============================] - 29s 476us/sample - loss: 0.1716 - accuracy: 0.8007\n",
      "Epoch 2/8\n",
      "60000/60000 [==============================] - 25s 410us/sample - loss: 0.1289 - accuracy: 0.8082\n",
      "Epoch 3/8\n",
      "60000/60000 [==============================] - 25s 417us/sample - loss: 0.1206 - accuracy: 0.8096\n",
      "Epoch 4/8\n",
      "60000/60000 [==============================] - 25s 420us/sample - loss: 0.1150 - accuracy: 0.8106\n",
      "Epoch 5/8\n",
      "60000/60000 [==============================] - 25s 409us/sample - loss: 0.1112 - accuracy: 0.8112\n",
      "Epoch 6/8\n",
      "60000/60000 [==============================] - 25s 412us/sample - loss: 0.1084 - accuracy: 0.8116\n",
      "Epoch 7/8\n",
      "60000/60000 [==============================] - 26s 437us/sample - loss: 0.1061 - accuracy: 0.8119\n",
      "Epoch 8/8\n",
      "60000/60000 [==============================] - 27s 447us/sample - loss: 0.1042 - accuracy: 0.8122\n"
     ]
    },
    {
     "data": {
      "text/plain": [
       "<tensorflow.python.keras.callbacks.History at 0x1bff7502208>"
      ]
     },
     "execution_count": 34,
     "metadata": {},
     "output_type": "execute_result"
    }
   ],
   "source": [
    "noise_remove.fit(X_train,X_train,\n",
    "                 epochs=8)"
   ]
  },
  {
   "cell_type": "code",
   "execution_count": 35,
   "metadata": {},
   "outputs": [],
   "source": [
    "noisy_images = sample(X_test[:10],training=True) \n",
    "denoised_images = noise_remove(noisy_images)"
   ]
  },
  {
   "cell_type": "code",
   "execution_count": 38,
   "metadata": {},
   "outputs": [
    {
     "name": "stdout",
     "output_type": "stream",
     "text": [
      "ORIGINAL IMAGE\n"
     ]
    },
    {
     "data": {
      "image/png": "[encoded data removed]",
      "text/plain": [
       "<Figure size 432x288 with 1 Axes>"
      ]
     },
     "metadata": {
      "needs_background": "light"
     },
     "output_type": "display_data"
    },
    {
     "name": "stdout",
     "output_type": "stream",
     "text": [
      "NOISY ADDED IMAGE\n"
     ]
    },
    {
     "data": {
      "image/png": "[encoded data removed]",
      "text/plain": [
       "<Figure size 432x288 with 1 Axes>"
      ]
     },
     "metadata": {
      "needs_background": "light"
     },
     "output_type": "display_data"
    },
    {
     "name": "stdout",
     "output_type": "stream",
     "text": [
      "NOISE REMOVAL\n"
     ]
    },
    {
     "data": {
      "image/png": "[encoded data removed]",
      "text/plain": [
       "<Figure size 432x288 with 1 Axes>"
      ]
     },
     "metadata": {
      "needs_background": "light"
     },
     "output_type": "display_data"
    }
   ],
   "source": [
    "n = 5\n",
    "print('ORIGINAL IMAGE')\n",
    "plt.imshow(X_test[n])\n",
    "plt.show()\n",
    "\n",
    "print('NOISY ADDED IMAGE')\n",
    "plt.imshow(noisy_images[n])\n",
    "plt.show()\n",
    "\n",
    "print('NOISE REMOVAL')\n",
    "plt.imshow(denoised_images[n])\n",
    "plt.show()"
   ]
  }
 ],
 "metadata": {
  "kernelspec": {
   "display_name": "Python [conda env:py3-TF2.0]",
   "language": "python",
   "name": "conda-env-py3-TF2.0-py"
  },
  "language_info": {
   "codemirror_mode": {
    "name": "ipython",
    "version": 3
   },
   "file_extension": ".py",
   "mimetype": "text/x-python",
   "name": "python",
   "nbconvert_exporter": "python",
   "pygments_lexer": "ipython3",
   "version": "3.7.6"
  }
 },
 "nbformat": 4,
 "nbformat_minor": 2
}
