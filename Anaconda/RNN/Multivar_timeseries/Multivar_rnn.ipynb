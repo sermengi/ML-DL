{
 "cells": [
  {
   "cell_type": "code",
   "execution_count": 43,
   "metadata": {},
   "outputs": [],
   "source": [
    "import numpy as np\n",
    "import pandas as pd\n",
    "import seaborn as sns\n",
    "import matplotlib.pyplot as plt\n",
    "%matplotlib inline\n",
    "\n",
    "from sklearn.preprocessing import MinMaxScaler\n",
    "from sklearn.metrics import mean_squared_error\n",
    "\n",
    "from tensorflow.keras.preprocessing.sequence import TimeseriesGenerator\n",
    "from tensorflow.keras.models import Sequential\n",
    "from tensorflow.keras.layers import Dense,LSTM\n",
    "from tensorflow.keras.callbacks import EarlyStopping"
   ]
  },
  {
   "cell_type": "markdown",
   "metadata": {},
   "source": [
    "## Data Loading"
   ]
  },
  {
   "cell_type": "code",
   "execution_count": 2,
   "metadata": {},
   "outputs": [],
   "source": [
    "df = pd.read_csv('energydata_complete.csv',index_col='date',\n",
    "                 infer_datetime_format=True)"
   ]
  },
  {
   "cell_type": "code",
   "execution_count": 3,
   "metadata": {},
   "outputs": [
    {
     "data": {
      "text/html": [
       "<div>\n",
       "<style scoped>\n",
       "    .dataframe tbody tr th:only-of-type {\n",
       "        vertical-align: middle;\n",
       "    }\n",
       "\n",
       "    .dataframe tbody tr th {\n",
       "        vertical-align: top;\n",
       "    }\n",
       "\n",
       "    .dataframe thead th {\n",
       "        text-align: right;\n",
       "    }\n",
       "</style>\n",
       "<table border=\"1\" class=\"dataframe\">\n",
       "  <thead>\n",
       "    <tr style=\"text-align: right;\">\n",
       "      <th></th>\n",
       "      <th>Appliances</th>\n",
       "      <th>lights</th>\n",
       "      <th>T1</th>\n",
       "      <th>RH_1</th>\n",
       "      <th>T2</th>\n",
       "      <th>RH_2</th>\n",
       "      <th>T3</th>\n",
       "      <th>RH_3</th>\n",
       "      <th>T4</th>\n",
       "      <th>RH_4</th>\n",
       "      <th>...</th>\n",
       "      <th>T9</th>\n",
       "      <th>RH_9</th>\n",
       "      <th>T_out</th>\n",
       "      <th>Press_mm_hg</th>\n",
       "      <th>RH_out</th>\n",
       "      <th>Windspeed</th>\n",
       "      <th>Visibility</th>\n",
       "      <th>Tdewpoint</th>\n",
       "      <th>rv1</th>\n",
       "      <th>rv2</th>\n",
       "    </tr>\n",
       "    <tr>\n",
       "      <th>date</th>\n",
       "      <th></th>\n",
       "      <th></th>\n",
       "      <th></th>\n",
       "      <th></th>\n",
       "      <th></th>\n",
       "      <th></th>\n",
       "      <th></th>\n",
       "      <th></th>\n",
       "      <th></th>\n",
       "      <th></th>\n",
       "      <th></th>\n",
       "      <th></th>\n",
       "      <th></th>\n",
       "      <th></th>\n",
       "      <th></th>\n",
       "      <th></th>\n",
       "      <th></th>\n",
       "      <th></th>\n",
       "      <th></th>\n",
       "      <th></th>\n",
       "      <th></th>\n",
       "    </tr>\n",
       "  </thead>\n",
       "  <tbody>\n",
       "    <tr>\n",
       "      <th>2016-01-11 17:00:00</th>\n",
       "      <td>60</td>\n",
       "      <td>30</td>\n",
       "      <td>19.89</td>\n",
       "      <td>47.596667</td>\n",
       "      <td>19.2</td>\n",
       "      <td>44.790000</td>\n",
       "      <td>19.79</td>\n",
       "      <td>44.730000</td>\n",
       "      <td>19.000000</td>\n",
       "      <td>45.566667</td>\n",
       "      <td>...</td>\n",
       "      <td>17.033333</td>\n",
       "      <td>45.53</td>\n",
       "      <td>6.600000</td>\n",
       "      <td>733.5</td>\n",
       "      <td>92.0</td>\n",
       "      <td>7.000000</td>\n",
       "      <td>63.000000</td>\n",
       "      <td>5.3</td>\n",
       "      <td>13.275433</td>\n",
       "      <td>13.275433</td>\n",
       "    </tr>\n",
       "    <tr>\n",
       "      <th>2016-01-11 17:10:00</th>\n",
       "      <td>60</td>\n",
       "      <td>30</td>\n",
       "      <td>19.89</td>\n",
       "      <td>46.693333</td>\n",
       "      <td>19.2</td>\n",
       "      <td>44.722500</td>\n",
       "      <td>19.79</td>\n",
       "      <td>44.790000</td>\n",
       "      <td>19.000000</td>\n",
       "      <td>45.992500</td>\n",
       "      <td>...</td>\n",
       "      <td>17.066667</td>\n",
       "      <td>45.56</td>\n",
       "      <td>6.483333</td>\n",
       "      <td>733.6</td>\n",
       "      <td>92.0</td>\n",
       "      <td>6.666667</td>\n",
       "      <td>59.166667</td>\n",
       "      <td>5.2</td>\n",
       "      <td>18.606195</td>\n",
       "      <td>18.606195</td>\n",
       "    </tr>\n",
       "    <tr>\n",
       "      <th>2016-01-11 17:20:00</th>\n",
       "      <td>50</td>\n",
       "      <td>30</td>\n",
       "      <td>19.89</td>\n",
       "      <td>46.300000</td>\n",
       "      <td>19.2</td>\n",
       "      <td>44.626667</td>\n",
       "      <td>19.79</td>\n",
       "      <td>44.933333</td>\n",
       "      <td>18.926667</td>\n",
       "      <td>45.890000</td>\n",
       "      <td>...</td>\n",
       "      <td>17.000000</td>\n",
       "      <td>45.50</td>\n",
       "      <td>6.366667</td>\n",
       "      <td>733.7</td>\n",
       "      <td>92.0</td>\n",
       "      <td>6.333333</td>\n",
       "      <td>55.333333</td>\n",
       "      <td>5.1</td>\n",
       "      <td>28.642668</td>\n",
       "      <td>28.642668</td>\n",
       "    </tr>\n",
       "    <tr>\n",
       "      <th>2016-01-11 17:30:00</th>\n",
       "      <td>50</td>\n",
       "      <td>40</td>\n",
       "      <td>19.89</td>\n",
       "      <td>46.066667</td>\n",
       "      <td>19.2</td>\n",
       "      <td>44.590000</td>\n",
       "      <td>19.79</td>\n",
       "      <td>45.000000</td>\n",
       "      <td>18.890000</td>\n",
       "      <td>45.723333</td>\n",
       "      <td>...</td>\n",
       "      <td>17.000000</td>\n",
       "      <td>45.40</td>\n",
       "      <td>6.250000</td>\n",
       "      <td>733.8</td>\n",
       "      <td>92.0</td>\n",
       "      <td>6.000000</td>\n",
       "      <td>51.500000</td>\n",
       "      <td>5.0</td>\n",
       "      <td>45.410389</td>\n",
       "      <td>45.410389</td>\n",
       "    </tr>\n",
       "    <tr>\n",
       "      <th>2016-01-11 17:40:00</th>\n",
       "      <td>60</td>\n",
       "      <td>40</td>\n",
       "      <td>19.89</td>\n",
       "      <td>46.333333</td>\n",
       "      <td>19.2</td>\n",
       "      <td>44.530000</td>\n",
       "      <td>19.79</td>\n",
       "      <td>45.000000</td>\n",
       "      <td>18.890000</td>\n",
       "      <td>45.530000</td>\n",
       "      <td>...</td>\n",
       "      <td>17.000000</td>\n",
       "      <td>45.40</td>\n",
       "      <td>6.133333</td>\n",
       "      <td>733.9</td>\n",
       "      <td>92.0</td>\n",
       "      <td>5.666667</td>\n",
       "      <td>47.666667</td>\n",
       "      <td>4.9</td>\n",
       "      <td>10.084097</td>\n",
       "      <td>10.084097</td>\n",
       "    </tr>\n",
       "  </tbody>\n",
       "</table>\n",
       "<p>5 rows × 28 columns</p>\n",
       "</div>"
      ],
      "text/plain": [
       "                     Appliances  lights     T1       RH_1    T2       RH_2  \\\n",
       "date                                                                         \n",
       "2016-01-11 17:00:00          60      30  19.89  47.596667  19.2  44.790000   \n",
       "2016-01-11 17:10:00          60      30  19.89  46.693333  19.2  44.722500   \n",
       "2016-01-11 17:20:00          50      30  19.89  46.300000  19.2  44.626667   \n",
       "2016-01-11 17:30:00          50      40  19.89  46.066667  19.2  44.590000   \n",
       "2016-01-11 17:40:00          60      40  19.89  46.333333  19.2  44.530000   \n",
       "\n",
       "                        T3       RH_3         T4       RH_4  ...         T9  \\\n",
       "date                                                         ...              \n",
       "2016-01-11 17:00:00  19.79  44.730000  19.000000  45.566667  ...  17.033333   \n",
       "2016-01-11 17:10:00  19.79  44.790000  19.000000  45.992500  ...  17.066667   \n",
       "2016-01-11 17:20:00  19.79  44.933333  18.926667  45.890000  ...  17.000000   \n",
       "2016-01-11 17:30:00  19.79  45.000000  18.890000  45.723333  ...  17.000000   \n",
       "2016-01-11 17:40:00  19.79  45.000000  18.890000  45.530000  ...  17.000000   \n",
       "\n",
       "                      RH_9     T_out  Press_mm_hg  RH_out  Windspeed  \\\n",
       "date                                                                   \n",
       "2016-01-11 17:00:00  45.53  6.600000        733.5    92.0   7.000000   \n",
       "2016-01-11 17:10:00  45.56  6.483333        733.6    92.0   6.666667   \n",
       "2016-01-11 17:20:00  45.50  6.366667        733.7    92.0   6.333333   \n",
       "2016-01-11 17:30:00  45.40  6.250000        733.8    92.0   6.000000   \n",
       "2016-01-11 17:40:00  45.40  6.133333        733.9    92.0   5.666667   \n",
       "\n",
       "                     Visibility  Tdewpoint        rv1        rv2  \n",
       "date                                                              \n",
       "2016-01-11 17:00:00   63.000000        5.3  13.275433  13.275433  \n",
       "2016-01-11 17:10:00   59.166667        5.2  18.606195  18.606195  \n",
       "2016-01-11 17:20:00   55.333333        5.1  28.642668  28.642668  \n",
       "2016-01-11 17:30:00   51.500000        5.0  45.410389  45.410389  \n",
       "2016-01-11 17:40:00   47.666667        4.9  10.084097  10.084097  \n",
       "\n",
       "[5 rows x 28 columns]"
      ]
     },
     "execution_count": 3,
     "metadata": {},
     "output_type": "execute_result"
    }
   ],
   "source": [
    "df.head()"
   ]
  },
  {
   "cell_type": "code",
   "execution_count": 4,
   "metadata": {
    "scrolled": true
   },
   "outputs": [
    {
     "name": "stdout",
     "output_type": "stream",
     "text": [
      "<class 'pandas.core.frame.DataFrame'>\n",
      "Index: 19735 entries, 2016-01-11 17:00:00 to 2016-05-27 18:00:00\n",
      "Data columns (total 28 columns):\n",
      " #   Column       Non-Null Count  Dtype  \n",
      "---  ------       --------------  -----  \n",
      " 0   Appliances   19735 non-null  int64  \n",
      " 1   lights       19735 non-null  int64  \n",
      " 2   T1           19735 non-null  float64\n",
      " 3   RH_1         19735 non-null  float64\n",
      " 4   T2           19735 non-null  float64\n",
      " 5   RH_2         19735 non-null  float64\n",
      " 6   T3           19735 non-null  float64\n",
      " 7   RH_3         19735 non-null  float64\n",
      " 8   T4           19735 non-null  float64\n",
      " 9   RH_4         19735 non-null  float64\n",
      " 10  T5           19735 non-null  float64\n",
      " 11  RH_5         19735 non-null  float64\n",
      " 12  T6           19735 non-null  float64\n",
      " 13  RH_6         19735 non-null  float64\n",
      " 14  T7           19735 non-null  float64\n",
      " 15  RH_7         19735 non-null  float64\n",
      " 16  T8           19735 non-null  float64\n",
      " 17  RH_8         19735 non-null  float64\n",
      " 18  T9           19735 non-null  float64\n",
      " 19  RH_9         19735 non-null  float64\n",
      " 20  T_out        19735 non-null  float64\n",
      " 21  Press_mm_hg  19735 non-null  float64\n",
      " 22  RH_out       19735 non-null  float64\n",
      " 23  Windspeed    19735 non-null  float64\n",
      " 24  Visibility   19735 non-null  float64\n",
      " 25  Tdewpoint    19735 non-null  float64\n",
      " 26  rv1          19735 non-null  float64\n",
      " 27  rv2          19735 non-null  float64\n",
      "dtypes: float64(26), int64(2)\n",
      "memory usage: 4.4+ MB\n"
     ]
    }
   ],
   "source": [
    "df.info()"
   ]
  },
  {
   "cell_type": "code",
   "execution_count": 5,
   "metadata": {},
   "outputs": [
    {
     "data": {
      "text/plain": [
       "<matplotlib.axes._subplots.AxesSubplot at 0x237bf40fc48>"
      ]
     },
     "execution_count": 5,
     "metadata": {},
     "output_type": "execute_result"
    },
    {
     "data": {
      "image/png": "[encoded data removed]",
      "text/plain": [
       "<Figure size 864x576 with 1 Axes>"
      ]
     },
     "metadata": {
      "needs_background": "light"
     },
     "output_type": "display_data"
    }
   ],
   "source": [
    "df['Windspeed'].plot(figsize=(12,8))"
   ]
  },
  {
   "cell_type": "code",
   "execution_count": 6,
   "metadata": {},
   "outputs": [
    {
     "data": {
      "text/plain": [
       "<matplotlib.axes._subplots.AxesSubplot at 0x237bf4dd4c8>"
      ]
     },
     "execution_count": 6,
     "metadata": {},
     "output_type": "execute_result"
    },
    {
     "data": {
      "image/png": "[encoded data removed]",
      "text/plain": [
       "<Figure size 864x576 with 1 Axes>"
      ]
     },
     "metadata": {
      "needs_background": "light"
     },
     "output_type": "display_data"
    }
   ],
   "source": [
    "df['Appliances'].plot(figsize=(12,8))"
   ]
  },
  {
   "cell_type": "markdown",
   "metadata": {},
   "source": [
    "## Train and Test Split"
   ]
  },
  {
   "cell_type": "code",
   "execution_count": 7,
   "metadata": {},
   "outputs": [
    {
     "data": {
      "text/html": [
       "<div>\n",
       "<style scoped>\n",
       "    .dataframe tbody tr th:only-of-type {\n",
       "        vertical-align: middle;\n",
       "    }\n",
       "\n",
       "    .dataframe tbody tr th {\n",
       "        vertical-align: top;\n",
       "    }\n",
       "\n",
       "    .dataframe thead th {\n",
       "        text-align: right;\n",
       "    }\n",
       "</style>\n",
       "<table border=\"1\" class=\"dataframe\">\n",
       "  <thead>\n",
       "    <tr style=\"text-align: right;\">\n",
       "      <th></th>\n",
       "      <th>Appliances</th>\n",
       "      <th>lights</th>\n",
       "      <th>T1</th>\n",
       "      <th>RH_1</th>\n",
       "      <th>T2</th>\n",
       "      <th>RH_2</th>\n",
       "      <th>T3</th>\n",
       "      <th>RH_3</th>\n",
       "      <th>T4</th>\n",
       "      <th>RH_4</th>\n",
       "      <th>...</th>\n",
       "      <th>T9</th>\n",
       "      <th>RH_9</th>\n",
       "      <th>T_out</th>\n",
       "      <th>Press_mm_hg</th>\n",
       "      <th>RH_out</th>\n",
       "      <th>Windspeed</th>\n",
       "      <th>Visibility</th>\n",
       "      <th>Tdewpoint</th>\n",
       "      <th>rv1</th>\n",
       "      <th>rv2</th>\n",
       "    </tr>\n",
       "    <tr>\n",
       "      <th>date</th>\n",
       "      <th></th>\n",
       "      <th></th>\n",
       "      <th></th>\n",
       "      <th></th>\n",
       "      <th></th>\n",
       "      <th></th>\n",
       "      <th></th>\n",
       "      <th></th>\n",
       "      <th></th>\n",
       "      <th></th>\n",
       "      <th></th>\n",
       "      <th></th>\n",
       "      <th></th>\n",
       "      <th></th>\n",
       "      <th></th>\n",
       "      <th></th>\n",
       "      <th></th>\n",
       "      <th></th>\n",
       "      <th></th>\n",
       "      <th></th>\n",
       "      <th></th>\n",
       "    </tr>\n",
       "  </thead>\n",
       "  <tbody>\n",
       "    <tr>\n",
       "      <th>2016-05-27 17:20:00</th>\n",
       "      <td>100</td>\n",
       "      <td>0</td>\n",
       "      <td>25.566667</td>\n",
       "      <td>46.560000</td>\n",
       "      <td>25.890000</td>\n",
       "      <td>42.025714</td>\n",
       "      <td>27.200000</td>\n",
       "      <td>41.163333</td>\n",
       "      <td>24.7</td>\n",
       "      <td>45.590000</td>\n",
       "      <td>...</td>\n",
       "      <td>23.2</td>\n",
       "      <td>46.7900</td>\n",
       "      <td>22.733333</td>\n",
       "      <td>755.2</td>\n",
       "      <td>55.666667</td>\n",
       "      <td>3.333333</td>\n",
       "      <td>23.666667</td>\n",
       "      <td>13.333333</td>\n",
       "      <td>43.096812</td>\n",
       "      <td>43.096812</td>\n",
       "    </tr>\n",
       "    <tr>\n",
       "      <th>2016-05-27 17:30:00</th>\n",
       "      <td>90</td>\n",
       "      <td>0</td>\n",
       "      <td>25.500000</td>\n",
       "      <td>46.500000</td>\n",
       "      <td>25.754000</td>\n",
       "      <td>42.080000</td>\n",
       "      <td>27.133333</td>\n",
       "      <td>41.223333</td>\n",
       "      <td>24.7</td>\n",
       "      <td>45.590000</td>\n",
       "      <td>...</td>\n",
       "      <td>23.2</td>\n",
       "      <td>46.7900</td>\n",
       "      <td>22.600000</td>\n",
       "      <td>755.2</td>\n",
       "      <td>56.000000</td>\n",
       "      <td>3.500000</td>\n",
       "      <td>24.500000</td>\n",
       "      <td>13.300000</td>\n",
       "      <td>49.282940</td>\n",
       "      <td>49.282940</td>\n",
       "    </tr>\n",
       "    <tr>\n",
       "      <th>2016-05-27 17:40:00</th>\n",
       "      <td>270</td>\n",
       "      <td>10</td>\n",
       "      <td>25.500000</td>\n",
       "      <td>46.596667</td>\n",
       "      <td>25.628571</td>\n",
       "      <td>42.768571</td>\n",
       "      <td>27.050000</td>\n",
       "      <td>41.690000</td>\n",
       "      <td>24.7</td>\n",
       "      <td>45.730000</td>\n",
       "      <td>...</td>\n",
       "      <td>23.2</td>\n",
       "      <td>46.7900</td>\n",
       "      <td>22.466667</td>\n",
       "      <td>755.2</td>\n",
       "      <td>56.333333</td>\n",
       "      <td>3.666667</td>\n",
       "      <td>25.333333</td>\n",
       "      <td>13.266667</td>\n",
       "      <td>29.199117</td>\n",
       "      <td>29.199117</td>\n",
       "    </tr>\n",
       "    <tr>\n",
       "      <th>2016-05-27 17:50:00</th>\n",
       "      <td>420</td>\n",
       "      <td>10</td>\n",
       "      <td>25.500000</td>\n",
       "      <td>46.990000</td>\n",
       "      <td>25.414000</td>\n",
       "      <td>43.036000</td>\n",
       "      <td>26.890000</td>\n",
       "      <td>41.290000</td>\n",
       "      <td>24.7</td>\n",
       "      <td>45.790000</td>\n",
       "      <td>...</td>\n",
       "      <td>23.2</td>\n",
       "      <td>46.8175</td>\n",
       "      <td>22.333333</td>\n",
       "      <td>755.2</td>\n",
       "      <td>56.666667</td>\n",
       "      <td>3.833333</td>\n",
       "      <td>26.166667</td>\n",
       "      <td>13.233333</td>\n",
       "      <td>6.322784</td>\n",
       "      <td>6.322784</td>\n",
       "    </tr>\n",
       "    <tr>\n",
       "      <th>2016-05-27 18:00:00</th>\n",
       "      <td>430</td>\n",
       "      <td>10</td>\n",
       "      <td>25.500000</td>\n",
       "      <td>46.600000</td>\n",
       "      <td>25.264286</td>\n",
       "      <td>42.971429</td>\n",
       "      <td>26.823333</td>\n",
       "      <td>41.156667</td>\n",
       "      <td>24.7</td>\n",
       "      <td>45.963333</td>\n",
       "      <td>...</td>\n",
       "      <td>23.2</td>\n",
       "      <td>46.8450</td>\n",
       "      <td>22.200000</td>\n",
       "      <td>755.2</td>\n",
       "      <td>57.000000</td>\n",
       "      <td>4.000000</td>\n",
       "      <td>27.000000</td>\n",
       "      <td>13.200000</td>\n",
       "      <td>34.118851</td>\n",
       "      <td>34.118851</td>\n",
       "    </tr>\n",
       "  </tbody>\n",
       "</table>\n",
       "<p>5 rows × 28 columns</p>\n",
       "</div>"
      ],
      "text/plain": [
       "                     Appliances  lights         T1       RH_1         T2  \\\n",
       "date                                                                       \n",
       "2016-05-27 17:20:00         100       0  25.566667  46.560000  25.890000   \n",
       "2016-05-27 17:30:00          90       0  25.500000  46.500000  25.754000   \n",
       "2016-05-27 17:40:00         270      10  25.500000  46.596667  25.628571   \n",
       "2016-05-27 17:50:00         420      10  25.500000  46.990000  25.414000   \n",
       "2016-05-27 18:00:00         430      10  25.500000  46.600000  25.264286   \n",
       "\n",
       "                          RH_2         T3       RH_3    T4       RH_4  ...  \\\n",
       "date                                                                   ...   \n",
       "2016-05-27 17:20:00  42.025714  27.200000  41.163333  24.7  45.590000  ...   \n",
       "2016-05-27 17:30:00  42.080000  27.133333  41.223333  24.7  45.590000  ...   \n",
       "2016-05-27 17:40:00  42.768571  27.050000  41.690000  24.7  45.730000  ...   \n",
       "2016-05-27 17:50:00  43.036000  26.890000  41.290000  24.7  45.790000  ...   \n",
       "2016-05-27 18:00:00  42.971429  26.823333  41.156667  24.7  45.963333  ...   \n",
       "\n",
       "                       T9     RH_9      T_out  Press_mm_hg     RH_out  \\\n",
       "date                                                                    \n",
       "2016-05-27 17:20:00  23.2  46.7900  22.733333        755.2  55.666667   \n",
       "2016-05-27 17:30:00  23.2  46.7900  22.600000        755.2  56.000000   \n",
       "2016-05-27 17:40:00  23.2  46.7900  22.466667        755.2  56.333333   \n",
       "2016-05-27 17:50:00  23.2  46.8175  22.333333        755.2  56.666667   \n",
       "2016-05-27 18:00:00  23.2  46.8450  22.200000        755.2  57.000000   \n",
       "\n",
       "                     Windspeed  Visibility  Tdewpoint        rv1        rv2  \n",
       "date                                                                         \n",
       "2016-05-27 17:20:00   3.333333   23.666667  13.333333  43.096812  43.096812  \n",
       "2016-05-27 17:30:00   3.500000   24.500000  13.300000  49.282940  49.282940  \n",
       "2016-05-27 17:40:00   3.666667   25.333333  13.266667  29.199117  29.199117  \n",
       "2016-05-27 17:50:00   3.833333   26.166667  13.233333   6.322784   6.322784  \n",
       "2016-05-27 18:00:00   4.000000   27.000000  13.200000  34.118851  34.118851  \n",
       "\n",
       "[5 rows x 28 columns]"
      ]
     },
     "execution_count": 7,
     "metadata": {},
     "output_type": "execute_result"
    }
   ],
   "source": [
    "df.tail()"
   ]
  },
  {
   "cell_type": "code",
   "execution_count": 8,
   "metadata": {},
   "outputs": [],
   "source": [
    "df_mounth = df.loc['2016-05-01':] # last mounth of the df\n",
    "df_mounth = df_mounth.round(2)"
   ]
  },
  {
   "cell_type": "code",
   "execution_count": 9,
   "metadata": {},
   "outputs": [],
   "source": [
    "test_days = 2\n",
    "test_index = test_days * int(24*60/10)\n",
    "train = df_mounth.iloc[:-test_index]\n",
    "test = df_mounth.iloc[-test_index:]"
   ]
  },
  {
   "cell_type": "code",
   "execution_count": 10,
   "metadata": {},
   "outputs": [],
   "source": [
    "scaler = MinMaxScaler()\n",
    "scaler.fit(train)\n",
    "train_scaled = scaler.transform(train)\n",
    "test_scaled = scaler.transform(test)"
   ]
  },
  {
   "cell_type": "code",
   "execution_count": 15,
   "metadata": {},
   "outputs": [],
   "source": [
    "length = 144\n",
    "batch_size = 1\n",
    "generator = TimeseriesGenerator(train_scaled,train_scaled,\n",
    "                                length=length,batch_size=batch_size)"
   ]
  },
  {
   "cell_type": "code",
   "execution_count": 28,
   "metadata": {},
   "outputs": [],
   "source": [
    "model = Sequential()\n",
    "\n",
    "model.add(LSTM(25,input_shape=(length,train_scaled.shape[1])))\n",
    "\n",
    "model.add(Dense(train_scaled.shape[1]))\n",
    "\n",
    "model.compile(optimizer='adam',loss='mse')"
   ]
  },
  {
   "cell_type": "code",
   "execution_count": 29,
   "metadata": {},
   "outputs": [
    {
     "name": "stdout",
     "output_type": "stream",
     "text": [
      "Model: \"sequential_1\"\n",
      "_________________________________________________________________\n",
      "Layer (type)                 Output Shape              Param #   \n",
      "=================================================================\n",
      "lstm (LSTM)                  (None, 25)                5400      \n",
      "_________________________________________________________________\n",
      "dense (Dense)                (None, 28)                728       \n",
      "=================================================================\n",
      "Total params: 6,128\n",
      "Trainable params: 6,128\n",
      "Non-trainable params: 0\n",
      "_________________________________________________________________\n"
     ]
    }
   ],
   "source": [
    "model.summary()"
   ]
  },
  {
   "cell_type": "code",
   "execution_count": 31,
   "metadata": {},
   "outputs": [],
   "source": [
    "early_stop = EarlyStopping(monitor='val_loss',patience=1)\n",
    "generator_valid = TimeseriesGenerator(test_scaled,test_scaled,\n",
    "                                     length=length,batch_size=batch_size)"
   ]
  },
  {
   "cell_type": "code",
   "execution_count": 32,
   "metadata": {},
   "outputs": [
    {
     "name": "stdout",
     "output_type": "stream",
     "text": [
      "Epoch 1/3\n",
      "3421/3421 [==============================] - 1225s 358ms/step - loss: 0.0165 - val_loss: 0.0130\n",
      "Epoch 2/3\n",
      "3421/3421 [==============================] - 1051s 307ms/step - loss: 0.0090 - val_loss: 0.0109\n",
      "Epoch 3/3\n",
      "3421/3421 [==============================] - 1189s 347ms/step - loss: 0.0081 - val_loss: 0.0094\n"
     ]
    },
    {
     "data": {
      "text/plain": [
       "<tensorflow.python.keras.callbacks.History at 0x237c3a25988>"
      ]
     },
     "execution_count": 32,
     "metadata": {},
     "output_type": "execute_result"
    }
   ],
   "source": [
    "model.fit_generator(generator,epochs=3,\n",
    "                    validation_data=generator_valid,\n",
    "                    callbacks=[early_stop])"
   ]
  },
  {
   "cell_type": "code",
   "execution_count": 33,
   "metadata": {},
   "outputs": [
    {
     "data": {
      "text/plain": [
       "<matplotlib.axes._subplots.AxesSubplot at 0x237c41ee548>"
      ]
     },
     "execution_count": 33,
     "metadata": {},
     "output_type": "execute_result"
    },
    {
     "data": {
      "image/png": "[encoded data removed]",
      "text/plain": [
       "<Figure size 432x288 with 1 Axes>"
      ]
     },
     "metadata": {
      "needs_background": "light"
     },
     "output_type": "display_data"
    }
   ],
   "source": [
    "losses = pd.DataFrame(model.history.history)\n",
    "losses.plot()"
   ]
  },
  {
   "cell_type": "markdown",
   "metadata": {},
   "source": [
    "## Evaluate on Test"
   ]
  },
  {
   "cell_type": "code",
   "execution_count": 34,
   "metadata": {},
   "outputs": [
    {
     "data": {
      "text/plain": [
       "array([[0.08414789, 0.00464583, 0.67042345, 0.40681037, 0.5429299 ,\n",
       "        0.43938524, 0.40086177, 0.451806  , 0.68166834, 0.3625406 ,\n",
       "        0.2892124 , 0.35237336, 0.6401956 , 0.03892915, 0.64309907,\n",
       "        0.36160007, 0.5307356 , 0.32046267, 0.5722887 , 0.3308447 ,\n",
       "        0.6278031 , 0.5308491 , 0.41479415, 0.20918435, 0.53782105,\n",
       "        0.50279194, 0.49287674, 0.54787135]], dtype=float32)"
      ]
     },
     "execution_count": 34,
     "metadata": {},
     "output_type": "execute_result"
    }
   ],
   "source": [
    "first_eval_batch = train_scaled[-length:]\n",
    "first_eval_batch = first_eval_batch.reshape(1,length,train_scaled.shape[1])\n",
    "model.predict(first_eval_batch)"
   ]
  },
  {
   "cell_type": "code",
   "execution_count": 36,
   "metadata": {},
   "outputs": [
    {
     "data": {
      "text/plain": [
       "array([0.19480519, 0.        , 0.70017036, 0.3920434 , 0.53007217,\n",
       "       0.41064526, 0.40616246, 0.41913319, 0.72714286, 0.4115245 ,\n",
       "       0.30722892, 0.36445121, 0.66777778, 0.        , 0.61119082,\n",
       "       0.39840637, 0.51618399, 0.32953105, 0.53703704, 0.34024896,\n",
       "       0.6057377 , 0.52631579, 0.41881579, 0.2       , 0.55283333,\n",
       "       0.53372781, 0.76305783, 0.76305783])"
      ]
     },
     "execution_count": 36,
     "metadata": {},
     "output_type": "execute_result"
    }
   ],
   "source": [
    "test_scaled[0]"
   ]
  },
  {
   "cell_type": "code",
   "execution_count": 37,
   "metadata": {},
   "outputs": [],
   "source": [
    "n_features = train_scaled.shape[1]\n",
    "test_predictions = []\n",
    "\n",
    "first_eval_batch = train_scaled[-length:]\n",
    "current_batch = first_eval_batch.reshape((1,length,n_features))\n",
    "\n",
    "for i in range(len(test)):\n",
    "    \n",
    "    pred = model.predict(current_batch)[0]\n",
    "    test_predictions.append(pred)\n",
    "    current_batch = np.append(current_batch[:,1:,:],[[pred]],axis=1)"
   ]
  },
  {
   "cell_type": "code",
   "execution_count": 39,
   "metadata": {},
   "outputs": [],
   "source": [
    "true_predictions = scaler.inverse_transform(test_predictions)"
   ]
  },
  {
   "cell_type": "code",
   "execution_count": 41,
   "metadata": {},
   "outputs": [
    {
     "data": {
      "text/html": [
       "<div>\n",
       "<style scoped>\n",
       "    .dataframe tbody tr th:only-of-type {\n",
       "        vertical-align: middle;\n",
       "    }\n",
       "\n",
       "    .dataframe tbody tr th {\n",
       "        vertical-align: top;\n",
       "    }\n",
       "\n",
       "    .dataframe thead th {\n",
       "        text-align: right;\n",
       "    }\n",
       "</style>\n",
       "<table border=\"1\" class=\"dataframe\">\n",
       "  <thead>\n",
       "    <tr style=\"text-align: right;\">\n",
       "      <th></th>\n",
       "      <th>Appliances</th>\n",
       "      <th>lights</th>\n",
       "      <th>T1</th>\n",
       "      <th>RH_1</th>\n",
       "      <th>T2</th>\n",
       "      <th>RH_2</th>\n",
       "      <th>T3</th>\n",
       "      <th>RH_3</th>\n",
       "      <th>T4</th>\n",
       "      <th>RH_4</th>\n",
       "      <th>...</th>\n",
       "      <th>T9</th>\n",
       "      <th>RH_9</th>\n",
       "      <th>T_out</th>\n",
       "      <th>Press_mm_hg</th>\n",
       "      <th>RH_out</th>\n",
       "      <th>Windspeed</th>\n",
       "      <th>Visibility</th>\n",
       "      <th>Tdewpoint</th>\n",
       "      <th>rv1</th>\n",
       "      <th>rv2</th>\n",
       "    </tr>\n",
       "  </thead>\n",
       "  <tbody>\n",
       "    <tr>\n",
       "      <th>0</th>\n",
       "      <td>84.793872</td>\n",
       "      <td>0.139375</td>\n",
       "      <td>24.325386</td>\n",
       "      <td>38.268307</td>\n",
       "      <td>24.160336</td>\n",
       "      <td>35.236525</td>\n",
       "      <td>24.962153</td>\n",
       "      <td>37.318170</td>\n",
       "      <td>23.971678</td>\n",
       "      <td>36.710395</td>\n",
       "      <td>...</td>\n",
       "      <td>22.190359</td>\n",
       "      <td>37.026022</td>\n",
       "      <td>17.018395</td>\n",
       "      <td>756.203359</td>\n",
       "      <td>55.524355</td>\n",
       "      <td>2.091843</td>\n",
       "      <td>37.269263</td>\n",
       "      <td>7.097184</td>\n",
       "      <td>24.639051</td>\n",
       "      <td>27.387131</td>\n",
       "    </tr>\n",
       "    <tr>\n",
       "      <th>1</th>\n",
       "      <td>80.675249</td>\n",
       "      <td>0.256979</td>\n",
       "      <td>24.300881</td>\n",
       "      <td>38.023026</td>\n",
       "      <td>23.882500</td>\n",
       "      <td>35.219046</td>\n",
       "      <td>24.904828</td>\n",
       "      <td>37.117351</td>\n",
       "      <td>23.892079</td>\n",
       "      <td>36.566827</td>\n",
       "      <td>...</td>\n",
       "      <td>22.252849</td>\n",
       "      <td>36.950231</td>\n",
       "      <td>16.783456</td>\n",
       "      <td>756.407877</td>\n",
       "      <td>56.313224</td>\n",
       "      <td>2.001538</td>\n",
       "      <td>36.127715</td>\n",
       "      <td>6.907758</td>\n",
       "      <td>24.937105</td>\n",
       "      <td>27.412907</td>\n",
       "    </tr>\n",
       "    <tr>\n",
       "      <th>2</th>\n",
       "      <td>76.095444</td>\n",
       "      <td>0.417854</td>\n",
       "      <td>24.265001</td>\n",
       "      <td>37.818557</td>\n",
       "      <td>23.681947</td>\n",
       "      <td>35.297811</td>\n",
       "      <td>24.841949</td>\n",
       "      <td>36.910929</td>\n",
       "      <td>23.858575</td>\n",
       "      <td>36.410499</td>\n",
       "      <td>...</td>\n",
       "      <td>22.292181</td>\n",
       "      <td>36.923282</td>\n",
       "      <td>16.518028</td>\n",
       "      <td>756.472252</td>\n",
       "      <td>56.830313</td>\n",
       "      <td>1.926748</td>\n",
       "      <td>35.102639</td>\n",
       "      <td>6.779248</td>\n",
       "      <td>24.967268</td>\n",
       "      <td>27.430256</td>\n",
       "    </tr>\n",
       "    <tr>\n",
       "      <th>3</th>\n",
       "      <td>71.306309</td>\n",
       "      <td>0.604997</td>\n",
       "      <td>24.222510</td>\n",
       "      <td>37.621619</td>\n",
       "      <td>23.484838</td>\n",
       "      <td>35.390265</td>\n",
       "      <td>24.776822</td>\n",
       "      <td>36.745234</td>\n",
       "      <td>23.836282</td>\n",
       "      <td>36.251909</td>\n",
       "      <td>...</td>\n",
       "      <td>22.322369</td>\n",
       "      <td>36.918561</td>\n",
       "      <td>16.240196</td>\n",
       "      <td>756.493608</td>\n",
       "      <td>57.352268</td>\n",
       "      <td>1.855258</td>\n",
       "      <td>34.158237</td>\n",
       "      <td>6.659196</td>\n",
       "      <td>24.993572</td>\n",
       "      <td>27.457170</td>\n",
       "    </tr>\n",
       "    <tr>\n",
       "      <th>4</th>\n",
       "      <td>66.445294</td>\n",
       "      <td>0.789931</td>\n",
       "      <td>24.175762</td>\n",
       "      <td>37.431423</td>\n",
       "      <td>23.287715</td>\n",
       "      <td>35.493749</td>\n",
       "      <td>24.710785</td>\n",
       "      <td>36.601755</td>\n",
       "      <td>23.818131</td>\n",
       "      <td>36.092191</td>\n",
       "      <td>...</td>\n",
       "      <td>22.346256</td>\n",
       "      <td>36.928067</td>\n",
       "      <td>15.945397</td>\n",
       "      <td>756.496804</td>\n",
       "      <td>57.878798</td>\n",
       "      <td>1.781338</td>\n",
       "      <td>33.255754</td>\n",
       "      <td>6.539563</td>\n",
       "      <td>25.011051</td>\n",
       "      <td>27.480687</td>\n",
       "    </tr>\n",
       "  </tbody>\n",
       "</table>\n",
       "<p>5 rows × 28 columns</p>\n",
       "</div>"
      ],
      "text/plain": [
       "   Appliances    lights         T1       RH_1         T2       RH_2  \\\n",
       "0   84.793872  0.139375  24.325386  38.268307  24.160336  35.236525   \n",
       "1   80.675249  0.256979  24.300881  38.023026  23.882500  35.219046   \n",
       "2   76.095444  0.417854  24.265001  37.818557  23.681947  35.297811   \n",
       "3   71.306309  0.604997  24.222510  37.621619  23.484838  35.390265   \n",
       "4   66.445294  0.789931  24.175762  37.431423  23.287715  35.493749   \n",
       "\n",
       "          T3       RH_3         T4       RH_4  ...         T9       RH_9  \\\n",
       "0  24.962153  37.318170  23.971678  36.710395  ...  22.190359  37.026022   \n",
       "1  24.904828  37.117351  23.892079  36.566827  ...  22.252849  36.950231   \n",
       "2  24.841949  36.910929  23.858575  36.410499  ...  22.292181  36.923282   \n",
       "3  24.776822  36.745234  23.836282  36.251909  ...  22.322369  36.918561   \n",
       "4  24.710785  36.601755  23.818131  36.092191  ...  22.346256  36.928067   \n",
       "\n",
       "       T_out  Press_mm_hg     RH_out  Windspeed  Visibility  Tdewpoint  \\\n",
       "0  17.018395   756.203359  55.524355   2.091843   37.269263   7.097184   \n",
       "1  16.783456   756.407877  56.313224   2.001538   36.127715   6.907758   \n",
       "2  16.518028   756.472252  56.830313   1.926748   35.102639   6.779248   \n",
       "3  16.240196   756.493608  57.352268   1.855258   34.158237   6.659196   \n",
       "4  15.945397   756.496804  57.878798   1.781338   33.255754   6.539563   \n",
       "\n",
       "         rv1        rv2  \n",
       "0  24.639051  27.387131  \n",
       "1  24.937105  27.412907  \n",
       "2  24.967268  27.430256  \n",
       "3  24.993572  27.457170  \n",
       "4  25.011051  27.480687  \n",
       "\n",
       "[5 rows x 28 columns]"
      ]
     },
     "execution_count": 41,
     "metadata": {},
     "output_type": "execute_result"
    }
   ],
   "source": [
    "true_predictions = pd.DataFrame(true_predictions,columns=test.columns)\n",
    "true_predictions.head()"
   ]
  },
  {
   "cell_type": "code",
   "execution_count": 46,
   "metadata": {},
   "outputs": [
    {
     "data": {
      "text/plain": [
       "count    288.000000\n",
       "mean     137.847222\n",
       "std      139.239664\n",
       "min       40.000000\n",
       "25%       60.000000\n",
       "50%       75.000000\n",
       "75%      162.500000\n",
       "max      850.000000\n",
       "Name: Appliances, dtype: float64"
      ]
     },
     "execution_count": 46,
     "metadata": {},
     "output_type": "execute_result"
    }
   ],
   "source": [
    "test.describe()['Appliances']"
   ]
  },
  {
   "cell_type": "code",
   "execution_count": 45,
   "metadata": {},
   "outputs": [
    {
     "data": {
      "text/plain": [
       "178.7086873760524"
      ]
     },
     "execution_count": 45,
     "metadata": {},
     "output_type": "execute_result"
    }
   ],
   "source": [
    "(mean_squared_error(true_predictions['Appliances'],test['Appliances']))**0.5"
   ]
  }
 ],
 "metadata": {
  "kernelspec": {
   "display_name": "Python [conda env:py3-TF2.0]",
   "language": "python",
   "name": "conda-env-py3-TF2.0-py"
  },
  "language_info": {
   "codemirror_mode": {
    "name": "ipython",
    "version": 3
   },
   "file_extension": ".py",
   "mimetype": "text/x-python",
   "name": "python",
   "nbconvert_exporter": "python",
   "pygments_lexer": "ipython3",
   "version": "3.7.6"
  }
 },
 "nbformat": 4,
 "nbformat_minor": 2
}
