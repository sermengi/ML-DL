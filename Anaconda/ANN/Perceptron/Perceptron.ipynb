{
 "cells": [
  {
   "cell_type": "code",
   "execution_count": 1,
   "metadata": {},
   "outputs": [],
   "source": [
    "import numpy as np\n",
    "import pandas as pd\n",
    "import seaborn as sns\n",
    "%matplotlib inline"
   ]
  },
  {
   "cell_type": "code",
   "execution_count": 2,
   "metadata": {},
   "outputs": [],
   "source": [
    "x = np.array([[-1,1],[0,-1],[10,1]])\n",
    "y = np.array([1,-1,1])\n",
    "weight = np.array([0,0])\n",
    "bias = 0"
   ]
  },
  {
   "cell_type": "code",
   "execution_count": 3,
   "metadata": {},
   "outputs": [
    {
     "data": {
      "text/plain": [
       "<matplotlib.axes._subplots.AxesSubplot at 0x28d920a29c8>"
      ]
     },
     "execution_count": 3,
     "metadata": {},
     "output_type": "execute_result"
    },
    {
     "data": {
      "image/png": "[encoded data removed]",
      "text/plain": [
       "<Figure size 432x288 with 1 Axes>"
      ]
     },
     "metadata": {
      "needs_background": "light"
     },
     "output_type": "display_data"
    }
   ],
   "source": [
    "sns.scatterplot(x[:,0],x[:,1],hue=y,palette=\"Set1\")"
   ]
  },
  {
   "cell_type": "code",
   "execution_count": 4,
   "metadata": {},
   "outputs": [],
   "source": [
    "def adjust_wb(weight,bias,x,y,k):\n",
    "    w = weight + y[k]*x[k,:]\n",
    "    b = bias + y[k]\n",
    "    return w,b"
   ]
  },
  {
   "cell_type": "code",
   "execution_count": 5,
   "metadata": {},
   "outputs": [
    {
     "name": "stdout",
     "output_type": "stream",
     "text": [
      "Adjusted weights:  [7 5]\n",
      "Adjusted bias:  3\n"
     ]
    }
   ],
   "source": [
    "adj_x = []\n",
    "while len(adj_x) < 3:\n",
    "    for k in range(3):\n",
    "        if (np.dot(weight,x[k,:])+bias)*y[k] <= 0:\n",
    "            weight,bias = adjust_wb(weight,bias,x,y,k)\n",
    "            adj_x = []\n",
    "        else:\n",
    "            adj_x.append(k)\n",
    "\n",
    "print('Adjusted weights: ',weight)\n",
    "print('Adjusted bias: ',bias)"
   ]
  }
 ],
 "metadata": {
  "kernelspec": {
   "display_name": "Python 3",
   "language": "python",
   "name": "python3"
  },
  "language_info": {
   "codemirror_mode": {
    "name": "ipython",
    "version": 3
   },
   "file_extension": ".py",
   "mimetype": "text/x-python",
   "name": "python",
   "nbconvert_exporter": "python",
   "pygments_lexer": "ipython3",
   "version": "3.7.4"
  }
 },
 "nbformat": 4,
 "nbformat_minor": 2
}
