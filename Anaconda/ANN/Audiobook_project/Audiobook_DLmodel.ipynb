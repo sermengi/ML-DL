{
 "cells": [
  {
   "cell_type": "markdown",
   "metadata": {},
   "source": [
    "## Importing Libraries"
   ]
  },
  {
   "cell_type": "code",
   "execution_count": 1,
   "metadata": {},
   "outputs": [],
   "source": [
    "import numpy as np\n",
    "import tensorflow as tf\n",
    "from sklearn import preprocessing\n",
    "\n",
    "raw_data = np.loadtxt('Audiobooks-data.csv',delimiter=',')\n",
    "\n",
    "unscaled_inputs_all = raw_data[:,1:-1]\n",
    "targets_all = raw_data[:,-1]"
   ]
  },
  {
   "cell_type": "markdown",
   "metadata": {},
   "source": [
    "## Preprocessing the Data"
   ]
  },
  {
   "cell_type": "code",
   "execution_count": 2,
   "metadata": {},
   "outputs": [],
   "source": [
    "# Balancing the data\n",
    "num_one_targets = int(np.sum(targets_all))\n",
    "zero_targets_counter = 0\n",
    "indices_to_remove = []\n",
    "\n",
    "for i in range(targets_all.shape[0]):\n",
    "    if targets_all[i] == 0:\n",
    "        zero_targets_counter += 1\n",
    "        if zero_targets_counter > num_one_targets:\n",
    "            indices_to_remove.append(i)\n",
    "\n",
    "unscaled_inputs_equal_priors = np.delete(unscaled_inputs_all,indices_to_remove,axis=0)\n",
    "targets_equal_priors = np.delete(targets_all,indices_to_remove,axis=0)\n",
    "\n",
    "# Standardize the inputs\n",
    "scaled_inputs = preprocessing.scale(unscaled_inputs_equal_priors)\n",
    "\n",
    "# Shuffle the data\n",
    "shuffled_indices = np.arange(scaled_inputs.shape[0])\n",
    "np.random.shuffle(shuffled_indices)\n",
    "shuffled_inputs = scaled_inputs[shuffled_indices]\n",
    "shuffled_targets = targets_equal_priors[shuffled_indices]\n",
    "\n",
    "# Split the dataset into Train, Validation and Test\n",
    "# use 80-10-10 split \n",
    "samples_count = shuffled_inputs.shape[0]\n",
    "train_samples_count = int(0.8*samples_count)\n",
    "validation_samples_count = int(0.1*samples_count)\n",
    "target_samples_count = samples_count - train_samples_count - validation_samples_count\n",
    "# Training inputs and targets\n",
    "train_inputs = shuffled_inputs[:train_samples_count]\n",
    "train_targets = shuffled_targets[:train_samples_count]\n",
    "# Validation inputs and targets\n",
    "validation_inputs = shuffled_inputs[train_samples_count:train_samples_count+validation_samples_count]\n",
    "validation_targets = shuffled_targets[train_samples_count:train_samples_count+validation_samples_count]\n",
    "# Test inputs and targets\n",
    "test_inputs = shuffled_inputs[train_samples_count+validation_samples_count:]\n",
    "test_targets = shuffled_targets[train_samples_count+validation_samples_count:]\n",
    "\n",
    "# Save Training, Validation and Test dataset in *.npz file\n",
    "np.savez('Audiobooks_data_train',inputs=train_inputs,targets=train_targets)\n",
    "np.savez('Audiobooks_data_validation',inputs=validation_inputs,targets=validation_targets)\n",
    "np.savez('Audiobooks_data_test',inputs=test_inputs,targets=test_targets)"
   ]
  },
  {
   "cell_type": "markdown",
   "metadata": {},
   "source": [
    "## Data"
   ]
  },
  {
   "cell_type": "code",
   "execution_count": 3,
   "metadata": {},
   "outputs": [],
   "source": [
    "# Load the training dataset\n",
    "npz = np.load('Audiobooks_data_train.npz')\n",
    "train_inputs, train_targets = npz['inputs'].astype(np.float),npz['targets'].astype(np.int)\n",
    "\n",
    "# Load the validation dataset\n",
    "npz = np.load('Audiobooks_data_validation.npz')\n",
    "validation_inputs, validation_targets = npz['inputs'].astype(np.float),npz['targets'].astype(np.int)\n",
    "\n",
    "# Load the test dataset\n",
    "npz = np.load('Audiobooks_data_test.npz')\n",
    "test_inputs, test_targets = npz['inputs'].astype(np.float),npz['targets'].astype(np.int)"
   ]
  },
  {
   "cell_type": "markdown",
   "metadata": {},
   "source": [
    "## Model"
   ]
  },
  {
   "cell_type": "code",
   "execution_count": 12,
   "metadata": {
    "scrolled": true
   },
   "outputs": [
    {
     "name": "stdout",
     "output_type": "stream",
     "text": [
      "Train on 3579 samples, validate on 447 samples\n",
      "Epoch 1/100\n",
      "3579/3579 - 1s - loss: 0.6647 - accuracy: 0.5851 - val_loss: 0.5094 - val_accuracy: 0.7763\n",
      "Epoch 2/100\n",
      "3579/3579 - 0s - loss: 0.4282 - accuracy: 0.7731 - val_loss: 0.3659 - val_accuracy: 0.7852\n",
      "Epoch 3/100\n",
      "3579/3579 - 0s - loss: 0.3771 - accuracy: 0.7857 - val_loss: 0.3525 - val_accuracy: 0.8054\n",
      "Epoch 4/100\n",
      "3579/3579 - 0s - loss: 0.3529 - accuracy: 0.8092 - val_loss: 0.3516 - val_accuracy: 0.8031\n",
      "Epoch 5/100\n",
      "3579/3579 - 0s - loss: 0.3428 - accuracy: 0.8120 - val_loss: 0.3296 - val_accuracy: 0.8210\n",
      "Epoch 6/100\n",
      "3579/3579 - 0s - loss: 0.3452 - accuracy: 0.7991 - val_loss: 0.3255 - val_accuracy: 0.8322\n",
      "Epoch 7/100\n",
      "3579/3579 - 0s - loss: 0.3379 - accuracy: 0.8111 - val_loss: 0.3545 - val_accuracy: 0.7875\n",
      "Epoch 8/100\n",
      "3579/3579 - 0s - loss: 0.3365 - accuracy: 0.8128 - val_loss: 0.3226 - val_accuracy: 0.8143\n",
      "Epoch 9/100\n",
      "3579/3579 - 0s - loss: 0.3321 - accuracy: 0.8100 - val_loss: 0.3383 - val_accuracy: 0.8076\n",
      "Epoch 10/100\n",
      "3579/3579 - 0s - loss: 0.3319 - accuracy: 0.8080 - val_loss: 0.3240 - val_accuracy: 0.8322\n"
     ]
    },
    {
     "data": {
      "text/plain": [
       "<tensorflow.python.keras.callbacks.History at 0x2d178f4b608>"
      ]
     },
     "execution_count": 12,
     "metadata": {},
     "output_type": "execute_result"
    }
   ],
   "source": [
    "input_size = 10\n",
    "output_size = 2\n",
    "hiddel_layer_size = 150\n",
    "\n",
    "model = tf.keras.Sequential([\n",
    "                            tf.keras.layers.Dense(hiddel_layer_size,activation='relu'),\n",
    "                            tf.keras.layers.Dense(hiddel_layer_size,activation='relu'),\n",
    "                            tf.keras.layers.Dense(hiddel_layer_size,activation='sigmoid'),\n",
    "                            tf.keras.layers.Dense(hiddel_layer_size,activation='sigmoid'),\n",
    "                            tf.keras.layers.Dense(output_size,activation='softmax')\n",
    "                            ])\n",
    "\n",
    "model.compile(optimizer='adam',loss='sparse_categorical_crossentropy',metrics=['accuracy'])\n",
    "\n",
    "batch_size = 100\n",
    "max_epochs = 100\n",
    "early_stopping = tf.keras.callbacks.EarlyStopping(patience=2)\n",
    "\n",
    "model.fit(train_inputs,\n",
    "          train_targets,\n",
    "         batch_size=batch_size,\n",
    "         epochs = max_epochs,\n",
    "         callbacks=[early_stopping],\n",
    "         validation_data = (validation_inputs,validation_targets),\n",
    "         verbose=2) "
   ]
  },
  {
   "cell_type": "markdown",
   "metadata": {},
   "source": [
    "## Test the model"
   ]
  },
  {
   "cell_type": "code",
   "execution_count": 21,
   "metadata": {},
   "outputs": [
    {
     "name": "stdout",
     "output_type": "stream",
     "text": [
      "Test loss: 0.32. Test accuracy: 82.37%\n"
     ]
    }
   ],
   "source": [
    "test_loss, test_accuracy = model.evaluate(test_inputs,test_targets,verbose=0)\n",
    "print('Test loss: {0:.2f}. Test accuracy: {1:.2f}%'.format(test_loss, test_accuracy*100.))"
   ]
  }
 ],
 "metadata": {
  "kernelspec": {
   "display_name": "Python [conda env:py3-TF2.0]",
   "language": "python",
   "name": "conda-env-py3-TF2.0-py"
  },
  "language_info": {
   "codemirror_mode": {
    "name": "ipython",
    "version": 3
   },
   "file_extension": ".py",
   "mimetype": "text/x-python",
   "name": "python",
   "nbconvert_exporter": "python",
   "pygments_lexer": "ipython3",
   "version": "3.7.6"
  }
 },
 "nbformat": 4,
 "nbformat_minor": 2
}
